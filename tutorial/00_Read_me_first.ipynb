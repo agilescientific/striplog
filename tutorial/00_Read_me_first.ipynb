{
 "cells": [
  {
   "cell_type": "markdown",
   "id": "compliant-wrist",
   "metadata": {},
   "source": [
    "# Read me first!\n",
    "\n",
    "Striplog provides lithology and stratigraphic logs for wells and outcrop.\n",
    "\n",
    "* Read [the first blog post about striplog](http://www.agilegeoscience.com/blog/2015/4/15/striplog)\n",
    "* Read [a more recent one](https://agilescientific.com/blog/2019/9/6/superpowers-for-striplogs)\n",
    "* [Another one, with a video](http://www.agilegeoscience.com/blog/2015/7/10/geophysics-at-scipy-2015)\n",
    "\n",
    "\n",
    "## Docs\n",
    "\n",
    "* [Read The Docs](https://striplog.readthedocs.io/en/latest/)\n",
    "\n",
    "\n",
    "## Tutorial notebooks\n",
    "\n",
    "* [01_Basics.ipynb](01_Basics.ipynb) — the best place to get started.\n",
    "* [02_Basic_objects.ipynb](02_Basic_objects.ipynb) — more about the basic objects in striplog.\n",
    "* [03_Display_objects.ipynb](03_Display_objects.ipynb) — the objects that control plotting.\n",
    "* [04_Beyond_basics.ipynb](04_Beyond_basics.ipynb) — going further into striplog.\n",
    "\n",
    "\n",
    "## More advanced notebooks\n",
    "\n",
    "* [10_Handling_curve_data.ipynb](10_Handling_curve_data.ipynb) — how to extract a well log into striplog intervals.\n",
    "* [11_Parsing_descriptions.ipynb](11_Parsing_descriptions.ipynb) — how to turn descriptions into Components.\n",
    "* [12_Moving_sand_proportion.ipynb](12_Moving_sand_proportion.ipynb) — an example of computing a property from a striplog.\n",
    "* [13_Binary_morphologies.ipynb](13_Binary_morphologies.ipynb) — some operations you can do on binary striplogs.\n",
    "* [14_Merge.ipynb](14_Merge.ipynb) — various ways to merge striplogs.\n",
    "* [15_Markov_chains.ipynb](15_Markov_chains.ipynb) — Markov chains can be a useful way to analyse sequences.\n",
    "* [16_Blocked_logs.ipynb](16_Blocked_logs.ipynb) — blocking logs using striplog."
   ]
  },
  {
   "cell_type": "markdown",
   "id": "czech-positive",
   "metadata": {},
   "source": [
    "---\n",
    "\n",
    "&copy; 2021 Agile Scientific, licenced CC BY"
   ]
  }
 ],
 "metadata": {
  "kernelspec": {
   "display_name": "welly",
   "language": "python",
   "name": "welly"
  },
  "language_info": {
   "codemirror_mode": {
    "name": "ipython",
    "version": 3
   },
   "file_extension": ".py",
   "mimetype": "text/x-python",
   "name": "python",
   "nbconvert_exporter": "python",
   "pygments_lexer": "ipython3",
   "version": "3.9.1"
  }
 },
 "nbformat": 4,
 "nbformat_minor": 5
}
