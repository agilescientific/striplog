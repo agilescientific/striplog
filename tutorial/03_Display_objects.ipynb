{
 "cells": [
  {
   "cell_type": "markdown",
   "metadata": {
    "internals": {
     "slide_type": "subslide"
    },
    "slideshow": {
     "slide_type": "slide"
    }
   },
   "source": [
    "# Display objects"
   ]
  },
  {
   "cell_type": "markdown",
   "metadata": {
    "internals": {},
    "slideshow": {
     "slide_type": "-"
    }
   },
   "source": [
    "A `striplog` depends on a hierarchy of objects. This notebook shows the objects related to display:\n",
    "\n",
    "- [Decor](#Decor): One element from a legend — describes how to display a Rock.\n",
    "- [Legend](#Legend): A set of Decors — describes how to display a set of Rocks or a Striplog."
   ]
  },
  {
   "cell_type": "markdown",
   "metadata": {
    "internals": {},
    "slideshow": {
     "slide_type": "-"
    }
   },
   "source": [
    "<hr />"
   ]
  },
  {
   "cell_type": "markdown",
   "metadata": {
    "internals": {},
    "slideshow": {
     "slide_type": "-"
    }
   },
   "source": [
    "## Decor"
   ]
  },
  {
   "cell_type": "code",
   "execution_count": 1,
   "metadata": {
    "internals": {},
    "slideshow": {
     "slide_type": "-"
    }
   },
   "outputs": [],
   "source": [
    "from striplog import Decor"
   ]
  },
  {
   "cell_type": "markdown",
   "metadata": {
    "internals": {},
    "slideshow": {
     "slide_type": "-"
    }
   },
   "source": [
    "A Decor attaches a display style to a Rock. "
   ]
  },
  {
   "cell_type": "code",
   "execution_count": 2,
   "metadata": {
    "internals": {},
    "slideshow": {
     "slide_type": "-"
    }
   },
   "outputs": [
    {
     "name": "stdout",
     "output_type": "stream",
     "text": [
      "\n",
      "    A single display style. A Decor describes how to display a given set\n",
      "    of Component properties.\n",
      "\n",
      "    In general, you will not usually use a Decor on its own. Instead, you\n",
      "    will want to use a Legend, which is just a list of Decors, and leave\n",
      "    the Decors to the Legend.\n",
      "\n",
      "    Args:\n",
      "      params (dict): The parameters you want in the Decor. There must be a\n",
      "        Component to attach the decoration to, and at least 1 other attribute.\n",
      "        It's completely up to you, but you probably want at least a colour\n",
      "        (hex names like #AAA or #d3d3d3, or matplotlib's English-language\n",
      "        names listed at http://ageo.co/modelrcolour are acceptable.\n",
      "\n",
      "        The only other parameter the class recognizes for now is 'width',\n",
      "        which is the width of the striplog element.\n",
      "\n",
      "    Example:\n",
      "      my_rock = Component({ ... })\n",
      "      d = {'component': my_rock, 'colour': 'red'}\n",
      "      my_decor = Decor(d)\n",
      "    \n"
     ]
    }
   ],
   "source": [
    "print(Decor.__doc__)"
   ]
  },
  {
   "cell_type": "markdown",
   "metadata": {
    "internals": {},
    "slideshow": {
     "slide_type": "-"
    }
   },
   "source": [
    "We are going to need a `Component` to make a `Decor`."
   ]
  },
  {
   "cell_type": "code",
   "execution_count": 3,
   "metadata": {
    "internals": {},
    "slideshow": {
     "slide_type": "-"
    }
   },
   "outputs": [
    {
     "data": {
      "text/html": [
       "<table><tr><td><strong>colour</strong></td><td>grey</td></tr><tr><td><strong>grainsize</strong></td><td>vf-f</td></tr><tr><td><strong>lithology</strong></td><td>sand</td></tr><tr><td><strong>porosity</strong></td><td>0.123</td></tr></table>"
      ],
      "text/plain": [
       "Component({'colour': 'grey', 'grainsize': 'vf-f', 'lithology': 'sand', 'porosity': 0.123})"
      ]
     },
     "execution_count": 3,
     "metadata": {},
     "output_type": "execute_result"
    }
   ],
   "source": [
    "from striplog import Component\n",
    "r = {'colour': 'grey',\n",
    "     'grainsize': 'vf-f',\n",
    "     'lithology': 'sand',\n",
    "     'porosity': 0.123\n",
    "    }\n",
    "rock = Component(r)\n",
    "rock"
   ]
  },
  {
   "cell_type": "code",
   "execution_count": 4,
   "metadata": {
    "internals": {},
    "slideshow": {
     "slide_type": "-"
    }
   },
   "outputs": [
    {
     "data": {
      "text/html": [
       "<table><tr><td><strong>colour</strong></td><td style=\"color:#ffffff; background-color:#267022\">#267022</td></tr><tr><td><strong>component</strong></td><td style=\"color:black; background-color:white\"><table><tr><td><strong>colour</strong></td><td>grey</td></tr><tr><td><strong>grainsize</strong></td><td>vf-f</td></tr><tr><td><strong>lithology</strong></td><td>sand</td></tr><tr><td><strong>porosity</strong></td><td>0.123</td></tr></table></td></tr><tr><td><strong>width</strong></td><td style=\"color:black; background-color:white\">3.0</td></tr><tr><td><strong>hatch</strong></td><td style=\"color:black; background-color:white\">None</td></tr></table>"
      ],
      "text/plain": [
       "Decor({'_colour': '#267022', 'component': Component({'colour': 'grey', 'grainsize': 'vf-f', 'lithology': 'sand', 'porosity': 0.123}), 'width': 3.0, 'hatch': None})"
      ]
     },
     "execution_count": 4,
     "metadata": {},
     "output_type": "execute_result"
    }
   ],
   "source": [
    "d = {'color': '#267022',\n",
    "     'component': rock,\n",
    "     'width': 3}\n",
    "decor = Decor(d)\n",
    "decor"
   ]
  },
  {
   "cell_type": "code",
   "execution_count": 5,
   "metadata": {
    "internals": {},
    "slideshow": {
     "slide_type": "-"
    }
   },
   "outputs": [
    {
     "data": {
      "text/html": [
       "<table><tr><td><strong>colour</strong></td><td>grey</td></tr><tr><td><strong>grainsize</strong></td><td>vf-f</td></tr><tr><td><strong>lithology</strong></td><td>sand</td></tr><tr><td><strong>porosity</strong></td><td>0.123</td></tr></table>"
      ],
      "text/plain": [
       "Component({'colour': 'grey', 'grainsize': 'vf-f', 'lithology': 'sand', 'porosity': 0.123})"
      ]
     },
     "execution_count": 5,
     "metadata": {},
     "output_type": "execute_result"
    }
   ],
   "source": [
    "from striplog import Component\n",
    "r = {'colour': 'grey',\n",
    "     'grainsize': 'vf-f',\n",
    "     'lithology': 'sand',\n",
    "     'porosity': 0.123\n",
    "    }\n",
    "rock = Component(r)\n",
    "rock"
   ]
  },
  {
   "cell_type": "markdown",
   "metadata": {
    "internals": {},
    "slideshow": {
     "slide_type": "-"
    }
   },
   "source": [
    "Like `Rock`s, we instantiate `Decor`s with a `dict` of properties:"
   ]
  },
  {
   "cell_type": "code",
   "execution_count": 6,
   "metadata": {
    "internals": {},
    "slideshow": {
     "slide_type": "-"
    }
   },
   "outputs": [
    {
     "data": {
      "text/html": [
       "<table><tr><td><strong>colour</strong></td><td style=\"color:#ffffff; background-color:#267022\">#267022</td></tr><tr><td><strong>component</strong></td><td style=\"color:black; background-color:white\"><table><tr><td><strong>colour</strong></td><td>grey</td></tr><tr><td><strong>grainsize</strong></td><td>vf-f</td></tr><tr><td><strong>lithology</strong></td><td>sand</td></tr><tr><td><strong>porosity</strong></td><td>0.123</td></tr></table></td></tr><tr><td><strong>width</strong></td><td style=\"color:black; background-color:white\">3.0</td></tr><tr><td><strong>hatch</strong></td><td style=\"color:black; background-color:white\">None</td></tr></table>"
      ],
      "text/plain": [
       "Decor({'_colour': '#267022', 'component': Component({'colour': 'grey', 'grainsize': 'vf-f', 'lithology': 'sand', 'porosity': 0.123}), 'width': 3.0, 'hatch': None})"
      ]
     },
     "execution_count": 6,
     "metadata": {},
     "output_type": "execute_result"
    }
   ],
   "source": [
    "d = {'color': '#267022',\n",
    "     'component': rock,\n",
    "     'width': 3}\n",
    "decor = Decor(d)\n",
    "decor"
   ]
  },
  {
   "cell_type": "markdown",
   "metadata": {
    "internals": {},
    "slideshow": {
     "slide_type": "-"
    }
   },
   "source": [
    "Or instantiate with keyword parameters:"
   ]
  },
  {
   "cell_type": "code",
   "execution_count": 7,
   "metadata": {
    "internals": {},
    "slideshow": {
     "slide_type": "-"
    }
   },
   "outputs": [
    {
     "data": {
      "text/html": [
       "<table><tr><td><strong>colour</strong></td><td style=\"color:#000000; background-color:#86f0b6\">#86f0b6</td></tr><tr><td><strong>component</strong></td><td style=\"color:black; background-color:white\"><table><tr><td><strong>colour</strong></td><td>grey</td></tr><tr><td><strong>grainsize</strong></td><td>vf-f</td></tr><tr><td><strong>porosity</strong></td><td>0.123</td></tr><tr><td><strong>lithology</strong></td><td>sand</td></tr></table></td></tr><tr><td><strong>width</strong></td><td style=\"color:black; background-color:white\">3.0</td></tr><tr><td><strong>hatch</strong></td><td style=\"color:black; background-color:white\">None</td></tr></table>"
      ],
      "text/plain": [
       "Decor({'_colour': '#86f0b6', 'component': Component({'colour': 'grey', 'grainsize': 'vf-f', 'porosity': 0.123, 'lithology': 'sand'}), 'width': 3.0, 'hatch': None})"
      ]
     },
     "execution_count": 7,
     "metadata": {},
     "output_type": "execute_result"
    }
   ],
   "source": [
    "Decor(colour='#86f0b6', component=Component({'colour': 'grey', 'grainsize': 'vf-f', 'porosity': 0.123, 'lithology': 'sand'}), width=3.0)"
   ]
  },
  {
   "cell_type": "markdown",
   "metadata": {
    "internals": {},
    "slideshow": {
     "slide_type": "-"
    }
   },
   "source": [
    "You can access its attributes. It has two ways to understand colour:"
   ]
  },
  {
   "cell_type": "code",
   "execution_count": 8,
   "metadata": {
    "internals": {},
    "slideshow": {
     "slide_type": "-"
    }
   },
   "outputs": [
    {
     "name": "stdout",
     "output_type": "stream",
     "text": [
      "Hex: #267022... and RGB: (38, 112, 34)\n"
     ]
    }
   ],
   "source": [
    "print(\"Hex: {}... and RGB: {}\".format(decor.colour, decor.rgb))"
   ]
  },
  {
   "cell_type": "code",
   "execution_count": 9,
   "metadata": {
    "internals": {},
    "slideshow": {
     "slide_type": "-"
    }
   },
   "outputs": [
    {
     "name": "stdout",
     "output_type": "stream",
     "text": [
      "Decor({'_colour': '#267022', 'component': Component({'colour': 'grey', 'grainsize': 'vf-f', 'lithology': 'sand', 'porosity': 0.123}), 'width': 3.0, 'hatch': None})\n"
     ]
    }
   ],
   "source": [
    "print(decor)"
   ]
  },
  {
   "cell_type": "code",
   "execution_count": 10,
   "metadata": {
    "internals": {},
    "slideshow": {
     "slide_type": "-"
    }
   },
   "outputs": [
    {
     "data": {
      "image/png": "[encoded data removed]",
      "text/plain": [
       "<Figure size 288x72 with 1 Axes>"
      ]
     },
     "metadata": {
      "needs_background": "light"
     },
     "output_type": "display_data"
    }
   ],
   "source": [
    "%matplotlib inline\n",
    "decor.plot()"
   ]
  },
  {
   "cell_type": "code",
   "execution_count": 11,
   "metadata": {},
   "outputs": [
    {
     "data": {
      "image/png": "[encoded data removed]",
      "text/plain": [
       "<Figure size 288x72 with 1 Axes>"
      ]
     },
     "metadata": {
      "needs_background": "light"
     },
     "output_type": "display_data"
    }
   ],
   "source": [
    "decor.hatch = '+'\n",
    "decor.plot()"
   ]
  },
  {
   "cell_type": "markdown",
   "metadata": {},
   "source": [
    "There are the standard `matplotlib` hatch patterns:"
   ]
  },
  {
   "cell_type": "code",
   "execution_count": 12,
   "metadata": {},
   "outputs": [
    {
     "data": {
      "image/png": "[encoded data removed]",
      "text/plain": [
       "<Figure size 288x72 with 1 Axes>"
      ]
     },
     "metadata": {
      "needs_background": "light"
     },
     "output_type": "display_data"
    },
    {
     "data": {
      "image/png": "[encoded data removed]",
      "text/plain": [
       "<Figure size 288x72 with 1 Axes>"
      ]
     },
     "metadata": {
      "needs_background": "light"
     },
     "output_type": "display_data"
    },
    {
     "data": {
      "image/png": "[encoded data removed]",
      "text/plain": [
       "<Figure size 288x72 with 1 Axes>"
      ]
     },
     "metadata": {
      "needs_background": "light"
     },
     "output_type": "display_data"
    },
    {
     "data": {
      "image/png": "[encoded data removed]",
      "text/plain": [
       "<Figure size 288x72 with 1 Axes>"
      ]
     },
     "metadata": {
      "needs_background": "light"
     },
     "output_type": "display_data"
    },
    {
     "data": {
      "image/png": "[encoded data removed]",
      "text/plain": [
       "<Figure size 288x72 with 1 Axes>"
      ]
     },
     "metadata": {
      "needs_background": "light"
     },
     "output_type": "display_data"
    },
    {
     "data": {
      "image/png": "[encoded data removed]",
      "text/plain": [
       "<Figure size 288x72 with 1 Axes>"
      ]
     },
     "metadata": {
      "needs_background": "light"
     },
     "output_type": "display_data"
    },
    {
     "data": {
      "image/png": "[encoded data removed]",
      "text/plain": [
       "<Figure size 288x72 with 1 Axes>"
      ]
     },
     "metadata": {
      "needs_background": "light"
     },
     "output_type": "display_data"
    },
    {
     "data": {
      "image/png": "[encoded data removed]",
      "text/plain": [
       "<Figure size 288x72 with 1 Axes>"
      ]
     },
     "metadata": {
      "needs_background": "light"
     },
     "output_type": "display_data"
    },
    {
     "data": {
      "image/png": "[encoded data removed]",
      "text/plain": [
       "<Figure size 288x72 with 1 Axes>"
      ]
     },
     "metadata": {
      "needs_background": "light"
     },
     "output_type": "display_data"
    }
   ],
   "source": [
    "hatches = \"\\/|+x-.o*\"\n",
    "for h in hatches:\n",
    "    Decor({'component': Component({'hatch':h}), 'hatch': h, 'colour': '#eeeeee'}).plot()"
   ]
  },
  {
   "cell_type": "markdown",
   "metadata": {},
   "source": [
    "And there are some custom ones. These really need to be reconciled and implemented in a more flexible way, perhaps even going as far as a redesign of the mpl implementation."
   ]
  },
  {
   "cell_type": "code",
   "execution_count": 13,
   "metadata": {
    "scrolled": false
   },
   "outputs": [
    {
     "data": {
      "image/png": "[encoded data removed]",
      "text/plain": [
       "<Figure size 288x72 with 1 Axes>"
      ]
     },
     "metadata": {
      "needs_background": "light"
     },
     "output_type": "display_data"
    },
    {
     "data": {
      "image/png": "[encoded data removed]",
      "text/plain": [
       "<Figure size 288x72 with 1 Axes>"
      ]
     },
     "metadata": {
      "needs_background": "light"
     },
     "output_type": "display_data"
    },
    {
     "data": {
      "image/png": "[encoded data removed]",
      "text/plain": [
       "<Figure size 288x72 with 1 Axes>"
      ]
     },
     "metadata": {
      "needs_background": "light"
     },
     "output_type": "display_data"
    },
    {
     "data": {
      "image/png": "[encoded data removed]",
      "text/plain": [
       "<Figure size 288x72 with 1 Axes>"
      ]
     },
     "metadata": {
      "needs_background": "light"
     },
     "output_type": "display_data"
    },
    {
     "data": {
      "image/png": "[encoded data removed]",
      "text/plain": [
       "<Figure size 288x72 with 1 Axes>"
      ]
     },
     "metadata": {
      "needs_background": "light"
     },
     "output_type": "display_data"
    },
    {
     "data": {
      "image/png": "[encoded data removed]",
      "text/plain": [
       "<Figure size 288x72 with 1 Axes>"
      ]
     },
     "metadata": {
      "needs_background": "light"
     },
     "output_type": "display_data"
    },
    {
     "data": {
      "image/png": "[encoded data removed]",
      "text/plain": [
       "<Figure size 288x72 with 1 Axes>"
      ]
     },
     "metadata": {
      "needs_background": "light"
     },
     "output_type": "display_data"
    },
    {
     "data": {
      "image/png": "[encoded data removed]",
      "text/plain": [
       "<Figure size 288x72 with 1 Axes>"
      ]
     },
     "metadata": {
      "needs_background": "light"
     },
     "output_type": "display_data"
    },
    {
     "data": {
      "image/png": "[encoded data removed]",
      "text/plain": [
       "<Figure size 288x72 with 1 Axes>"
      ]
     },
     "metadata": {
      "needs_background": "light"
     },
     "output_type": "display_data"
    },
    {
     "data": {
      "image/png": "[encoded data removed]",
      "text/plain": [
       "<Figure size 288x72 with 1 Axes>"
      ]
     },
     "metadata": {
      "needs_background": "light"
     },
     "output_type": "display_data"
    }
   ],
   "source": [
    "hatches = \"pctLbs!=v^\"\n",
    "for h in hatches:\n",
    "    Decor({'component': Component({'hatch':h}), 'hatch': h, 'colour': '#eeeeee'}).plot(fmt=\"{hatch}\")"
   ]
  },
  {
   "cell_type": "markdown",
   "metadata": {},
   "source": [
    "We can disaply hatches in a single plot for quick reference:"
   ]
  },
  {
   "cell_type": "code",
   "execution_count": 14,
   "metadata": {},
   "outputs": [
    {
     "data": {
      "image/png": "[encoded data removed]",
      "text/plain": [
       "<Figure size 1152x378 with 30 Axes>"
      ]
     },
     "metadata": {
      "needs_background": "light"
     },
     "output_type": "display_data"
    }
   ],
   "source": [
    "import matplotlib.pyplot as plt\n",
    "\n",
    "hatches = ['.', '..', 'o', 'p', 'c', '*', '-', '--', '=', '==', '|',\n",
    "            '||', '!', '!!', '+', '++', '/', '\\\\', '//', '\\\\\\\\', '///',\n",
    "            '\\\\\\\\\\\\', 'x', 'xx', '^', 'v', 't', 'l', 'b', 's']\n",
    "\n",
    "fig, axs = plt.subplots(figsize=(16,5.25), ncols=10, nrows=3)\n",
    "fig.subplots_adjust(hspace=0.5)\n",
    "\n",
    "for ax, h in zip(axs.flatten(), hatches):\n",
    "    ax.set_title(h)\n",
    "    Decor(colour='#eeeeee', \n",
    "          component=Component({'hatch': h}), \n",
    "          hatch=h).plot(fmt='', ax=ax)"
   ]
  },
  {
   "cell_type": "markdown",
   "metadata": {
    "internals": {},
    "slideshow": {
     "slide_type": "-"
    }
   },
   "source": [
    "<hr />"
   ]
  },
  {
   "cell_type": "markdown",
   "metadata": {
    "internals": {},
    "slideshow": {
     "slide_type": "-"
    }
   },
   "source": [
    "## Legend"
   ]
  },
  {
   "cell_type": "code",
   "execution_count": 15,
   "metadata": {
    "internals": {},
    "slideshow": {
     "slide_type": "-"
    }
   },
   "outputs": [
    {
     "name": "stdout",
     "output_type": "stream",
     "text": [
      "\n",
      "    A look-up table to assist in the conversion of Components to\n",
      "    a plot colour.\n",
      "\n",
      "    Args:\n",
      "        list_of_Decors (list): The decors to collect into a legend. In\n",
      "            general, you will want to leave legend building to the constructor\n",
      "            class methods, `Legend.default()`, and\n",
      "            `Legend.from_csv(text=string)`. We can add others over time, such\n",
      "            as `from_xls` and so on.\n",
      "    \n"
     ]
    }
   ],
   "source": [
    "from striplog import Legend\n",
    "print(Legend.__doc__)"
   ]
  },
  {
   "cell_type": "markdown",
   "metadata": {
    "internals": {},
    "slideshow": {
     "slide_type": "-"
    }
   },
   "source": [
    "We'll define a legend in a CSV file. I can't think of a better way for now. It would be easy to make a web form to facilitate this with, for example, a colour picker. It may not be worth it, though; I imagine one would create one and then leave it alone most of the time. "
   ]
  },
  {
   "cell_type": "code",
   "execution_count": 16,
   "metadata": {
    "internals": {},
    "slideshow": {
     "slide_type": "-"
    }
   },
   "outputs": [],
   "source": [
    "l = u\"\"\"colour, width, component lithology, component colour, component grainsize\n",
    "#F7E9A6, 3, Sandstone, Grey, VF-F\n",
    "#FF99CC, 2, Anhydrite, , \n",
    "#DBD6BC, 3, Heterolithic, Grey, \n",
    "#FF4C4A, 2, Volcanic, , \n",
    "#86F0B6, 5, Conglomerate, , \n",
    "#FF96F6, 2, Halite, , \n",
    "#F2FF42, 4, Sandstone, Grey, F-M\n",
    "#DBC9BC, 3, Heterolithic, Red, \n",
    "#A68374, 2, Siltstone, Grey, \n",
    "#A657FA, 3, Dolomite, , \n",
    "#FFD073, 4, Sandstone, Red, C-M\n",
    "#A6D1FF, 3, Limestone, , \n",
    "#FFDBBA, 3, Sandstone, Red, VF-F\n",
    "#FFE040, 4, Sandstone, Grey, C-M\n",
    "#A1655A, 2, Siltstone, Red, \n",
    "#363434, 1, Coal, , \n",
    "#664A4A, 1, Mudstone, Red, \n",
    "#666666, 1, Mudstone, Grey, \"\"\""
   ]
  },
  {
   "cell_type": "code",
   "execution_count": 17,
   "metadata": {
    "internals": {},
    "slideshow": {
     "slide_type": "-"
    }
   },
   "outputs": [
    {
     "data": {
      "text/html": [
       "<table><tr><th>colour</th><th>hatch</th><th>component</th><th>width</th></tr><tr><td style=\"color:#000000; background-color:#f7e9a6\">#f7e9a6</td><td style=\"color:black; background-color:white\">None</td><td style=\"color:black; background-color:white\"><table><tr><td><strong>lithology</strong></td><td>sandstone</td></tr><tr><td><strong>colour</strong></td><td>grey</td></tr><tr><td><strong>grainsize</strong></td><td>vf-f</td></tr></table></td><td style=\"color:black; background-color:white\">3.0</td></tr><tr><td style=\"color:#000000; background-color:#ff99cc\">#ff99cc</td><td style=\"color:black; background-color:white\">None</td><td style=\"color:black; background-color:white\"><table><tr><td><strong>lithology</strong></td><td>anhydrite</td></tr></table></td><td style=\"color:black; background-color:white\">2.0</td></tr><tr><td style=\"color:#000000; background-color:#dbd6bc\">#dbd6bc</td><td style=\"color:black; background-color:white\">None</td><td style=\"color:black; background-color:white\"><table><tr><td><strong>lithology</strong></td><td>heterolithic</td></tr><tr><td><strong>colour</strong></td><td>grey</td></tr></table></td><td style=\"color:black; background-color:white\">3.0</td></tr><tr><td style=\"color:#ffffff; background-color:#ff4c4a\">#ff4c4a</td><td style=\"color:black; background-color:white\">None</td><td style=\"color:black; background-color:white\"><table><tr><td><strong>lithology</strong></td><td>volcanic</td></tr></table></td><td style=\"color:black; background-color:white\">2.0</td></tr><tr><td style=\"color:#000000; background-color:#86f0b6\">#86f0b6</td><td style=\"color:black; background-color:white\">None</td><td style=\"color:black; background-color:white\"><table><tr><td><strong>lithology</strong></td><td>conglomerate</td></tr></table></td><td style=\"color:black; background-color:white\">5.0</td></tr></table>"
      ],
      "text/plain": [
       "Legend(Decor({'_colour': '#f7e9a6', 'width': 3.0, 'component': Component({'lithology': 'sandstone', 'colour': 'grey', 'grainsize': 'vf-f'}), 'hatch': None})\n",
       "Decor({'_colour': '#ff99cc', 'width': 2.0, 'component': Component({'lithology': 'anhydrite'}), 'hatch': None})\n",
       "Decor({'_colour': '#dbd6bc', 'width': 3.0, 'component': Component({'lithology': 'heterolithic', 'colour': 'grey'}), 'hatch': None})\n",
       "Decor({'_colour': '#ff4c4a', 'width': 2.0, 'component': Component({'lithology': 'volcanic'}), 'hatch': None})\n",
       "Decor({'_colour': '#86f0b6', 'width': 5.0, 'component': Component({'lithology': 'conglomerate'}), 'hatch': None}))"
      ]
     },
     "execution_count": 17,
     "metadata": {},
     "output_type": "execute_result"
    }
   ],
   "source": [
    "legend = Legend.from_csv(text=l)\n",
    "legend[:5]"
   ]
  },
  {
   "cell_type": "markdown",
   "metadata": {},
   "source": [
    "Duplicate lithologies will result in a warning. To avoid strange results, you should fix the problem by removing duplicates."
   ]
  },
  {
   "cell_type": "code",
   "execution_count": 18,
   "metadata": {},
   "outputs": [],
   "source": [
    "l = u\"\"\"colour, component lithology\n",
    "#F7E9A6, Sandstone\n",
    "#F2FF42, Sandstone\n",
    "#FF99CC, Anhydrite\n",
    "#DBD6BC, Heterolithic \n",
    "#FF4C4A, Volcanic\n",
    "#86F0B6, Conglomerate\n",
    "#FFD073, Sandstone\n",
    "\"\"\""
   ]
  },
  {
   "cell_type": "code",
   "execution_count": 19,
   "metadata": {},
   "outputs": [
    {
     "name": "stderr",
     "output_type": "stream",
     "text": [
      "/home/geodev/anaconda3/envs/geocomp/lib/python3.7/site-packages/striplog/legend.py:621: UserWarning: This legend contains duplicate components.\n",
      "  warnings.warn(w)\n",
      "/home/geodev/anaconda3/envs/geocomp/lib/python3.7/site-packages/striplog/legend.py:621: UserWarning: This legend contains duplicate components.\n",
      "  warnings.warn(w)\n"
     ]
    },
    {
     "data": {
      "text/html": [
       "<table><tr><th>colour</th><th>hatch</th><th>component</th><th>width</th></tr><tr><td style=\"color:#000000; background-color:#f7e9a6\">#f7e9a6</td><td style=\"color:black; background-color:white\">None</td><td style=\"color:black; background-color:white\"><table><tr><td><strong>lithology</strong></td><td>sandstone</td></tr></table></td><td style=\"color:black; background-color:white\">None</td></tr><tr><td style=\"color:#000000; background-color:#f2ff42\">#f2ff42</td><td style=\"color:black; background-color:white\">None</td><td style=\"color:black; background-color:white\"><table><tr><td><strong>lithology</strong></td><td>sandstone</td></tr></table></td><td style=\"color:black; background-color:white\">None</td></tr><tr><td style=\"color:#000000; background-color:#ff99cc\">#ff99cc</td><td style=\"color:black; background-color:white\">None</td><td style=\"color:black; background-color:white\"><table><tr><td><strong>lithology</strong></td><td>anhydrite</td></tr></table></td><td style=\"color:black; background-color:white\">None</td></tr><tr><td style=\"color:#000000; background-color:#dbd6bc\">#dbd6bc</td><td style=\"color:black; background-color:white\">None</td><td style=\"color:black; background-color:white\"><table><tr><td><strong>lithology</strong></td><td>heterolithic </td></tr></table></td><td style=\"color:black; background-color:white\">None</td></tr><tr><td style=\"color:#ffffff; background-color:#ff4c4a\">#ff4c4a</td><td style=\"color:black; background-color:white\">None</td><td style=\"color:black; background-color:white\"><table><tr><td><strong>lithology</strong></td><td>volcanic</td></tr></table></td><td style=\"color:black; background-color:white\">None</td></tr><tr><td style=\"color:#000000; background-color:#86f0b6\">#86f0b6</td><td style=\"color:black; background-color:white\">None</td><td style=\"color:black; background-color:white\"><table><tr><td><strong>lithology</strong></td><td>conglomerate</td></tr></table></td><td style=\"color:black; background-color:white\">None</td></tr><tr><td style=\"color:#000000; background-color:#ffd073\">#ffd073</td><td style=\"color:black; background-color:white\">None</td><td style=\"color:black; background-color:white\"><table><tr><td><strong>lithology</strong></td><td>sandstone</td></tr></table></td><td style=\"color:black; background-color:white\">None</td></tr></table>"
      ],
      "text/plain": [
       "Legend(Decor({'_colour': '#f7e9a6', 'component': Component({'lithology': 'sandstone'}), 'width': None, 'hatch': None})\n",
       "Decor({'_colour': '#f2ff42', 'component': Component({'lithology': 'sandstone'}), 'width': None, 'hatch': None})\n",
       "Decor({'_colour': '#ff99cc', 'component': Component({'lithology': 'anhydrite'}), 'width': None, 'hatch': None})\n",
       "Decor({'_colour': '#dbd6bc', 'component': Component({'lithology': 'heterolithic '}), 'width': None, 'hatch': None})\n",
       "Decor({'_colour': '#ff4c4a', 'component': Component({'lithology': 'volcanic'}), 'width': None, 'hatch': None})\n",
       "Decor({'_colour': '#86f0b6', 'component': Component({'lithology': 'conglomerate'}), 'width': None, 'hatch': None})\n",
       "Decor({'_colour': '#ffd073', 'component': Component({'lithology': 'sandstone'}), 'width': None, 'hatch': None}))"
      ]
     },
     "execution_count": 19,
     "metadata": {},
     "output_type": "execute_result"
    }
   ],
   "source": [
    "Legend.from_csv(text=l)"
   ]
  },
  {
   "cell_type": "markdown",
   "metadata": {},
   "source": [
    "We can also export a legend as CSV text:"
   ]
  },
  {
   "cell_type": "code",
   "execution_count": 20,
   "metadata": {
    "internals": {},
    "slideshow": {
     "slide_type": "-"
    }
   },
   "outputs": [
    {
     "name": "stdout",
     "output_type": "stream",
     "text": [
      "colour,hatch,width,component lithology,component colour,component grainsize\n",
      "#f7e9a6,None,3.0,sandstone,grey,vf-f,\n",
      "#ff99cc,None,2.0,anhydrite,,,\n",
      "#dbd6bc,None,3.0,heterolithic,grey,,\n",
      "#ff4c4a,None,2.0,volcanic,,,\n",
      "#86f0b6,None,5.0,conglomerate,,,\n",
      "#ff96f6,None,2.0,halite,,,\n",
      "#f2ff42,None,4.0,sandstone,grey,f-m,\n",
      "#dbc9bc,None,3.0,heterolithic,red,,\n",
      "#a68374,None,2.0,siltstone,grey,,\n",
      "#a657fa,None,3.0,dolomite,,,\n",
      "#ffd073,None,4.0,sandstone,red,c-m,\n",
      "#a6d1ff,None,3.0,limestone,,,\n",
      "#ffdbba,None,3.0,sandstone,red,vf-f,\n",
      "#ffe040,None,4.0,sandstone,grey,c-m,\n",
      "#a1655a,None,2.0,siltstone,red,,\n",
      "#363434,None,1.0,coal,,,\n",
      "#664a4a,None,1.0,mudstone,red,,\n",
      "#666666,None,1.0,mudstone,grey,,\n",
      "\n"
     ]
    }
   ],
   "source": [
    "print(legend.to_csv())"
   ]
  },
  {
   "cell_type": "markdown",
   "metadata": {
    "internals": {},
    "slideshow": {
     "slide_type": "-"
    }
   },
   "source": [
    "## Builtin legends\n",
    "\n",
    "There are several: \n",
    "\n",
    "    'nsdoe': Nova Scotia Dept. of Energy\n",
    "    'nagmdm__6_2': USGS N. Am. Geol. Map Data Model 6.2 <<< default\n",
    "    'nagmdm__6_1': USGS N. Am. Geol. Map Data Model 6.1\n",
    "    'nagmdm__4_3': USGS N. Am. Geol. Map Data Model 4.3\n",
    "    'sgmc': USGS State Geologic Map Compilation"
   ]
  },
  {
   "cell_type": "code",
   "execution_count": 21,
   "metadata": {
    "internals": {},
    "scrolled": true,
    "slideshow": {
     "slide_type": "-"
    }
   },
   "outputs": [
    {
     "data": {
      "text/html": [
       "<table><tr><th>colour</th><th>hatch</th><th>component</th><th>width</th></tr><tr><td style=\"color:#000000; background-color:#f7e9a6\">#f7e9a6</td><td style=\"color:black; background-color:white\">None</td><td style=\"color:black; background-color:white\"><table><tr><td><strong>lithology</strong></td><td>sandstone</td></tr><tr><td><strong>colour</strong></td><td>grey</td></tr><tr><td><strong>grainsize</strong></td><td>vf-f</td></tr></table></td><td style=\"color:black; background-color:white\">3.0</td></tr><tr><td style=\"color:#000000; background-color:#ff99cc\">#ff99cc</td><td style=\"color:black; background-color:white\">None</td><td style=\"color:black; background-color:white\"><table><tr><td><strong>lithology</strong></td><td>anhydrite</td></tr></table></td><td style=\"color:black; background-color:white\">2.0</td></tr><tr><td style=\"color:#000000; background-color:#dbd6bc\">#dbd6bc</td><td style=\"color:black; background-color:white\">None</td><td style=\"color:black; background-color:white\"><table><tr><td><strong>lithology</strong></td><td>heterolithic</td></tr><tr><td><strong>colour</strong></td><td>grey</td></tr></table></td><td style=\"color:black; background-color:white\">3.0</td></tr><tr><td style=\"color:#ffffff; background-color:#ff4c4a\">#ff4c4a</td><td style=\"color:black; background-color:white\">None</td><td style=\"color:black; background-color:white\"><table><tr><td><strong>lithology</strong></td><td>volcanic</td></tr></table></td><td style=\"color:black; background-color:white\">2.0</td></tr><tr><td style=\"color:#000000; background-color:#86f0b6\">#86f0b6</td><td style=\"color:black; background-color:white\">None</td><td style=\"color:black; background-color:white\"><table><tr><td><strong>lithology</strong></td><td>conglomerate</td></tr></table></td><td style=\"color:black; background-color:white\">5.0</td></tr><tr><td style=\"color:#000000; background-color:#ff96f6\">#ff96f6</td><td style=\"color:black; background-color:white\">None</td><td style=\"color:black; background-color:white\"><table><tr><td><strong>lithology</strong></td><td>halite</td></tr></table></td><td style=\"color:black; background-color:white\">2.0</td></tr><tr><td style=\"color:#000000; background-color:#f2ff42\">#f2ff42</td><td style=\"color:black; background-color:white\">None</td><td style=\"color:black; background-color:white\"><table><tr><td><strong>lithology</strong></td><td>sandstone</td></tr><tr><td><strong>colour</strong></td><td>grey</td></tr><tr><td><strong>grainsize</strong></td><td>f-m</td></tr></table></td><td style=\"color:black; background-color:white\">4.0</td></tr><tr><td style=\"color:#000000; background-color:#dbc9bc\">#dbc9bc</td><td style=\"color:black; background-color:white\">None</td><td style=\"color:black; background-color:white\"><table><tr><td><strong>lithology</strong></td><td>heterolithic</td></tr><tr><td><strong>colour</strong></td><td>red</td></tr></table></td><td style=\"color:black; background-color:white\">3.0</td></tr><tr><td style=\"color:#000000; background-color:#a68374\">#a68374</td><td style=\"color:black; background-color:white\">None</td><td style=\"color:black; background-color:white\"><table><tr><td><strong>lithology</strong></td><td>siltstone</td></tr><tr><td><strong>colour</strong></td><td>grey</td></tr></table></td><td style=\"color:black; background-color:white\">2.0</td></tr><tr><td style=\"color:#ffffff; background-color:#a657fa\">#a657fa</td><td style=\"color:black; background-color:white\">None</td><td style=\"color:black; background-color:white\"><table><tr><td><strong>lithology</strong></td><td>dolomite</td></tr></table></td><td style=\"color:black; background-color:white\">3.0</td></tr><tr><td style=\"color:#000000; background-color:#ffd073\">#ffd073</td><td style=\"color:black; background-color:white\">None</td><td style=\"color:black; background-color:white\"><table><tr><td><strong>lithology</strong></td><td>sandstone</td></tr><tr><td><strong>colour</strong></td><td>red</td></tr><tr><td><strong>grainsize</strong></td><td>c-m</td></tr></table></td><td style=\"color:black; background-color:white\">4.0</td></tr><tr><td style=\"color:#000000; background-color:#a6d1ff\">#a6d1ff</td><td style=\"color:black; background-color:white\">None</td><td style=\"color:black; background-color:white\"><table><tr><td><strong>lithology</strong></td><td>limestone</td></tr></table></td><td style=\"color:black; background-color:white\">3.0</td></tr><tr><td style=\"color:#000000; background-color:#ffdbba\">#ffdbba</td><td style=\"color:black; background-color:white\">None</td><td style=\"color:black; background-color:white\"><table><tr><td><strong>lithology</strong></td><td>sandstone</td></tr><tr><td><strong>colour</strong></td><td>red</td></tr><tr><td><strong>grainsize</strong></td><td>vf-f</td></tr></table></td><td style=\"color:black; background-color:white\">3.0</td></tr><tr><td style=\"color:#000000; background-color:#ffe040\">#ffe040</td><td style=\"color:black; background-color:white\">None</td><td style=\"color:black; background-color:white\"><table><tr><td><strong>lithology</strong></td><td>sandstone</td></tr><tr><td><strong>colour</strong></td><td>grey</td></tr><tr><td><strong>grainsize</strong></td><td>c-m</td></tr></table></td><td style=\"color:black; background-color:white\">4.0</td></tr><tr><td style=\"color:#ffffff; background-color:#a1655a\">#a1655a</td><td style=\"color:black; background-color:white\">None</td><td style=\"color:black; background-color:white\"><table><tr><td><strong>lithology</strong></td><td>siltstone</td></tr><tr><td><strong>colour</strong></td><td>red</td></tr></table></td><td style=\"color:black; background-color:white\">2.0</td></tr><tr><td style=\"color:#ffffff; background-color:#363434\">#363434</td><td style=\"color:black; background-color:white\">None</td><td style=\"color:black; background-color:white\"><table><tr><td><strong>lithology</strong></td><td>coal</td></tr></table></td><td style=\"color:black; background-color:white\">1.0</td></tr><tr><td style=\"color:#ffffff; background-color:#664a4a\">#664a4a</td><td style=\"color:black; background-color:white\">None</td><td style=\"color:black; background-color:white\"><table><tr><td><strong>lithology</strong></td><td>mudstone</td></tr><tr><td><strong>colour</strong></td><td>red</td></tr></table></td><td style=\"color:black; background-color:white\">1.0</td></tr><tr><td style=\"color:#ffffff; background-color:#666666\">#666666</td><td style=\"color:black; background-color:white\">None</td><td style=\"color:black; background-color:white\"><table><tr><td><strong>lithology</strong></td><td>mudstone</td></tr><tr><td><strong>colour</strong></td><td>grey</td></tr></table></td><td style=\"color:black; background-color:white\">1.0</td></tr></table>"
      ],
      "text/plain": [
       "Legend(Decor({'_colour': '#f7e9a6', 'width': 3.0, 'component': Component({'lithology': 'sandstone', 'colour': 'grey', 'grainsize': 'vf-f'}), 'hatch': None})\n",
       "Decor({'_colour': '#ff99cc', 'width': 2.0, 'component': Component({'lithology': 'anhydrite'}), 'hatch': None})\n",
       "Decor({'_colour': '#dbd6bc', 'width': 3.0, 'component': Component({'lithology': 'heterolithic', 'colour': 'grey'}), 'hatch': None})\n",
       "Decor({'_colour': '#ff4c4a', 'width': 2.0, 'component': Component({'lithology': 'volcanic'}), 'hatch': None})\n",
       "Decor({'_colour': '#86f0b6', 'width': 5.0, 'component': Component({'lithology': 'conglomerate'}), 'hatch': None})\n",
       "Decor({'_colour': '#ff96f6', 'width': 2.0, 'component': Component({'lithology': 'halite'}), 'hatch': None})\n",
       "Decor({'_colour': '#f2ff42', 'width': 4.0, 'component': Component({'lithology': 'sandstone', 'colour': 'grey', 'grainsize': 'f-m'}), 'hatch': None})\n",
       "Decor({'_colour': '#dbc9bc', 'width': 3.0, 'component': Component({'lithology': 'heterolithic', 'colour': 'red'}), 'hatch': None})\n",
       "Decor({'_colour': '#a68374', 'width': 2.0, 'component': Component({'lithology': 'siltstone', 'colour': 'grey'}), 'hatch': None})\n",
       "Decor({'_colour': '#a657fa', 'width': 3.0, 'component': Component({'lithology': 'dolomite'}), 'hatch': None})\n",
       "Decor({'_colour': '#ffd073', 'width': 4.0, 'component': Component({'lithology': 'sandstone', 'colour': 'red', 'grainsize': 'c-m'}), 'hatch': None})\n",
       "Decor({'_colour': '#a6d1ff', 'width': 3.0, 'component': Component({'lithology': 'limestone'}), 'hatch': None})\n",
       "Decor({'_colour': '#ffdbba', 'width': 3.0, 'component': Component({'lithology': 'sandstone', 'colour': 'red', 'grainsize': 'vf-f'}), 'hatch': None})\n",
       "Decor({'_colour': '#ffe040', 'width': 4.0, 'component': Component({'lithology': 'sandstone', 'colour': 'grey', 'grainsize': 'c-m'}), 'hatch': None})\n",
       "Decor({'_colour': '#a1655a', 'width': 2.0, 'component': Component({'lithology': 'siltstone', 'colour': 'red'}), 'hatch': None})\n",
       "Decor({'_colour': '#363434', 'width': 1.0, 'component': Component({'lithology': 'coal'}), 'hatch': None})\n",
       "Decor({'_colour': '#664a4a', 'width': 1.0, 'component': Component({'lithology': 'mudstone', 'colour': 'red'}), 'hatch': None})\n",
       "Decor({'_colour': '#666666', 'width': 1.0, 'component': Component({'lithology': 'mudstone', 'colour': 'grey'}), 'hatch': None}))"
      ]
     },
     "execution_count": 21,
     "metadata": {},
     "output_type": "execute_result"
    }
   ],
   "source": [
    "legend = Legend.builtin('nsdoe')\n",
    "legend"
   ]
  },
  {
   "cell_type": "markdown",
   "metadata": {},
   "source": [
    "There is also a default legend, which you can call with `Legend.default()` (no arguments)."
   ]
  },
  {
   "cell_type": "code",
   "execution_count": 22,
   "metadata": {},
   "outputs": [
    {
     "data": {
      "text/html": [
       "<table><tr><th>colour</th><th>hatch</th><th>component</th><th>width</th></tr><tr><td style=\"color:#000000; background-color:#fdf43f\">#fdf43f</td><td style=\"color:black; background-color:white\">None</td><td style=\"color:black; background-color:white\"><table><tr><td><strong>lithology</strong></td><td>unconsolidated material</td></tr></table></td><td style=\"color:black; background-color:white\">None</td></tr><tr><td style=\"color:#000000; background-color:#ffff89\">#ffff89</td><td style=\"color:black; background-color:white\">None</td><td style=\"color:black; background-color:white\"><table><tr><td><strong>lithology</strong></td><td>alluvium</td></tr></table></td><td style=\"color:black; background-color:white\">None</td></tr><tr><td style=\"color:#000000; background-color:#ffffd5\">#ffffd5</td><td style=\"color:black; background-color:white\">None</td><td style=\"color:black; background-color:white\"><table><tr><td><strong>lithology</strong></td><td>flood plain</td></tr></table></td><td style=\"color:black; background-color:white\">None</td></tr><tr><td style=\"color:#000000; background-color:#fffae9\">#fffae9</td><td style=\"color:black; background-color:white\">None</td><td style=\"color:black; background-color:white\"><table><tr><td><strong>lithology</strong></td><td>levee</td></tr></table></td><td style=\"color:black; background-color:white\">None</td></tr><tr><td style=\"color:#000000; background-color:#fffac8\">#fffac8</td><td style=\"color:black; background-color:white\">None</td><td style=\"color:black; background-color:white\"><table><tr><td><strong>lithology</strong></td><td>delta</td></tr></table></td><td style=\"color:black; background-color:white\">None</td></tr><tr><td style=\"color:#000000; background-color:#ffffb7\">#ffffb7</td><td style=\"color:black; background-color:white\">None</td><td style=\"color:black; background-color:white\"><table><tr><td><strong>lithology</strong></td><td>alluvial fan</td></tr></table></td><td style=\"color:black; background-color:white\">None</td></tr><tr><td style=\"color:#000000; background-color:#faee7a\">#faee7a</td><td style=\"color:black; background-color:white\">None</td><td style=\"color:black; background-color:white\"><table><tr><td><strong>lithology</strong></td><td>alluvial terrace</td></tr></table></td><td style=\"color:black; background-color:white\">None</td></tr><tr><td style=\"color:#000000; background-color:#f4efe4\">#f4efe4</td><td style=\"color:black; background-color:white\">None</td><td style=\"color:black; background-color:white\"><table><tr><td><strong>lithology</strong></td><td>lake or marine sediment</td></tr></table></td><td style=\"color:black; background-color:white\">None</td></tr><tr><td style=\"color:#000000; background-color:#f1e5df\">#f1e5df</td><td style=\"color:black; background-color:white\">None</td><td style=\"color:black; background-color:white\"><table><tr><td><strong>lithology</strong></td><td>playa</td></tr></table></td><td style=\"color:black; background-color:white\">None</td></tr><tr><td style=\"color:#000000; background-color:#e4d0be\">#e4d0be</td><td style=\"color:black; background-color:white\">None</td><td style=\"color:black; background-color:white\"><table><tr><td><strong>lithology</strong></td><td>mud flat</td></tr></table></td><td style=\"color:black; background-color:white\">None</td></tr><tr><td style=\"color:#000000; background-color:#e4d8be\">#e4d8be</td><td style=\"color:black; background-color:white\">None</td><td style=\"color:black; background-color:white\"><table><tr><td><strong>lithology</strong></td><td>beach sand</td></tr></table></td><td style=\"color:black; background-color:white\">None</td></tr><tr><td style=\"color:#000000; background-color:#fff6d9\">#fff6d9</td><td style=\"color:black; background-color:white\">None</td><td style=\"color:black; background-color:white\"><table><tr><td><strong>lithology</strong></td><td>terrace</td></tr></table></td><td style=\"color:black; background-color:white\">None</td></tr><tr><td style=\"color:#000000; background-color:#e0c59e\">#e0c59e</td><td style=\"color:black; background-color:white\">None</td><td style=\"color:black; background-color:white\"><table><tr><td><strong>lithology</strong></td><td>eolian material</td></tr></table></td><td style=\"color:black; background-color:white\">None</td></tr><tr><td style=\"color:#000000; background-color:#e0d2b4\">#e0d2b4</td><td style=\"color:black; background-color:white\">None</td><td style=\"color:black; background-color:white\"><table><tr><td><strong>lithology</strong></td><td>dune sand</td></tr></table></td><td style=\"color:black; background-color:white\">None</td></tr><tr><td style=\"color:#000000; background-color:#dbcca9\">#dbcca9</td><td style=\"color:black; background-color:white\">None</td><td style=\"color:black; background-color:white\"><table><tr><td><strong>lithology</strong></td><td>sand sheet</td></tr></table></td><td style=\"color:black; background-color:white\">None</td></tr><tr><td style=\"color:#000000; background-color:#f5e1bd\">#f5e1bd</td><td style=\"color:black; background-color:white\">None</td><td style=\"color:black; background-color:white\"><table><tr><td><strong>lithology</strong></td><td>loess</td></tr></table></td><td style=\"color:black; background-color:white\">None</td></tr><tr><td style=\"color:#000000; background-color:#e0b09e\">#e0b09e</td><td style=\"color:black; background-color:white\">None</td><td style=\"color:black; background-color:white\"><table><tr><td><strong>lithology</strong></td><td>volcanic ash</td></tr></table></td><td style=\"color:black; background-color:white\">None</td></tr><tr><td style=\"color:#000000; background-color:#cfbb8f\">#cfbb8f</td><td style=\"color:black; background-color:white\">None</td><td style=\"color:black; background-color:white\"><table><tr><td><strong>lithology</strong></td><td>mass wasting material</td></tr></table></td><td style=\"color:black; background-color:white\">None</td></tr><tr><td style=\"color:#000000; background-color:#e1e3c3\">#e1e3c3</td><td style=\"color:black; background-color:white\">None</td><td style=\"color:black; background-color:white\"><table><tr><td><strong>lithology</strong></td><td>colluvium</td></tr></table></td><td style=\"color:black; background-color:white\">None</td></tr><tr><td style=\"color:#000000; background-color:#e5dbb3\">#e5dbb3</td><td style=\"color:black; background-color:white\">None</td><td style=\"color:black; background-color:white\"><table><tr><td><strong>lithology</strong></td><td>mudflow</td></tr></table></td><td style=\"color:black; background-color:white\">None</td></tr><tr><td style=\"color:#000000; background-color:#dcd5b4\">#dcd5b4</td><td style=\"color:black; background-color:white\">None</td><td style=\"color:black; background-color:white\"><table><tr><td><strong>lithology</strong></td><td>lahar</td></tr></table></td><td style=\"color:black; background-color:white\">None</td></tr><tr><td style=\"color:#000000; background-color:#d3ca9f\">#d3ca9f</td><td style=\"color:black; background-color:white\">None</td><td style=\"color:black; background-color:white\"><table><tr><td><strong>lithology</strong></td><td>debris flow</td></tr></table></td><td style=\"color:black; background-color:white\">None</td></tr><tr><td style=\"color:#000000; background-color:#c9be89\">#c9be89</td><td style=\"color:black; background-color:white\">None</td><td style=\"color:black; background-color:white\"><table><tr><td><strong>lithology</strong></td><td>landslide</td></tr></table></td><td style=\"color:black; background-color:white\">None</td></tr><tr><td style=\"color:#000000; background-color:#bcaf6c\">#bcaf6c</td><td style=\"color:black; background-color:white\">None</td><td style=\"color:black; background-color:white\"><table><tr><td><strong>lithology</strong></td><td>talus</td></tr></table></td><td style=\"color:black; background-color:white\">None</td></tr><tr><td style=\"color:#000000; background-color:#bfa743\">#bfa743</td><td style=\"color:black; background-color:white\">None</td><td style=\"color:black; background-color:white\"><table><tr><td><strong>lithology</strong></td><td>glacial drift</td></tr></table></td><td style=\"color:black; background-color:white\">None</td></tr><tr><td style=\"color:#000000; background-color:#d2c27c\">#d2c27c</td><td style=\"color:black; background-color:white\">None</td><td style=\"color:black; background-color:white\"><table><tr><td><strong>lithology</strong></td><td>till</td></tr></table></td><td style=\"color:black; background-color:white\">None</td></tr><tr><td style=\"color:#000000; background-color:#ffeebf\">#ffeebf</td><td style=\"color:black; background-color:white\">None</td><td style=\"color:black; background-color:white\"><table><tr><td><strong>lithology</strong></td><td>moraine</td></tr></table></td><td style=\"color:black; background-color:white\">None</td></tr><tr><td style=\"color:#000000; background-color:#ffe59d\">#ffe59d</td><td style=\"color:black; background-color:white\">None</td><td style=\"color:black; background-color:white\"><table><tr><td><strong>lithology</strong></td><td>stratified glacial sediment</td></tr></table></td><td style=\"color:black; background-color:white\">None</td></tr><tr><td style=\"color:#000000; background-color:#ffdf85\">#ffdf85</td><td style=\"color:black; background-color:white\">None</td><td style=\"color:black; background-color:white\"><table><tr><td><strong>lithology</strong></td><td>glacial outwash sediment</td></tr></table></td><td style=\"color:black; background-color:white\">None</td></tr><tr><td style=\"color:#000000; background-color:#fee670\">#fee670</td><td style=\"color:black; background-color:white\">None</td><td style=\"color:black; background-color:white\"><table><tr><td><strong>lithology</strong></td><td>sub/supra-glacial sediment</td></tr></table></td><td style=\"color:black; background-color:white\">None</td></tr><tr><td style=\"color:#000000; background-color:#fee258\">#fee258</td><td style=\"color:black; background-color:white\">None</td><td style=\"color:black; background-color:white\"><table><tr><td><strong>lithology</strong></td><td>glaciolacustrine sediment</td></tr></table></td><td style=\"color:black; background-color:white\">None</td></tr><tr><td style=\"color:#000000; background-color:#fedb2e\">#fedb2e</td><td style=\"color:black; background-color:white\">None</td><td style=\"color:black; background-color:white\"><table><tr><td><strong>lithology</strong></td><td>glacial-marine sediment</td></tr></table></td><td style=\"color:black; background-color:white\">None</td></tr><tr><td style=\"color:#000000; background-color:#f7f3a1\">#f7f3a1</td><td style=\"color:black; background-color:white\">None</td><td style=\"color:black; background-color:white\"><table><tr><td><strong>lithology</strong></td><td>biogenic rock</td></tr></table></td><td style=\"color:black; background-color:white\">None</td></tr><tr><td style=\"color:#000000; background-color:#ffcf81\">#ffcf81</td><td style=\"color:black; background-color:white\">None</td><td style=\"color:black; background-color:white\"><table><tr><td><strong>lithology</strong></td><td>peat</td></tr></table></td><td style=\"color:black; background-color:white\">None</td></tr><tr><td style=\"color:#000000; background-color:#ffcc99\">#ffcc99</td><td style=\"color:black; background-color:white\">None</td><td style=\"color:black; background-color:white\"><table><tr><td><strong>lithology</strong></td><td>coral</td></tr></table></td><td style=\"color:black; background-color:white\">None</td></tr><tr><td style=\"color:#000000; background-color:#ffe389\">#ffe389</td><td style=\"color:black; background-color:white\">None</td><td style=\"color:black; background-color:white\"><table><tr><td><strong>lithology</strong></td><td>residuum</td></tr></table></td><td style=\"color:black; background-color:white\">None</td></tr><tr><td style=\"color:#000000; background-color:#ffdb67\">#ffdb67</td><td style=\"color:black; background-color:white\">None</td><td style=\"color:black; background-color:white\"><table><tr><td><strong>lithology</strong></td><td>clay or mud</td></tr></table></td><td style=\"color:black; background-color:white\">None</td></tr><tr><td style=\"color:#000000; background-color:#ffd345\">#ffd345</td><td style=\"color:black; background-color:white\">None</td><td style=\"color:black; background-color:white\"><table><tr><td><strong>lithology</strong></td><td>silt</td></tr></table></td><td style=\"color:black; background-color:white\">None</td></tr><tr><td style=\"color:#000000; background-color:#ffcb23\">#ffcb23</td><td style=\"color:black; background-color:white\">None</td><td style=\"color:black; background-color:white\"><table><tr><td><strong>lithology</strong></td><td>sand</td></tr></table></td><td style=\"color:black; background-color:white\">None</td></tr><tr><td style=\"color:#000000; background-color:#ecb400\">#ecb400</td><td style=\"color:black; background-color:white\">None</td><td style=\"color:black; background-color:white\"><table><tr><td><strong>lithology</strong></td><td>gravel</td></tr></table></td><td style=\"color:black; background-color:white\">None</td></tr><tr><td style=\"color:#000000; background-color:#92dcb7\">#92dcb7</td><td style=\"color:black; background-color:white\">None</td><td style=\"color:black; background-color:white\"><table><tr><td><strong>lithology</strong></td><td>sedimentary rock</td></tr></table></td><td style=\"color:black; background-color:white\">None</td></tr><tr><td style=\"color:#000000; background-color:#d9fdd3\">#d9fdd3</td><td style=\"color:black; background-color:white\">None</td><td style=\"color:black; background-color:white\"><table><tr><td><strong>lithology</strong></td><td>clastic rock</td></tr></table></td><td style=\"color:black; background-color:white\">None</td></tr><tr><td style=\"color:#000000; background-color:#cfefdf\">#cfefdf</td><td style=\"color:black; background-color:white\">None</td><td style=\"color:black; background-color:white\"><table><tr><td><strong>lithology</strong></td><td>mudstone</td></tr></table></td><td style=\"color:black; background-color:white\">None</td></tr><tr><td style=\"color:#000000; background-color:#d5e6cc\">#d5e6cc</td><td style=\"color:black; background-color:white\">None</td><td style=\"color:black; background-color:white\"><table><tr><td><strong>lithology</strong></td><td>claystone</td></tr></table></td><td style=\"color:black; background-color:white\">None</td></tr><tr><td style=\"color:#000000; background-color:#c0d0c0\">#c0d0c0</td><td style=\"color:black; background-color:white\">None</td><td style=\"color:black; background-color:white\"><table><tr><td><strong>lithology</strong></td><td>bentonite</td></tr></table></td><td style=\"color:black; background-color:white\">None</td></tr><tr><td style=\"color:#000000; background-color:#ace4c8\">#ace4c8</td><td style=\"color:black; background-color:white\">None</td><td style=\"color:black; background-color:white\"><table><tr><td><strong>lithology</strong></td><td>shale</td></tr></table></td><td style=\"color:black; background-color:white\">None</td></tr><tr><td style=\"color:#000000; background-color:#dbfebc\">#dbfebc</td><td style=\"color:black; background-color:white\">None</td><td style=\"color:black; background-color:white\"><table><tr><td><strong>lithology</strong></td><td>black shale</td></tr></table></td><td style=\"color:black; background-color:white\">None</td></tr><tr><td style=\"color:#000000; background-color:#bbffdd\">#bbffdd</td><td style=\"color:black; background-color:white\">None</td><td style=\"color:black; background-color:white\"><table><tr><td><strong>lithology</strong></td><td>oil shale</td></tr></table></td><td style=\"color:black; background-color:white\">None</td></tr><tr><td style=\"color:#000000; background-color:#e1f0d8\">#e1f0d8</td><td style=\"color:black; background-color:white\">None</td><td style=\"color:black; background-color:white\"><table><tr><td><strong>lithology</strong></td><td>argillite</td></tr></table></td><td style=\"color:black; background-color:white\">None</td></tr><tr><td style=\"color:#000000; background-color:#d6fe9a\">#d6fe9a</td><td style=\"color:black; background-color:white\">None</td><td style=\"color:black; background-color:white\"><table><tr><td><strong>lithology</strong></td><td>siltstone</td></tr></table></td><td style=\"color:black; background-color:white\">None</td></tr><tr><td style=\"color:#000000; background-color:#95ffca\">#95ffca</td><td style=\"color:black; background-color:white\">None</td><td style=\"color:black; background-color:white\"><table><tr><td><strong>lithology</strong></td><td>fine-grained mixed clastic rock</td></tr></table></td><td style=\"color:black; background-color:white\">None</td></tr><tr><td style=\"color:#000000; background-color:#cdffd9\">#cdffd9</td><td style=\"color:black; background-color:white\">None</td><td style=\"color:black; background-color:white\"><table><tr><td><strong>lithology</strong></td><td>sandstone</td></tr></table></td><td style=\"color:black; background-color:white\">None</td></tr><tr><td style=\"color:#000000; background-color:#a6fcaa\">#a6fcaa</td><td style=\"color:black; background-color:white\">None</td><td style=\"color:black; background-color:white\"><table><tr><td><strong>lithology</strong></td><td>arenite</td></tr></table></td><td style=\"color:black; background-color:white\">None</td></tr><tr><td style=\"color:#000000; background-color:#cbefce\">#cbefce</td><td style=\"color:black; background-color:white\">None</td><td style=\"color:black; background-color:white\"><table><tr><td><strong>lithology</strong></td><td>orthoquartzite</td></tr></table></td><td style=\"color:black; background-color:white\">None</td></tr><tr><td style=\"color:#000000; background-color:#9acefe\">#9acefe</td><td style=\"color:black; background-color:white\">None</td><td style=\"color:black; background-color:white\"><table><tr><td><strong>lithology</strong></td><td>calcarenite</td></tr></table></td><td style=\"color:black; background-color:white\">None</td></tr><tr><td style=\"color:#000000; background-color:#69cf9c\">#69cf9c</td><td style=\"color:black; background-color:white\">None</td><td style=\"color:black; background-color:white\"><table><tr><td><strong>lithology</strong></td><td>arkose</td></tr></table></td><td style=\"color:black; background-color:white\">None</td></tr><tr><td style=\"color:#000000; background-color:#bddbf1\">#bddbf1</td><td style=\"color:black; background-color:white\">None</td><td style=\"color:black; background-color:white\"><table><tr><td><strong>lithology</strong></td><td>wacke</td></tr></table></td><td style=\"color:black; background-color:white\">None</td></tr><tr><td style=\"color:#000000; background-color:#b8eac3\">#b8eac3</td><td style=\"color:black; background-color:white\">None</td><td style=\"color:black; background-color:white\"><table><tr><td><strong>lithology</strong></td><td>graywacke</td></tr></table></td><td style=\"color:black; background-color:white\">None</td></tr><tr><td style=\"color:#000000; background-color:#90a565\">#90a565</td><td style=\"color:black; background-color:white\">None</td><td style=\"color:black; background-color:white\"><table><tr><td><strong>lithology</strong></td><td>medium-grained mixed clastic rock</td></tr></table></td><td style=\"color:black; background-color:white\">None</td></tr><tr><td style=\"color:#000000; background-color:#b7d9cc\">#b7d9cc</td><td style=\"color:black; background-color:white\">None</td><td style=\"color:black; background-color:white\"><table><tr><td><strong>lithology</strong></td><td>conglomerate</td></tr></table></td><td style=\"color:black; background-color:white\">None</td></tr><tr><td style=\"color:#000000; background-color:#a7ba86\">#a7ba86</td><td style=\"color:black; background-color:white\">None</td><td style=\"color:black; background-color:white\"><table><tr><td><strong>lithology</strong></td><td>sedimentary breccia</td></tr></table></td><td style=\"color:black; background-color:white\">None</td></tr><tr><td style=\"color:#000000; background-color:#a5aaad\">#a5aaad</td><td style=\"color:black; background-color:white\">None</td><td style=\"color:black; background-color:white\"><table><tr><td><strong>lithology</strong></td><td>coarse-grained mixed clastic rock</td></tr></table></td><td style=\"color:black; background-color:white\">None</td></tr><tr><td style=\"color:#000000; background-color:#8dbecd\">#8dbecd</td><td style=\"color:black; background-color:white\">None</td><td style=\"color:black; background-color:white\"><table><tr><td><strong>lithology</strong></td><td>olistostrome</td></tr></table></td><td style=\"color:black; background-color:white\">None</td></tr><tr><td style=\"color:#000000; background-color:#bbc0c5\">#bbc0c5</td><td style=\"color:black; background-color:white\">None</td><td style=\"color:black; background-color:white\"><table><tr><td><strong>lithology</strong></td><td>melange</td></tr></table></td><td style=\"color:black; background-color:white\">None</td></tr><tr><td style=\"color:#000000; background-color:#56e0fc\">#56e0fc</td><td style=\"color:black; background-color:white\">None</td><td style=\"color:black; background-color:white\"><table><tr><td><strong>lithology</strong></td><td>carbonate rock</td></tr></table></td><td style=\"color:black; background-color:white\">None</td></tr><tr><td style=\"color:#000000; background-color:#43aff9\">#43aff9</td><td style=\"color:black; background-color:white\">None</td><td style=\"color:black; background-color:white\"><table><tr><td><strong>lithology</strong></td><td>limestone</td></tr></table></td><td style=\"color:black; background-color:white\">None</td></tr><tr><td style=\"color:#000000; background-color:#6bc3ff\">#6bc3ff</td><td style=\"color:black; background-color:white\">None</td><td style=\"color:black; background-color:white\"><table><tr><td><strong>lithology</strong></td><td>dolostone</td></tr></table></td><td style=\"color:black; background-color:white\">None</td></tr><tr><td style=\"color:#000000; background-color:#38b4b1\">#38b4b1</td><td style=\"color:black; background-color:white\">None</td><td style=\"color:black; background-color:white\"><table><tr><td><strong>lithology</strong></td><td>mixed carbonate/clastic rock</td></tr></table></td><td style=\"color:black; background-color:white\">None</td></tr><tr><td style=\"color:#000000; background-color:#60ccbf\">#60ccbf</td><td style=\"color:black; background-color:white\">None</td><td style=\"color:black; background-color:white\"><table><tr><td><strong>lithology</strong></td><td>mixed volcanic/clastic rock</td></tr></table></td><td style=\"color:black; background-color:white\">None</td></tr><tr><td style=\"color:#000000; background-color:#bfe3dc\">#bfe3dc</td><td style=\"color:black; background-color:white\">None</td><td style=\"color:black; background-color:white\"><table><tr><td><strong>lithology</strong></td><td>phosphorite</td></tr></table></td><td style=\"color:black; background-color:white\">None</td></tr><tr><td style=\"color:#000000; background-color:#cddeff\">#cddeff</td><td style=\"color:black; background-color:white\">None</td><td style=\"color:black; background-color:white\"><table><tr><td><strong>lithology</strong></td><td>chemical sedimentary rock</td></tr></table></td><td style=\"color:black; background-color:white\">None</td></tr><tr><td style=\"color:#ffffff; background-color:#019ccd\">#019ccd</td><td style=\"color:black; background-color:white\">None</td><td style=\"color:black; background-color:white\"><table><tr><td><strong>lithology</strong></td><td>evaporite</td></tr></table></td><td style=\"color:black; background-color:white\">None</td></tr><tr><td style=\"color:#000000; background-color:#9abfc0\">#9abfc0</td><td style=\"color:black; background-color:white\">None</td><td style=\"color:black; background-color:white\"><table><tr><td><strong>lithology</strong></td><td>chert</td></tr></table></td><td style=\"color:black; background-color:white\">None</td></tr><tr><td style=\"color:#000000; background-color:#c0aeb6\">#c0aeb6</td><td style=\"color:black; background-color:white\">None</td><td style=\"color:black; background-color:white\"><table><tr><td><strong>lithology</strong></td><td>novaculite</td></tr></table></td><td style=\"color:black; background-color:white\">None</td></tr><tr><td style=\"color:#000000; background-color:#b99598\">#b99598</td><td style=\"color:black; background-color:white\">None</td><td style=\"color:black; background-color:white\"><table><tr><td><strong>lithology</strong></td><td>iron formation</td></tr></table></td><td style=\"color:black; background-color:white\">None</td></tr><tr><td style=\"color:#000000; background-color:#d9c2a3\">#d9c2a3</td><td style=\"color:black; background-color:white\">None</td><td style=\"color:black; background-color:white\"><table><tr><td><strong>lithology</strong></td><td>exhalite</td></tr></table></td><td style=\"color:black; background-color:white\">None</td></tr><tr><td style=\"color:#ffffff; background-color:#820041\">#820041</td><td style=\"color:black; background-color:white\">None</td><td style=\"color:black; background-color:white\"><table><tr><td><strong>lithology</strong></td><td>coal</td></tr></table></td><td style=\"color:black; background-color:white\">None</td></tr><tr><td style=\"color:#ffffff; background-color:#6e4909\">#6e4909</td><td style=\"color:black; background-color:white\">None</td><td style=\"color:black; background-color:white\"><table><tr><td><strong>lithology</strong></td><td>mixed coal and clastic rock</td></tr></table></td><td style=\"color:black; background-color:white\">None</td></tr><tr><td style=\"color:#000000; background-color:#fc6e7c\">#fc6e7c</td><td style=\"color:black; background-color:white\">None</td><td style=\"color:black; background-color:white\"><table><tr><td><strong>lithology</strong></td><td>plutonic rock</td></tr></table></td><td style=\"color:black; background-color:white\">None</td></tr><tr><td style=\"color:#000000; background-color:#ffc1b7\">#ffc1b7</td><td style=\"color:black; background-color:white\">None</td><td style=\"color:black; background-color:white\"><table><tr><td><strong>lithology</strong></td><td>aplite</td></tr></table></td><td style=\"color:black; background-color:white\">None</td></tr><tr><td style=\"color:#000000; background-color:#ffe1e8\">#ffe1e8</td><td style=\"color:black; background-color:white\">None</td><td style=\"color:black; background-color:white\"><table><tr><td><strong>lithology</strong></td><td>porphyry</td></tr></table></td><td style=\"color:black; background-color:white\">None</td></tr><tr><td style=\"color:#ffffff; background-color:#e45891\">#e45891</td><td style=\"color:black; background-color:white\">None</td><td style=\"color:black; background-color:white\"><table><tr><td><strong>lithology</strong></td><td>lampophyre</td></tr></table></td><td style=\"color:black; background-color:white\">None</td></tr><tr><td style=\"color:#000000; background-color:#ffeff3\">#ffeff3</td><td style=\"color:black; background-color:white\">None</td><td style=\"color:black; background-color:white\"><table><tr><td><strong>lithology</strong></td><td>pegmatite</td></tr></table></td><td style=\"color:black; background-color:white\">None</td></tr><tr><td style=\"color:#ffffff; background-color:#dd2972\">#dd2972</td><td style=\"color:black; background-color:white\">None</td><td style=\"color:black; background-color:white\"><table><tr><td><strong>lithology</strong></td><td>granitoid</td></tr></table></td><td style=\"color:black; background-color:white\">None</td></tr><tr><td style=\"color:#000000; background-color:#ffd1dc\">#ffd1dc</td><td style=\"color:black; background-color:white\">None</td><td style=\"color:black; background-color:white\"><table><tr><td><strong>lithology</strong></td><td>alkali-feldspar granite</td></tr></table></td><td style=\"color:black; background-color:white\">None</td></tr><tr><td style=\"color:#000000; background-color:#f9b5bb\">#f9b5bb</td><td style=\"color:black; background-color:white\">None</td><td style=\"color:black; background-color:white\"><table><tr><td><strong>lithology</strong></td><td>granite</td></tr></table></td><td style=\"color:black; background-color:white\">None</td></tr><tr><td style=\"color:#000000; background-color:#f8beae\">#f8beae</td><td style=\"color:black; background-color:white\">None</td><td style=\"color:black; background-color:white\"><table><tr><td><strong>lithology</strong></td><td>peraluminous granite</td></tr></table></td><td style=\"color:black; background-color:white\">None</td></tr><tr><td style=\"color:#000000; background-color:#ffb3c5\">#ffb3c5</td><td style=\"color:black; background-color:white\">None</td><td style=\"color:black; background-color:white\"><table><tr><td><strong>lithology</strong></td><td>metaluminous granite</td></tr></table></td><td style=\"color:black; background-color:white\">None</td></tr><tr><td style=\"color:#000000; background-color:#ff6f6b\">#ff6f6b</td><td style=\"color:black; background-color:white\">None</td><td style=\"color:black; background-color:white\"><table><tr><td><strong>lithology</strong></td><td>subaluminous granite</td></tr></table></td><td style=\"color:black; background-color:white\">None</td></tr><tr><td style=\"color:#ffffff; background-color:#fc5262\">#fc5262</td><td style=\"color:black; background-color:white\">None</td><td style=\"color:black; background-color:white\"><table><tr><td><strong>lithology</strong></td><td>peralkaline granite</td></tr></table></td><td style=\"color:black; background-color:white\">None</td></tr><tr><td style=\"color:#000000; background-color:#e979a6\">#e979a6</td><td style=\"color:black; background-color:white\">None</td><td style=\"color:black; background-color:white\"><table><tr><td><strong>lithology</strong></td><td>granodiorite</td></tr></table></td><td style=\"color:black; background-color:white\">None</td></tr><tr><td style=\"color:#000000; background-color:#fcb6b6\">#fcb6b6</td><td style=\"color:black; background-color:white\">None</td><td style=\"color:black; background-color:white\"><table><tr><td><strong>lithology</strong></td><td>tonalite</td></tr></table></td><td style=\"color:black; background-color:white\">None</td></tr><tr><td style=\"color:#000000; background-color:#ffa7bc\">#ffa7bc</td><td style=\"color:black; background-color:white\">None</td><td style=\"color:black; background-color:white\"><table><tr><td><strong>lithology</strong></td><td>trondhjemite</td></tr></table></td><td style=\"color:black; background-color:white\">None</td></tr><tr><td style=\"color:#ffffff; background-color:#f43c6c\">#f43c6c</td><td style=\"color:black; background-color:white\">None</td><td style=\"color:black; background-color:white\"><table><tr><td><strong>lithology</strong></td><td>alkali-feldpar syenite</td></tr></table></td><td style=\"color:black; background-color:white\">None</td></tr><tr><td style=\"color:#ffffff; background-color:#fb2338\">#fb2338</td><td style=\"color:black; background-color:white\">None</td><td style=\"color:black; background-color:white\"><table><tr><td><strong>lithology</strong></td><td>quartz syenite</td></tr></table></td><td style=\"color:black; background-color:white\">None</td></tr><tr><td style=\"color:#ffffff; background-color:#f41a87\">#f41a87</td><td style=\"color:black; background-color:white\">None</td><td style=\"color:black; background-color:white\"><table><tr><td><strong>lithology</strong></td><td>syenite</td></tr></table></td><td style=\"color:black; background-color:white\">None</td></tr><tr><td style=\"color:#000000; background-color:#ff6388\">#ff6388</td><td style=\"color:black; background-color:white\">None</td><td style=\"color:black; background-color:white\"><table><tr><td><strong>lithology</strong></td><td>quartz monzonite</td></tr></table></td><td style=\"color:black; background-color:white\">None</td></tr><tr><td style=\"color:#ffffff; background-color:#ff275a\">#ff275a</td><td style=\"color:black; background-color:white\">None</td><td style=\"color:black; background-color:white\"><table><tr><td><strong>lithology</strong></td><td>monzonite</td></tr></table></td><td style=\"color:black; background-color:white\">None</td></tr><tr><td style=\"color:#000000; background-color:#ff819f\">#ff819f</td><td style=\"color:black; background-color:white\">None</td><td style=\"color:black; background-color:white\"><table><tr><td><strong>lithology</strong></td><td>quartz monzodiorite</td></tr></table></td><td style=\"color:black; background-color:white\">None</td></tr><tr><td style=\"color:#000000; background-color:#ffa99d\">#ffa99d</td><td style=\"color:black; background-color:white\">None</td><td style=\"color:black; background-color:white\"><table><tr><td><strong>lithology</strong></td><td>monzodiorite</td></tr></table></td><td style=\"color:black; background-color:white\">None</td></tr><tr><td style=\"color:#ffffff; background-color:#e81c00\">#e81c00</td><td style=\"color:black; background-color:white\">None</td><td style=\"color:black; background-color:white\"><table><tr><td><strong>lithology</strong></td><td>quartz diorite</td></tr></table></td><td style=\"color:black; background-color:white\">None</td></tr><tr><td style=\"color:#ffffff; background-color:#ff3317\">#ff3317</td><td style=\"color:black; background-color:white\">None</td><td style=\"color:black; background-color:white\"><table><tr><td><strong>lithology</strong></td><td>diorite</td></tr></table></td><td style=\"color:black; background-color:white\">None</td></tr><tr><td style=\"color:#ffffff; background-color:#d60000\">#d60000</td><td style=\"color:black; background-color:white\">None</td><td style=\"color:black; background-color:white\"><table><tr><td><strong>lithology</strong></td><td>diabase</td></tr></table></td><td style=\"color:black; background-color:white\">None</td></tr><tr><td style=\"color:#ffffff; background-color:#ac0000\">#ac0000</td><td style=\"color:black; background-color:white\">None</td><td style=\"color:black; background-color:white\"><table><tr><td><strong>lithology</strong></td><td>gabbroid</td></tr></table></td><td style=\"color:black; background-color:white\">None</td></tr><tr><td style=\"color:#000000; background-color:#ff6f5b\">#ff6f5b</td><td style=\"color:black; background-color:white\">None</td><td style=\"color:black; background-color:white\"><table><tr><td><strong>lithology</strong></td><td>quartz monzogabbro</td></tr></table></td><td style=\"color:black; background-color:white\">None</td></tr><tr><td style=\"color:#000000; background-color:#e377ad\">#e377ad</td><td style=\"color:black; background-color:white\">None</td><td style=\"color:black; background-color:white\"><table><tr><td><strong>lithology</strong></td><td>monzogabbro</td></tr></table></td><td style=\"color:black; background-color:white\">None</td></tr><tr><td style=\"color:#000000; background-color:#eda7ca\">#eda7ca</td><td style=\"color:black; background-color:white\">None</td><td style=\"color:black; background-color:white\"><table><tr><td><strong>lithology</strong></td><td>quartz gabbro</td></tr></table></td><td style=\"color:black; background-color:white\">None</td></tr><tr><td style=\"color:#000000; background-color:#e993be\">#e993be</td><td style=\"color:black; background-color:white\">None</td><td style=\"color:black; background-color:white\"><table><tr><td><strong>lithology</strong></td><td>gabbro</td></tr></table></td><td style=\"color:black; background-color:white\">None</td></tr><tr><td style=\"color:#000000; background-color:#ffd6d1\">#ffd6d1</td><td style=\"color:black; background-color:white\">None</td><td style=\"color:black; background-color:white\"><table><tr><td><strong>lithology</strong></td><td>norite</td></tr></table></td><td style=\"color:black; background-color:white\">None</td></tr><tr><td style=\"color:#000000; background-color:#ffbfce\">#ffbfce</td><td style=\"color:black; background-color:white\">None</td><td style=\"color:black; background-color:white\"><table><tr><td><strong>lithology</strong></td><td>troctolite</td></tr></table></td><td style=\"color:black; background-color:white\">None</td></tr><tr><td style=\"color:#000000; background-color:#ff95ae\">#ff95ae</td><td style=\"color:black; background-color:white\">None</td><td style=\"color:black; background-color:white\"><table><tr><td><strong>lithology</strong></td><td>anorthosite</td></tr></table></td><td style=\"color:black; background-color:white\">None</td></tr><tr><td style=\"color:#000000; background-color:#ff6f91\">#ff6f91</td><td style=\"color:black; background-color:white\">None</td><td style=\"color:black; background-color:white\"><table><tr><td><strong>lithology</strong></td><td>alkalic intrusive rock</td></tr></table></td><td style=\"color:black; background-color:white\">None</td></tr><tr><td style=\"color:#ffffff; background-color:#ff1b51\">#ff1b51</td><td style=\"color:black; background-color:white\">None</td><td style=\"color:black; background-color:white\"><table><tr><td><strong>lithology</strong></td><td>nepheline syenite</td></tr></table></td><td style=\"color:black; background-color:white\">None</td></tr><tr><td style=\"color:#ffffff; background-color:#e80037\">#e80037</td><td style=\"color:black; background-color:white\">None</td><td style=\"color:black; background-color:white\"><table><tr><td><strong>lithology</strong></td><td>ultramafic intrusive rock</td></tr></table></td><td style=\"color:black; background-color:white\">None</td></tr><tr><td style=\"color:#ffffff; background-color:#ce0031\">#ce0031</td><td style=\"color:black; background-color:white\">None</td><td style=\"color:black; background-color:white\"><table><tr><td><strong>lithology</strong></td><td>peridotite</td></tr></table></td><td style=\"color:black; background-color:white\">None</td></tr><tr><td style=\"color:#ffffff; background-color:#b0002a\">#b0002a</td><td style=\"color:black; background-color:white\">None</td><td style=\"color:black; background-color:white\"><table><tr><td><strong>lithology</strong></td><td>dunite</td></tr></table></td><td style=\"color:black; background-color:white\">None</td></tr><tr><td style=\"color:#ffffff; background-color:#c1010a\">#c1010a</td><td style=\"color:black; background-color:white\">None</td><td style=\"color:black; background-color:white\"><table><tr><td><strong>lithology</strong></td><td>kimberlite</td></tr></table></td><td style=\"color:black; background-color:white\">None</td></tr><tr><td style=\"color:#ffffff; background-color:#940023\">#940023</td><td style=\"color:black; background-color:white\">None</td><td style=\"color:black; background-color:white\"><table><tr><td><strong>lithology</strong></td><td>pyroxenite</td></tr></table></td><td style=\"color:black; background-color:white\">None</td></tr><tr><td style=\"color:#ffffff; background-color:#a30109\">#a30109</td><td style=\"color:black; background-color:white\">None</td><td style=\"color:black; background-color:white\"><table><tr><td><strong>lithology</strong></td><td>hornblendite</td></tr></table></td><td style=\"color:black; background-color:white\">None</td></tr><tr><td style=\"color:#ffffff; background-color:#750107\">#750107</td><td style=\"color:black; background-color:white\">None</td><td style=\"color:black; background-color:white\"><table><tr><td><strong>lithology</strong></td><td>intrusive carbonatite</td></tr></table></td><td style=\"color:black; background-color:white\">None</td></tr><tr><td style=\"color:#000000; background-color:#ffb7de\">#ffb7de</td><td style=\"color:black; background-color:white\">None</td><td style=\"color:black; background-color:white\"><table><tr><td><strong>lithology</strong></td><td>volcanic rock</td></tr></table></td><td style=\"color:black; background-color:white\">None</td></tr><tr><td style=\"color:#000000; background-color:#ffc3e4\">#ffc3e4</td><td style=\"color:black; background-color:white\">None</td><td style=\"color:black; background-color:white\"><table><tr><td><strong>lithology</strong></td><td>glassy volcanic rock</td></tr></table></td><td style=\"color:black; background-color:white\">None</td></tr><tr><td style=\"color:#000000; background-color:#ffd1ea\">#ffd1ea</td><td style=\"color:black; background-color:white\">None</td><td style=\"color:black; background-color:white\"><table><tr><td><strong>lithology</strong></td><td>obsidian</td></tr></table></td><td style=\"color:black; background-color:white\">None</td></tr><tr><td style=\"color:#000000; background-color:#ffc3f8\">#ffc3f8</td><td style=\"color:black; background-color:white\">None</td><td style=\"color:black; background-color:white\"><table><tr><td><strong>lithology</strong></td><td>vitrophyre</td></tr></table></td><td style=\"color:black; background-color:white\">None</td></tr><tr><td style=\"color:#000000; background-color:#ffe5f3\">#ffe5f3</td><td style=\"color:black; background-color:white\">None</td><td style=\"color:black; background-color:white\"><table><tr><td><strong>lithology</strong></td><td>pumice</td></tr></table></td><td style=\"color:black; background-color:white\">None</td></tr><tr><td style=\"color:#000000; background-color:#ffe0de\">#ffe0de</td><td style=\"color:black; background-color:white\">None</td><td style=\"color:black; background-color:white\"><table><tr><td><strong>lithology</strong></td><td>pyroclastic</td></tr></table></td><td style=\"color:black; background-color:white\">None</td></tr><tr><td style=\"color:#000000; background-color:#f9d3d3\">#f9d3d3</td><td style=\"color:black; background-color:white\">None</td><td style=\"color:black; background-color:white\"><table><tr><td><strong>lithology</strong></td><td>tuff</td></tr></table></td><td style=\"color:black; background-color:white\">None</td></tr><tr><td style=\"color:#000000; background-color:#fff3c9\">#fff3c9</td><td style=\"color:black; background-color:white\">None</td><td style=\"color:black; background-color:white\"><table><tr><td><strong>lithology</strong></td><td>welded tuff</td></tr></table></td><td style=\"color:black; background-color:white\">None</td></tr><tr><td style=\"color:#000000; background-color:#ffefd9\">#ffefd9</td><td style=\"color:black; background-color:white\">None</td><td style=\"color:black; background-color:white\"><table><tr><td><strong>lithology</strong></td><td>ash-flow tuff</td></tr></table></td><td style=\"color:black; background-color:white\">None</td></tr><tr><td style=\"color:#000000; background-color:#ffe5c3\">#ffe5c3</td><td style=\"color:black; background-color:white\">None</td><td style=\"color:black; background-color:white\"><table><tr><td><strong>lithology</strong></td><td>ignimbrite</td></tr></table></td><td style=\"color:black; background-color:white\">None</td></tr><tr><td style=\"color:#000000; background-color:#ffd59d\">#ffd59d</td><td style=\"color:black; background-color:white\">None</td><td style=\"color:black; background-color:white\"><table><tr><td><strong>lithology</strong></td><td>volcanic breccia</td></tr></table></td><td style=\"color:black; background-color:white\">None</td></tr><tr><td style=\"color:#000000; background-color:#ffa227\">#ffa227</td><td style=\"color:black; background-color:white\">None</td><td style=\"color:black; background-color:white\"><table><tr><td><strong>lithology</strong></td><td>lava flow</td></tr></table></td><td style=\"color:black; background-color:white\">None</td></tr><tr><td style=\"color:#000000; background-color:#ffc16f\">#ffc16f</td><td style=\"color:black; background-color:white\">None</td><td style=\"color:black; background-color:white\"><table><tr><td><strong>lithology</strong></td><td>bimodal suite</td></tr></table></td><td style=\"color:black; background-color:white\">None</td></tr><tr><td style=\"color:#000000; background-color:#f48b00\">#f48b00</td><td style=\"color:black; background-color:white\">None</td><td style=\"color:black; background-color:white\"><table><tr><td><strong>lithology</strong></td><td>felsic volcanic rock</td></tr></table></td><td style=\"color:black; background-color:white\">None</td></tr><tr><td style=\"color:#000000; background-color:#fedc7e\">#fedc7e</td><td style=\"color:black; background-color:white\">None</td><td style=\"color:black; background-color:white\"><table><tr><td><strong>lithology</strong></td><td>alkali-feldspar rhyolite</td></tr></table></td><td style=\"color:black; background-color:white\">None</td></tr><tr><td style=\"color:#000000; background-color:#fecc68\">#fecc68</td><td style=\"color:black; background-color:white\">None</td><td style=\"color:black; background-color:white\"><table><tr><td><strong>lithology</strong></td><td>rhyolite</td></tr></table></td><td style=\"color:black; background-color:white\">None</td></tr><tr><td style=\"color:#000000; background-color:#fec62a\">#fec62a</td><td style=\"color:black; background-color:white\">None</td><td style=\"color:black; background-color:white\"><table><tr><td><strong>lithology</strong></td><td>rhyodacite</td></tr></table></td><td style=\"color:black; background-color:white\">None</td></tr><tr><td style=\"color:#000000; background-color:#fecdac\">#fecdac</td><td style=\"color:black; background-color:white\">None</td><td style=\"color:black; background-color:white\"><table><tr><td><strong>lithology</strong></td><td>dacite</td></tr></table></td><td style=\"color:black; background-color:white\">None</td></tr><tr><td style=\"color:#000000; background-color:#feb786\">#feb786</td><td style=\"color:black; background-color:white\">None</td><td style=\"color:black; background-color:white\"><table><tr><td><strong>lithology</strong></td><td>alkali-feldspar trachyte</td></tr></table></td><td style=\"color:black; background-color:white\">None</td></tr><tr><td style=\"color:#000000; background-color:#fea060\">#fea060</td><td style=\"color:black; background-color:white\">None</td><td style=\"color:black; background-color:white\"><table><tr><td><strong>lithology</strong></td><td>trachyte</td></tr></table></td><td style=\"color:black; background-color:white\">None</td></tr><tr><td style=\"color:#000000; background-color:#fe8736\">#fe8736</td><td style=\"color:black; background-color:white\">None</td><td style=\"color:black; background-color:white\"><table><tr><td><strong>lithology</strong></td><td>quartz latite</td></tr></table></td><td style=\"color:black; background-color:white\">None</td></tr><tr><td style=\"color:#000000; background-color:#fe7518\">#fe7518</td><td style=\"color:black; background-color:white\">None</td><td style=\"color:black; background-color:white\"><table><tr><td><strong>lithology</strong></td><td>latite</td></tr></table></td><td style=\"color:black; background-color:white\">None</td></tr><tr><td style=\"color:#ffffff; background-color:#eb6001\">#eb6001</td><td style=\"color:black; background-color:white\">None</td><td style=\"color:black; background-color:white\"><table><tr><td><strong>lithology</strong></td><td>intermediate volcanic rock</td></tr></table></td><td style=\"color:black; background-color:white\">None</td></tr><tr><td style=\"color:#ffffff; background-color:#c95201\">#c95201</td><td style=\"color:black; background-color:white\">None</td><td style=\"color:black; background-color:white\"><table><tr><td><strong>lithology</strong></td><td>trachyandesite</td></tr></table></td><td style=\"color:black; background-color:white\">None</td></tr><tr><td style=\"color:#ffffff; background-color:#b14801\">#b14801</td><td style=\"color:black; background-color:white\">None</td><td style=\"color:black; background-color:white\"><table><tr><td><strong>lithology</strong></td><td>andesite</td></tr></table></td><td style=\"color:black; background-color:white\">None</td></tr><tr><td style=\"color:#ffffff; background-color:#933c01\">#933c01</td><td style=\"color:black; background-color:white\">None</td><td style=\"color:black; background-color:white\"><table><tr><td><strong>lithology</strong></td><td>mafic volcanic rock</td></tr></table></td><td style=\"color:black; background-color:white\">None</td></tr><tr><td style=\"color:#000000; background-color:#ecd5c6\">#ecd5c6</td><td style=\"color:black; background-color:white\">None</td><td style=\"color:black; background-color:white\"><table><tr><td><strong>lithology</strong></td><td>trachybasalt</td></tr></table></td><td style=\"color:black; background-color:white\">None</td></tr><tr><td style=\"color:#000000; background-color:#ddb397\">#ddb397</td><td style=\"color:black; background-color:white\">None</td><td style=\"color:black; background-color:white\"><table><tr><td><strong>lithology</strong></td><td>basalt</td></tr></table></td><td style=\"color:black; background-color:white\">None</td></tr><tr><td style=\"color:#000000; background-color:#d39d79\">#d39d79</td><td style=\"color:black; background-color:white\">None</td><td style=\"color:black; background-color:white\"><table><tr><td><strong>lithology</strong></td><td>tholeite</td></tr></table></td><td style=\"color:black; background-color:white\">None</td></tr><tr><td style=\"color:#000000; background-color:#c68050\">#c68050</td><td style=\"color:black; background-color:white\">None</td><td style=\"color:black; background-color:white\"><table><tr><td><strong>lithology</strong></td><td>hawaiite</td></tr></table></td><td style=\"color:black; background-color:white\">None</td></tr><tr><td style=\"color:#ffffff; background-color:#a96537\">#a96537</td><td style=\"color:black; background-color:white\">None</td><td style=\"color:black; background-color:white\"><table><tr><td><strong>lithology</strong></td><td>alkaline basalt</td></tr></table></td><td style=\"color:black; background-color:white\">None</td></tr><tr><td style=\"color:#ffffff; background-color:#c24100\">#c24100</td><td style=\"color:black; background-color:white\">None</td><td style=\"color:black; background-color:white\"><table><tr><td><strong>lithology</strong></td><td>alkalic volcanic rock</td></tr></table></td><td style=\"color:black; background-color:white\">None</td></tr><tr><td style=\"color:#ffffff; background-color:#5f391f\">#5f391f</td><td style=\"color:black; background-color:white\">None</td><td style=\"color:black; background-color:white\"><table><tr><td><strong>lithology</strong></td><td>phonolite</td></tr></table></td><td style=\"color:black; background-color:white\">None</td></tr><tr><td style=\"color:#ffffff; background-color:#854f2b\">#854f2b</td><td style=\"color:black; background-color:white\">None</td><td style=\"color:black; background-color:white\"><table><tr><td><strong>lithology</strong></td><td>tephrite</td></tr></table></td><td style=\"color:black; background-color:white\">None</td></tr><tr><td style=\"color:#ffffff; background-color:#a03500\">#a03500</td><td style=\"color:black; background-color:white\">None</td><td style=\"color:black; background-color:white\"><table><tr><td><strong>lithology</strong></td><td>ultramafitite</td></tr></table></td><td style=\"color:black; background-color:white\">None</td></tr><tr><td style=\"color:#ffffff; background-color:#6e2500\">#6e2500</td><td style=\"color:black; background-color:white\">None</td><td style=\"color:black; background-color:white\"><table><tr><td><strong>lithology</strong></td><td>volcanic carbonatite</td></tr></table></td><td style=\"color:black; background-color:white\">None</td></tr><tr><td style=\"color:#000000; background-color:#a7a7ff\">#a7a7ff</td><td style=\"color:black; background-color:white\">None</td><td style=\"color:black; background-color:white\"><table><tr><td><strong>lithology</strong></td><td>metamorphic rock</td></tr></table></td><td style=\"color:black; background-color:white\">None</td></tr><tr><td style=\"color:#000000; background-color:#eaafff\">#eaafff</td><td style=\"color:black; background-color:white\">None</td><td style=\"color:black; background-color:white\"><table><tr><td><strong>lithology</strong></td><td>hornfels</td></tr></table></td><td style=\"color:black; background-color:white\">None</td></tr><tr><td style=\"color:#000000; background-color:#7dff7d\">#7dff7d</td><td style=\"color:black; background-color:white\">None</td><td style=\"color:black; background-color:white\"><table><tr><td><strong>lithology</strong></td><td>metasedimentary rock</td></tr></table></td><td style=\"color:black; background-color:white\">None</td></tr><tr><td style=\"color:#000000; background-color:#c9ffc9\">#c9ffc9</td><td style=\"color:black; background-color:white\">None</td><td style=\"color:black; background-color:white\"><table><tr><td><strong>lithology</strong></td><td>meta-argillite</td></tr></table></td><td style=\"color:black; background-color:white\">None</td></tr><tr><td style=\"color:#000000; background-color:#e6cdff\">#e6cdff</td><td style=\"color:black; background-color:white\">None</td><td style=\"color:black; background-color:white\"><table><tr><td><strong>lithology</strong></td><td>slate</td></tr></table></td><td style=\"color:black; background-color:white\">None</td></tr><tr><td style=\"color:#000000; background-color:#9fff9f\">#9fff9f</td><td style=\"color:black; background-color:white\">None</td><td style=\"color:black; background-color:white\"><table><tr><td><strong>lithology</strong></td><td>quartzite</td></tr></table></td><td style=\"color:black; background-color:white\">None</td></tr><tr><td style=\"color:#000000; background-color:#e9ffe9\">#e9ffe9</td><td style=\"color:black; background-color:white\">None</td><td style=\"color:black; background-color:white\"><table><tr><td><strong>lithology</strong></td><td>metaconglomerate</td></tr></table></td><td style=\"color:black; background-color:white\">None</td></tr><tr><td style=\"color:#ffffff; background-color:#0000ff\">#0000ff</td><td style=\"color:black; background-color:white\">None</td><td style=\"color:black; background-color:white\"><table><tr><td><strong>lithology</strong></td><td>marble</td></tr></table></td><td style=\"color:black; background-color:white\">None</td></tr><tr><td style=\"color:#000000; background-color:#ff57ff\">#ff57ff</td><td style=\"color:black; background-color:white\">None</td><td style=\"color:black; background-color:white\"><table><tr><td><strong>lithology</strong></td><td>metavolcanic rock</td></tr></table></td><td style=\"color:black; background-color:white\">None</td></tr><tr><td style=\"color:#000000; background-color:#ff8dff\">#ff8dff</td><td style=\"color:black; background-color:white\">None</td><td style=\"color:black; background-color:white\"><table><tr><td><strong>lithology</strong></td><td>felsic metavolcanic rock</td></tr></table></td><td style=\"color:black; background-color:white\">None</td></tr><tr><td style=\"color:#000000; background-color:#ffa7ff\">#ffa7ff</td><td style=\"color:black; background-color:white\">None</td><td style=\"color:black; background-color:white\"><table><tr><td><strong>lithology</strong></td><td>metarhyolite</td></tr></table></td><td style=\"color:black; background-color:white\">None</td></tr><tr><td style=\"color:#000000; background-color:#fe6700\">#fe6700</td><td style=\"color:black; background-color:white\">None</td><td style=\"color:black; background-color:white\"><table><tr><td><strong>lithology</strong></td><td>keratophyre</td></tr></table></td><td style=\"color:black; background-color:white\">None</td></tr><tr><td style=\"color:#ffffff; background-color:#ff0000\">#ff0000</td><td style=\"color:black; background-color:white\">None</td><td style=\"color:black; background-color:white\"><table><tr><td><strong>lithology</strong></td><td>intermediate metavolcanic rock</td></tr></table></td><td style=\"color:black; background-color:white\">None</td></tr><tr><td style=\"color:#ffffff; background-color:#b93b68\">#b93b68</td><td style=\"color:black; background-color:white\">None</td><td style=\"color:black; background-color:white\"><table><tr><td><strong>lithology</strong></td><td>mafic metavolcanic rock</td></tr></table></td><td style=\"color:black; background-color:white\">None</td></tr><tr><td style=\"color:#ffffff; background-color:#872b4c\">#872b4c</td><td style=\"color:black; background-color:white\">None</td><td style=\"color:black; background-color:white\"><table><tr><td><strong>lithology</strong></td><td>metabasalt</td></tr></table></td><td style=\"color:black; background-color:white\">None</td></tr><tr><td style=\"color:#ffffff; background-color:#c9557e\">#c9557e</td><td style=\"color:black; background-color:white\">None</td><td style=\"color:black; background-color:white\"><table><tr><td><strong>lithology</strong></td><td>spilite</td></tr></table></td><td style=\"color:black; background-color:white\">None</td></tr><tr><td style=\"color:#ffffff; background-color:#008000\">#008000</td><td style=\"color:black; background-color:white\">None</td><td style=\"color:black; background-color:white\"><table><tr><td><strong>lithology</strong></td><td>greenstone</td></tr></table></td><td style=\"color:black; background-color:white\">None</td></tr><tr><td style=\"color:#000000; background-color:#b4cfe4\">#b4cfe4</td><td style=\"color:black; background-color:white\">None</td><td style=\"color:black; background-color:white\"><table><tr><td><strong>lithology</strong></td><td>phyllite</td></tr></table></td><td style=\"color:black; background-color:white\">None</td></tr><tr><td style=\"color:#000000; background-color:#dbdbe7\">#dbdbe7</td><td style=\"color:black; background-color:white\">None</td><td style=\"color:black; background-color:white\"><table><tr><td><strong>lithology</strong></td><td>schist</td></tr></table></td><td style=\"color:black; background-color:white\">None</td></tr><tr><td style=\"color:#000000; background-color:#ededf3\">#ededf3</td><td style=\"color:black; background-color:white\">None</td><td style=\"color:black; background-color:white\"><table><tr><td><strong>lithology</strong></td><td>greenschist</td></tr></table></td><td style=\"color:black; background-color:white\">None</td></tr><tr><td style=\"color:#000000; background-color:#c0c0c0\">#c0c0c0</td><td style=\"color:black; background-color:white\">None</td><td style=\"color:black; background-color:white\"><table><tr><td><strong>lithology</strong></td><td>blueschist</td></tr></table></td><td style=\"color:black; background-color:white\">None</td></tr><tr><td style=\"color:#000000; background-color:#b1b1b1\">#b1b1b1</td><td style=\"color:black; background-color:white\">None</td><td style=\"color:black; background-color:white\"><table><tr><td><strong>lithology</strong></td><td>mica schist</td></tr></table></td><td style=\"color:black; background-color:white\">None</td></tr><tr><td style=\"color:#000000; background-color:#cacadc\">#cacadc</td><td style=\"color:black; background-color:white\">None</td><td style=\"color:black; background-color:white\"><table><tr><td><strong>lithology</strong></td><td>pelitic schist</td></tr></table></td><td style=\"color:black; background-color:white\">None</td></tr><tr><td style=\"color:#000000; background-color:#a2a2c0\">#a2a2c0</td><td style=\"color:black; background-color:white\">None</td><td style=\"color:black; background-color:white\"><table><tr><td><strong>lithology</strong></td><td>quartz-feldspar schist</td></tr></table></td><td style=\"color:black; background-color:white\">None</td></tr><tr><td style=\"color:#000000; background-color:#b6b6ce\">#b6b6ce</td><td style=\"color:black; background-color:white\">None</td><td style=\"color:black; background-color:white\"><table><tr><td><strong>lithology</strong></td><td>calc-silicate schist</td></tr></table></td><td style=\"color:black; background-color:white\">None</td></tr><tr><td style=\"color:#000000; background-color:#969696\">#969696</td><td style=\"color:black; background-color:white\">None</td><td style=\"color:black; background-color:white\"><table><tr><td><strong>lithology</strong></td><td>amphibole schist</td></tr></table></td><td style=\"color:black; background-color:white\">None</td></tr><tr><td style=\"color:#ffffff; background-color:#a337fd\">#a337fd</td><td style=\"color:black; background-color:white\">None</td><td style=\"color:black; background-color:white\"><table><tr><td><strong>lithology</strong></td><td>granofels</td></tr></table></td><td style=\"color:black; background-color:white\">None</td></tr><tr><td style=\"color:#000000; background-color:#ecd6fe\">#ecd6fe</td><td style=\"color:black; background-color:white\">None</td><td style=\"color:black; background-color:white\"><table><tr><td><strong>lithology</strong></td><td>gneiss</td></tr></table></td><td style=\"color:black; background-color:white\">None</td></tr><tr><td style=\"color:#000000; background-color:#e0bcfe\">#e0bcfe</td><td style=\"color:black; background-color:white\">None</td><td style=\"color:black; background-color:white\"><table><tr><td><strong>lithology</strong></td><td>felsic gneiss</td></tr></table></td><td style=\"color:black; background-color:white\">None</td></tr><tr><td style=\"color:#000000; background-color:#d5a4fe\">#d5a4fe</td><td style=\"color:black; background-color:white\">None</td><td style=\"color:black; background-color:white\"><table><tr><td><strong>lithology</strong></td><td>granitic gneiss</td></tr></table></td><td style=\"color:black; background-color:white\">None</td></tr><tr><td style=\"color:#000000; background-color:#c886fe\">#c886fe</td><td style=\"color:black; background-color:white\">None</td><td style=\"color:black; background-color:white\"><table><tr><td><strong>lithology</strong></td><td>biotite gneiss</td></tr></table></td><td style=\"color:black; background-color:white\">None</td></tr><tr><td style=\"color:#000000; background-color:#ccb7ff\">#ccb7ff</td><td style=\"color:black; background-color:white\">None</td><td style=\"color:black; background-color:white\"><table><tr><td><strong>lithology</strong></td><td>mafic gneiss</td></tr></table></td><td style=\"color:black; background-color:white\">None</td></tr><tr><td style=\"color:#000000; background-color:#b395ff\">#b395ff</td><td style=\"color:black; background-color:white\">None</td><td style=\"color:black; background-color:white\"><table><tr><td><strong>lithology</strong></td><td>orthogneiss</td></tr></table></td><td style=\"color:black; background-color:white\">None</td></tr><tr><td style=\"color:#ffffff; background-color:#9063ff\">#9063ff</td><td style=\"color:black; background-color:white\">None</td><td style=\"color:black; background-color:white\"><table><tr><td><strong>lithology</strong></td><td>paragneiss</td></tr></table></td><td style=\"color:black; background-color:white\">None</td></tr><tr><td style=\"color:#ffffff; background-color:#9f00ca\">#9f00ca</td><td style=\"color:black; background-color:white\">None</td><td style=\"color:black; background-color:white\"><table><tr><td><strong>lithology</strong></td><td>migmatite</td></tr></table></td><td style=\"color:black; background-color:white\">None</td></tr><tr><td style=\"color:#ffffff; background-color:#7b009c\">#7b009c</td><td style=\"color:black; background-color:white\">None</td><td style=\"color:black; background-color:white\"><table><tr><td><strong>lithology</strong></td><td>amphibolite</td></tr></table></td><td style=\"color:black; background-color:white\">None</td></tr><tr><td style=\"color:#ffffff; background-color:#6a006a\">#6a006a</td><td style=\"color:black; background-color:white\">None</td><td style=\"color:black; background-color:white\"><table><tr><td><strong>lithology</strong></td><td>granulite</td></tr></table></td><td style=\"color:black; background-color:white\">None</td></tr><tr><td style=\"color:#000000; background-color:#ce9dff\">#ce9dff</td><td style=\"color:black; background-color:white\">None</td><td style=\"color:black; background-color:white\"><table><tr><td><strong>lithology</strong></td><td>eclogite</td></tr></table></td><td style=\"color:black; background-color:white\">None</td></tr><tr><td style=\"color:#ffffff; background-color:#a449ff\">#a449ff</td><td style=\"color:black; background-color:white\">None</td><td style=\"color:black; background-color:white\"><table><tr><td><strong>lithology</strong></td><td>greisen</td></tr></table></td><td style=\"color:black; background-color:white\">None</td></tr><tr><td style=\"color:#ffffff; background-color:#8103ff\">#8103ff</td><td style=\"color:black; background-color:white\">None</td><td style=\"color:black; background-color:white\"><table><tr><td><strong>lithology</strong></td><td>skarn</td></tr></table></td><td style=\"color:black; background-color:white\">None</td></tr><tr><td style=\"color:#ffffff; background-color:#46008c\">#46008c</td><td style=\"color:black; background-color:white\">None</td><td style=\"color:black; background-color:white\"><table><tr><td><strong>lithology</strong></td><td>calc-silicate rock</td></tr></table></td><td style=\"color:black; background-color:white\">None</td></tr><tr><td style=\"color:#ffffff; background-color:#005c00\">#005c00</td><td style=\"color:black; background-color:white\">None</td><td style=\"color:black; background-color:white\"><table><tr><td><strong>lithology</strong></td><td>serpentinite</td></tr></table></td><td style=\"color:black; background-color:white\">None</td></tr><tr><td style=\"color:#ffffff; background-color:#84613e\">#84613e</td><td style=\"color:black; background-color:white\">None</td><td style=\"color:black; background-color:white\"><table><tr><td><strong>lithology</strong></td><td>tectonite</td></tr></table></td><td style=\"color:black; background-color:white\">None</td></tr><tr><td style=\"color:#000000; background-color:#d0cbb0\">#d0cbb0</td><td style=\"color:black; background-color:white\">None</td><td style=\"color:black; background-color:white\"><table><tr><td><strong>lithology</strong></td><td>tectonic melange</td></tr></table></td><td style=\"color:black; background-color:white\">None</td></tr><tr><td style=\"color:#000000; background-color:#b0a778\">#b0a778</td><td style=\"color:black; background-color:white\">None</td><td style=\"color:black; background-color:white\"><table><tr><td><strong>lithology</strong></td><td>tectonic breccia</td></tr></table></td><td style=\"color:black; background-color:white\">None</td></tr><tr><td style=\"color:#ffffff; background-color:#887f50\">#887f50</td><td style=\"color:black; background-color:white\">None</td><td style=\"color:black; background-color:white\"><table><tr><td><strong>lithology</strong></td><td>cataclasite</td></tr></table></td><td style=\"color:black; background-color:white\">None</td></tr><tr><td style=\"color:#000000; background-color:#ac7f50\">#ac7f50</td><td style=\"color:black; background-color:white\">None</td><td style=\"color:black; background-color:white\"><table><tr><td><strong>lithology</strong></td><td>phyllonite</td></tr></table></td><td style=\"color:black; background-color:white\">None</td></tr><tr><td style=\"color:#ffffff; background-color:#6d5033\">#6d5033</td><td style=\"color:black; background-color:white\">None</td><td style=\"color:black; background-color:white\"><table><tr><td><strong>lithology</strong></td><td>mylonite</td></tr></table></td><td style=\"color:black; background-color:white\">None</td></tr><tr><td style=\"color:#ffffff; background-color:#64020b\">#64020b</td><td style=\"color:black; background-color:white\">None</td><td style=\"color:black; background-color:white\"><table><tr><td><strong>lithology</strong></td><td>flaser gneiss</td></tr></table></td><td style=\"color:black; background-color:white\">None</td></tr><tr><td style=\"color:#ffffff; background-color:#887f50\">#887f50</td><td style=\"color:black; background-color:white\">None</td><td style=\"color:black; background-color:white\"><table><tr><td><strong>lithology</strong></td><td>augen gneiss</td></tr></table></td><td style=\"color:black; background-color:white\">None</td></tr></table>"
      ],
      "text/plain": [
       "Legend(Decor({'_colour': '#fdf43f', 'width': None, 'component': Component({'lithology': 'unconsolidated material'}), 'hatch': None})\n",
       "Decor({'_colour': '#ffff89', 'width': None, 'component': Component({'lithology': 'alluvium'}), 'hatch': None})\n",
       "Decor({'_colour': '#ffffd5', 'width': None, 'component': Component({'lithology': 'flood plain'}), 'hatch': None})\n",
       "Decor({'_colour': '#fffae9', 'width': None, 'component': Component({'lithology': 'levee'}), 'hatch': None})\n",
       "Decor({'_colour': '#fffac8', 'width': None, 'component': Component({'lithology': 'delta'}), 'hatch': None})\n",
       "Decor({'_colour': '#ffffb7', 'width': None, 'component': Component({'lithology': 'alluvial fan'}), 'hatch': None})\n",
       "Decor({'_colour': '#faee7a', 'width': None, 'component': Component({'lithology': 'alluvial terrace'}), 'hatch': None})\n",
       "Decor({'_colour': '#f4efe4', 'width': None, 'component': Component({'lithology': 'lake or marine sediment'}), 'hatch': None})\n",
       "Decor({'_colour': '#f1e5df', 'width': None, 'component': Component({'lithology': 'playa'}), 'hatch': None})\n",
       "Decor({'_colour': '#e4d0be', 'width': None, 'component': Component({'lithology': 'mud flat'}), 'hatch': None})\n",
       "Decor({'_colour': '#e4d8be', 'width': None, 'component': Component({'lithology': 'beach sand'}), 'hatch': None})\n",
       "Decor({'_colour': '#fff6d9', 'width': None, 'component': Component({'lithology': 'terrace'}), 'hatch': None})\n",
       "Decor({'_colour': '#e0c59e', 'width': None, 'component': Component({'lithology': 'eolian material'}), 'hatch': None})\n",
       "Decor({'_colour': '#e0d2b4', 'width': None, 'component': Component({'lithology': 'dune sand'}), 'hatch': None})\n",
       "Decor({'_colour': '#dbcca9', 'width': None, 'component': Component({'lithology': 'sand sheet'}), 'hatch': None})\n",
       "Decor({'_colour': '#f5e1bd', 'width': None, 'component': Component({'lithology': 'loess'}), 'hatch': None})\n",
       "Decor({'_colour': '#e0b09e', 'width': None, 'component': Component({'lithology': 'volcanic ash'}), 'hatch': None})\n",
       "Decor({'_colour': '#cfbb8f', 'width': None, 'component': Component({'lithology': 'mass wasting material'}), 'hatch': None})\n",
       "Decor({'_colour': '#e1e3c3', 'width': None, 'component': Component({'lithology': 'colluvium'}), 'hatch': None})\n",
       "Decor({'_colour': '#e5dbb3', 'width': None, 'component': Component({'lithology': 'mudflow'}), 'hatch': None})\n",
       "Decor({'_colour': '#dcd5b4', 'width': None, 'component': Component({'lithology': 'lahar'}), 'hatch': None})\n",
       "Decor({'_colour': '#d3ca9f', 'width': None, 'component': Component({'lithology': 'debris flow'}), 'hatch': None})\n",
       "Decor({'_colour': '#c9be89', 'width': None, 'component': Component({'lithology': 'landslide'}), 'hatch': None})\n",
       "Decor({'_colour': '#bcaf6c', 'width': None, 'component': Component({'lithology': 'talus'}), 'hatch': None})\n",
       "Decor({'_colour': '#bfa743', 'width': None, 'component': Component({'lithology': 'glacial drift'}), 'hatch': None})\n",
       "Decor({'_colour': '#d2c27c', 'width': None, 'component': Component({'lithology': 'till'}), 'hatch': None})\n",
       "Decor({'_colour': '#ffeebf', 'width': None, 'component': Component({'lithology': 'moraine'}), 'hatch': None})\n",
       "Decor({'_colour': '#ffe59d', 'width': None, 'component': Component({'lithology': 'stratified glacial sediment'}), 'hatch': None})\n",
       "Decor({'_colour': '#ffdf85', 'width': None, 'component': Component({'lithology': 'glacial outwash sediment'}), 'hatch': None})\n",
       "Decor({'_colour': '#fee670', 'width': None, 'component': Component({'lithology': 'sub/supra-glacial sediment'}), 'hatch': None})\n",
       "Decor({'_colour': '#fee258', 'width': None, 'component': Component({'lithology': 'glaciolacustrine sediment'}), 'hatch': None})\n",
       "Decor({'_colour': '#fedb2e', 'width': None, 'component': Component({'lithology': 'glacial-marine sediment'}), 'hatch': None})\n",
       "Decor({'_colour': '#f7f3a1', 'width': None, 'component': Component({'lithology': 'biogenic rock'}), 'hatch': None})\n",
       "Decor({'_colour': '#ffcf81', 'width': None, 'component': Component({'lithology': 'peat'}), 'hatch': None})\n",
       "Decor({'_colour': '#ffcc99', 'width': None, 'component': Component({'lithology': 'coral'}), 'hatch': None})\n",
       "Decor({'_colour': '#ffe389', 'width': None, 'component': Component({'lithology': 'residuum'}), 'hatch': None})\n",
       "Decor({'_colour': '#ffdb67', 'width': None, 'component': Component({'lithology': 'clay or mud'}), 'hatch': None})\n",
       "Decor({'_colour': '#ffd345', 'width': None, 'component': Component({'lithology': 'silt'}), 'hatch': None})\n",
       "Decor({'_colour': '#ffcb23', 'width': None, 'component': Component({'lithology': 'sand'}), 'hatch': None})\n",
       "Decor({'_colour': '#ecb400', 'width': None, 'component': Component({'lithology': 'gravel'}), 'hatch': None})\n",
       "Decor({'_colour': '#92dcb7', 'width': None, 'component': Component({'lithology': 'sedimentary rock'}), 'hatch': None})\n",
       "Decor({'_colour': '#d9fdd3', 'width': None, 'component': Component({'lithology': 'clastic rock'}), 'hatch': None})\n",
       "Decor({'_colour': '#cfefdf', 'width': None, 'component': Component({'lithology': 'mudstone'}), 'hatch': None})\n",
       "Decor({'_colour': '#d5e6cc', 'width': None, 'component': Component({'lithology': 'claystone'}), 'hatch': None})\n",
       "Decor({'_colour': '#c0d0c0', 'width': None, 'component': Component({'lithology': 'bentonite'}), 'hatch': None})\n",
       "Decor({'_colour': '#ace4c8', 'width': None, 'component': Component({'lithology': 'shale'}), 'hatch': None})\n",
       "Decor({'_colour': '#dbfebc', 'width': None, 'component': Component({'lithology': 'black shale'}), 'hatch': None})\n",
       "Decor({'_colour': '#bbffdd', 'width': None, 'component': Component({'lithology': 'oil shale'}), 'hatch': None})\n",
       "Decor({'_colour': '#e1f0d8', 'width': None, 'component': Component({'lithology': 'argillite'}), 'hatch': None})\n",
       "Decor({'_colour': '#d6fe9a', 'width': None, 'component': Component({'lithology': 'siltstone'}), 'hatch': None})\n",
       "Decor({'_colour': '#95ffca', 'width': None, 'component': Component({'lithology': 'fine-grained mixed clastic rock'}), 'hatch': None})\n",
       "Decor({'_colour': '#cdffd9', 'width': None, 'component': Component({'lithology': 'sandstone'}), 'hatch': None})\n",
       "Decor({'_colour': '#a6fcaa', 'width': None, 'component': Component({'lithology': 'arenite'}), 'hatch': None})\n",
       "Decor({'_colour': '#cbefce', 'width': None, 'component': Component({'lithology': 'orthoquartzite'}), 'hatch': None})\n",
       "Decor({'_colour': '#9acefe', 'width': None, 'component': Component({'lithology': 'calcarenite'}), 'hatch': None})\n",
       "Decor({'_colour': '#69cf9c', 'width': None, 'component': Component({'lithology': 'arkose'}), 'hatch': None})\n",
       "Decor({'_colour': '#bddbf1', 'width': None, 'component': Component({'lithology': 'wacke'}), 'hatch': None})\n",
       "Decor({'_colour': '#b8eac3', 'width': None, 'component': Component({'lithology': 'graywacke'}), 'hatch': None})\n",
       "Decor({'_colour': '#90a565', 'width': None, 'component': Component({'lithology': 'medium-grained mixed clastic rock'}), 'hatch': None})\n",
       "Decor({'_colour': '#b7d9cc', 'width': None, 'component': Component({'lithology': 'conglomerate'}), 'hatch': None})\n",
       "Decor({'_colour': '#a7ba86', 'width': None, 'component': Component({'lithology': 'sedimentary breccia'}), 'hatch': None})\n",
       "Decor({'_colour': '#a5aaad', 'width': None, 'component': Component({'lithology': 'coarse-grained mixed clastic rock'}), 'hatch': None})\n",
       "Decor({'_colour': '#8dbecd', 'width': None, 'component': Component({'lithology': 'olistostrome'}), 'hatch': None})\n",
       "Decor({'_colour': '#bbc0c5', 'width': None, 'component': Component({'lithology': 'melange'}), 'hatch': None})\n",
       "Decor({'_colour': '#56e0fc', 'width': None, 'component': Component({'lithology': 'carbonate rock'}), 'hatch': None})\n",
       "Decor({'_colour': '#43aff9', 'width': None, 'component': Component({'lithology': 'limestone'}), 'hatch': None})\n",
       "Decor({'_colour': '#6bc3ff', 'width': None, 'component': Component({'lithology': 'dolostone'}), 'hatch': None})\n",
       "Decor({'_colour': '#38b4b1', 'width': None, 'component': Component({'lithology': 'mixed carbonate/clastic rock'}), 'hatch': None})\n",
       "Decor({'_colour': '#60ccbf', 'width': None, 'component': Component({'lithology': 'mixed volcanic/clastic rock'}), 'hatch': None})\n",
       "Decor({'_colour': '#bfe3dc', 'width': None, 'component': Component({'lithology': 'phosphorite'}), 'hatch': None})\n",
       "Decor({'_colour': '#cddeff', 'width': None, 'component': Component({'lithology': 'chemical sedimentary rock'}), 'hatch': None})\n",
       "Decor({'_colour': '#019ccd', 'width': None, 'component': Component({'lithology': 'evaporite'}), 'hatch': None})\n",
       "Decor({'_colour': '#9abfc0', 'width': None, 'component': Component({'lithology': 'chert'}), 'hatch': None})\n",
       "Decor({'_colour': '#c0aeb6', 'width': None, 'component': Component({'lithology': 'novaculite'}), 'hatch': None})\n",
       "Decor({'_colour': '#b99598', 'width': None, 'component': Component({'lithology': 'iron formation'}), 'hatch': None})\n",
       "Decor({'_colour': '#d9c2a3', 'width': None, 'component': Component({'lithology': 'exhalite'}), 'hatch': None})\n",
       "Decor({'_colour': '#820041', 'width': None, 'component': Component({'lithology': 'coal'}), 'hatch': None})\n",
       "Decor({'_colour': '#6e4909', 'width': None, 'component': Component({'lithology': 'mixed coal and clastic rock'}), 'hatch': None})\n",
       "Decor({'_colour': '#fc6e7c', 'width': None, 'component': Component({'lithology': 'plutonic rock'}), 'hatch': None})\n",
       "Decor({'_colour': '#ffc1b7', 'width': None, 'component': Component({'lithology': 'aplite'}), 'hatch': None})\n",
       "Decor({'_colour': '#ffe1e8', 'width': None, 'component': Component({'lithology': 'porphyry'}), 'hatch': None})\n",
       "Decor({'_colour': '#e45891', 'width': None, 'component': Component({'lithology': 'lampophyre'}), 'hatch': None})\n",
       "Decor({'_colour': '#ffeff3', 'width': None, 'component': Component({'lithology': 'pegmatite'}), 'hatch': None})\n",
       "Decor({'_colour': '#dd2972', 'width': None, 'component': Component({'lithology': 'granitoid'}), 'hatch': None})\n",
       "Decor({'_colour': '#ffd1dc', 'width': None, 'component': Component({'lithology': 'alkali-feldspar granite'}), 'hatch': None})\n",
       "Decor({'_colour': '#f9b5bb', 'width': None, 'component': Component({'lithology': 'granite'}), 'hatch': None})\n",
       "Decor({'_colour': '#f8beae', 'width': None, 'component': Component({'lithology': 'peraluminous granite'}), 'hatch': None})\n",
       "Decor({'_colour': '#ffb3c5', 'width': None, 'component': Component({'lithology': 'metaluminous granite'}), 'hatch': None})\n",
       "Decor({'_colour': '#ff6f6b', 'width': None, 'component': Component({'lithology': 'subaluminous granite'}), 'hatch': None})\n",
       "Decor({'_colour': '#fc5262', 'width': None, 'component': Component({'lithology': 'peralkaline granite'}), 'hatch': None})\n",
       "Decor({'_colour': '#e979a6', 'width': None, 'component': Component({'lithology': 'granodiorite'}), 'hatch': None})\n",
       "Decor({'_colour': '#fcb6b6', 'width': None, 'component': Component({'lithology': 'tonalite'}), 'hatch': None})\n",
       "Decor({'_colour': '#ffa7bc', 'width': None, 'component': Component({'lithology': 'trondhjemite'}), 'hatch': None})\n",
       "Decor({'_colour': '#f43c6c', 'width': None, 'component': Component({'lithology': 'alkali-feldpar syenite'}), 'hatch': None})\n",
       "Decor({'_colour': '#fb2338', 'width': None, 'component': Component({'lithology': 'quartz syenite'}), 'hatch': None})\n",
       "Decor({'_colour': '#f41a87', 'width': None, 'component': Component({'lithology': 'syenite'}), 'hatch': None})\n",
       "Decor({'_colour': '#ff6388', 'width': None, 'component': Component({'lithology': 'quartz monzonite'}), 'hatch': None})\n",
       "Decor({'_colour': '#ff275a', 'width': None, 'component': Component({'lithology': 'monzonite'}), 'hatch': None})\n",
       "Decor({'_colour': '#ff819f', 'width': None, 'component': Component({'lithology': 'quartz monzodiorite'}), 'hatch': None})\n",
       "Decor({'_colour': '#ffa99d', 'width': None, 'component': Component({'lithology': 'monzodiorite'}), 'hatch': None})\n",
       "Decor({'_colour': '#e81c00', 'width': None, 'component': Component({'lithology': 'quartz diorite'}), 'hatch': None})\n",
       "Decor({'_colour': '#ff3317', 'width': None, 'component': Component({'lithology': 'diorite'}), 'hatch': None})\n",
       "Decor({'_colour': '#d60000', 'width': None, 'component': Component({'lithology': 'diabase'}), 'hatch': None})\n",
       "Decor({'_colour': '#ac0000', 'width': None, 'component': Component({'lithology': 'gabbroid'}), 'hatch': None})\n",
       "Decor({'_colour': '#ff6f5b', 'width': None, 'component': Component({'lithology': 'quartz monzogabbro'}), 'hatch': None})\n",
       "Decor({'_colour': '#e377ad', 'width': None, 'component': Component({'lithology': 'monzogabbro'}), 'hatch': None})\n",
       "Decor({'_colour': '#eda7ca', 'width': None, 'component': Component({'lithology': 'quartz gabbro'}), 'hatch': None})\n",
       "Decor({'_colour': '#e993be', 'width': None, 'component': Component({'lithology': 'gabbro'}), 'hatch': None})\n",
       "Decor({'_colour': '#ffd6d1', 'width': None, 'component': Component({'lithology': 'norite'}), 'hatch': None})\n",
       "Decor({'_colour': '#ffbfce', 'width': None, 'component': Component({'lithology': 'troctolite'}), 'hatch': None})\n",
       "Decor({'_colour': '#ff95ae', 'width': None, 'component': Component({'lithology': 'anorthosite'}), 'hatch': None})\n",
       "Decor({'_colour': '#ff6f91', 'width': None, 'component': Component({'lithology': 'alkalic intrusive rock'}), 'hatch': None})\n",
       "Decor({'_colour': '#ff1b51', 'width': None, 'component': Component({'lithology': 'nepheline syenite'}), 'hatch': None})\n",
       "Decor({'_colour': '#e80037', 'width': None, 'component': Component({'lithology': 'ultramafic intrusive rock'}), 'hatch': None})\n",
       "Decor({'_colour': '#ce0031', 'width': None, 'component': Component({'lithology': 'peridotite'}), 'hatch': None})\n",
       "Decor({'_colour': '#b0002a', 'width': None, 'component': Component({'lithology': 'dunite'}), 'hatch': None})\n",
       "Decor({'_colour': '#c1010a', 'width': None, 'component': Component({'lithology': 'kimberlite'}), 'hatch': None})\n",
       "Decor({'_colour': '#940023', 'width': None, 'component': Component({'lithology': 'pyroxenite'}), 'hatch': None})\n",
       "Decor({'_colour': '#a30109', 'width': None, 'component': Component({'lithology': 'hornblendite'}), 'hatch': None})\n",
       "Decor({'_colour': '#750107', 'width': None, 'component': Component({'lithology': 'intrusive carbonatite'}), 'hatch': None})\n",
       "Decor({'_colour': '#ffb7de', 'width': None, 'component': Component({'lithology': 'volcanic rock'}), 'hatch': None})\n",
       "Decor({'_colour': '#ffc3e4', 'width': None, 'component': Component({'lithology': 'glassy volcanic rock'}), 'hatch': None})\n",
       "Decor({'_colour': '#ffd1ea', 'width': None, 'component': Component({'lithology': 'obsidian'}), 'hatch': None})\n",
       "Decor({'_colour': '#ffc3f8', 'width': None, 'component': Component({'lithology': 'vitrophyre'}), 'hatch': None})\n",
       "Decor({'_colour': '#ffe5f3', 'width': None, 'component': Component({'lithology': 'pumice'}), 'hatch': None})\n",
       "Decor({'_colour': '#ffe0de', 'width': None, 'component': Component({'lithology': 'pyroclastic'}), 'hatch': None})\n",
       "Decor({'_colour': '#f9d3d3', 'width': None, 'component': Component({'lithology': 'tuff'}), 'hatch': None})\n",
       "Decor({'_colour': '#fff3c9', 'width': None, 'component': Component({'lithology': 'welded tuff'}), 'hatch': None})\n",
       "Decor({'_colour': '#ffefd9', 'width': None, 'component': Component({'lithology': 'ash-flow tuff'}), 'hatch': None})\n",
       "Decor({'_colour': '#ffe5c3', 'width': None, 'component': Component({'lithology': 'ignimbrite'}), 'hatch': None})\n",
       "Decor({'_colour': '#ffd59d', 'width': None, 'component': Component({'lithology': 'volcanic breccia'}), 'hatch': None})\n",
       "Decor({'_colour': '#ffa227', 'width': None, 'component': Component({'lithology': 'lava flow'}), 'hatch': None})\n",
       "Decor({'_colour': '#ffc16f', 'width': None, 'component': Component({'lithology': 'bimodal suite'}), 'hatch': None})\n",
       "Decor({'_colour': '#f48b00', 'width': None, 'component': Component({'lithology': 'felsic volcanic rock'}), 'hatch': None})\n",
       "Decor({'_colour': '#fedc7e', 'width': None, 'component': Component({'lithology': 'alkali-feldspar rhyolite'}), 'hatch': None})\n",
       "Decor({'_colour': '#fecc68', 'width': None, 'component': Component({'lithology': 'rhyolite'}), 'hatch': None})\n",
       "Decor({'_colour': '#fec62a', 'width': None, 'component': Component({'lithology': 'rhyodacite'}), 'hatch': None})\n",
       "Decor({'_colour': '#fecdac', 'width': None, 'component': Component({'lithology': 'dacite'}), 'hatch': None})\n",
       "Decor({'_colour': '#feb786', 'width': None, 'component': Component({'lithology': 'alkali-feldspar trachyte'}), 'hatch': None})\n",
       "Decor({'_colour': '#fea060', 'width': None, 'component': Component({'lithology': 'trachyte'}), 'hatch': None})\n",
       "Decor({'_colour': '#fe8736', 'width': None, 'component': Component({'lithology': 'quartz latite'}), 'hatch': None})\n",
       "Decor({'_colour': '#fe7518', 'width': None, 'component': Component({'lithology': 'latite'}), 'hatch': None})\n",
       "Decor({'_colour': '#eb6001', 'width': None, 'component': Component({'lithology': 'intermediate volcanic rock'}), 'hatch': None})\n",
       "Decor({'_colour': '#c95201', 'width': None, 'component': Component({'lithology': 'trachyandesite'}), 'hatch': None})\n",
       "Decor({'_colour': '#b14801', 'width': None, 'component': Component({'lithology': 'andesite'}), 'hatch': None})\n",
       "Decor({'_colour': '#933c01', 'width': None, 'component': Component({'lithology': 'mafic volcanic rock'}), 'hatch': None})\n",
       "Decor({'_colour': '#ecd5c6', 'width': None, 'component': Component({'lithology': 'trachybasalt'}), 'hatch': None})\n",
       "Decor({'_colour': '#ddb397', 'width': None, 'component': Component({'lithology': 'basalt'}), 'hatch': None})\n",
       "Decor({'_colour': '#d39d79', 'width': None, 'component': Component({'lithology': 'tholeite'}), 'hatch': None})\n",
       "Decor({'_colour': '#c68050', 'width': None, 'component': Component({'lithology': 'hawaiite'}), 'hatch': None})\n",
       "Decor({'_colour': '#a96537', 'width': None, 'component': Component({'lithology': 'alkaline basalt'}), 'hatch': None})\n",
       "Decor({'_colour': '#c24100', 'width': None, 'component': Component({'lithology': 'alkalic volcanic rock'}), 'hatch': None})\n",
       "Decor({'_colour': '#5f391f', 'width': None, 'component': Component({'lithology': 'phonolite'}), 'hatch': None})\n",
       "Decor({'_colour': '#854f2b', 'width': None, 'component': Component({'lithology': 'tephrite'}), 'hatch': None})\n",
       "Decor({'_colour': '#a03500', 'width': None, 'component': Component({'lithology': 'ultramafitite'}), 'hatch': None})\n",
       "Decor({'_colour': '#6e2500', 'width': None, 'component': Component({'lithology': 'volcanic carbonatite'}), 'hatch': None})\n",
       "Decor({'_colour': '#a7a7ff', 'width': None, 'component': Component({'lithology': 'metamorphic rock'}), 'hatch': None})\n",
       "Decor({'_colour': '#eaafff', 'width': None, 'component': Component({'lithology': 'hornfels'}), 'hatch': None})\n",
       "Decor({'_colour': '#7dff7d', 'width': None, 'component': Component({'lithology': 'metasedimentary rock'}), 'hatch': None})\n",
       "Decor({'_colour': '#c9ffc9', 'width': None, 'component': Component({'lithology': 'meta-argillite'}), 'hatch': None})\n",
       "Decor({'_colour': '#e6cdff', 'width': None, 'component': Component({'lithology': 'slate'}), 'hatch': None})\n",
       "Decor({'_colour': '#9fff9f', 'width': None, 'component': Component({'lithology': 'quartzite'}), 'hatch': None})\n",
       "Decor({'_colour': '#e9ffe9', 'width': None, 'component': Component({'lithology': 'metaconglomerate'}), 'hatch': None})\n",
       "Decor({'_colour': '#0000ff', 'width': None, 'component': Component({'lithology': 'marble'}), 'hatch': None})\n",
       "Decor({'_colour': '#ff57ff', 'width': None, 'component': Component({'lithology': 'metavolcanic rock'}), 'hatch': None})\n",
       "Decor({'_colour': '#ff8dff', 'width': None, 'component': Component({'lithology': 'felsic metavolcanic rock'}), 'hatch': None})\n",
       "Decor({'_colour': '#ffa7ff', 'width': None, 'component': Component({'lithology': 'metarhyolite'}), 'hatch': None})\n",
       "Decor({'_colour': '#fe6700', 'width': None, 'component': Component({'lithology': 'keratophyre'}), 'hatch': None})\n",
       "Decor({'_colour': '#ff0000', 'width': None, 'component': Component({'lithology': 'intermediate metavolcanic rock'}), 'hatch': None})\n",
       "Decor({'_colour': '#b93b68', 'width': None, 'component': Component({'lithology': 'mafic metavolcanic rock'}), 'hatch': None})\n",
       "Decor({'_colour': '#872b4c', 'width': None, 'component': Component({'lithology': 'metabasalt'}), 'hatch': None})\n",
       "Decor({'_colour': '#c9557e', 'width': None, 'component': Component({'lithology': 'spilite'}), 'hatch': None})\n",
       "Decor({'_colour': '#008000', 'width': None, 'component': Component({'lithology': 'greenstone'}), 'hatch': None})\n",
       "Decor({'_colour': '#b4cfe4', 'width': None, 'component': Component({'lithology': 'phyllite'}), 'hatch': None})\n",
       "Decor({'_colour': '#dbdbe7', 'width': None, 'component': Component({'lithology': 'schist'}), 'hatch': None})\n",
       "Decor({'_colour': '#ededf3', 'width': None, 'component': Component({'lithology': 'greenschist'}), 'hatch': None})\n",
       "Decor({'_colour': '#c0c0c0', 'width': None, 'component': Component({'lithology': 'blueschist'}), 'hatch': None})\n",
       "Decor({'_colour': '#b1b1b1', 'width': None, 'component': Component({'lithology': 'mica schist'}), 'hatch': None})\n",
       "Decor({'_colour': '#cacadc', 'width': None, 'component': Component({'lithology': 'pelitic schist'}), 'hatch': None})\n",
       "Decor({'_colour': '#a2a2c0', 'width': None, 'component': Component({'lithology': 'quartz-feldspar schist'}), 'hatch': None})\n",
       "Decor({'_colour': '#b6b6ce', 'width': None, 'component': Component({'lithology': 'calc-silicate schist'}), 'hatch': None})\n",
       "Decor({'_colour': '#969696', 'width': None, 'component': Component({'lithology': 'amphibole schist'}), 'hatch': None})\n",
       "Decor({'_colour': '#a337fd', 'width': None, 'component': Component({'lithology': 'granofels'}), 'hatch': None})\n",
       "Decor({'_colour': '#ecd6fe', 'width': None, 'component': Component({'lithology': 'gneiss'}), 'hatch': None})\n",
       "Decor({'_colour': '#e0bcfe', 'width': None, 'component': Component({'lithology': 'felsic gneiss'}), 'hatch': None})\n",
       "Decor({'_colour': '#d5a4fe', 'width': None, 'component': Component({'lithology': 'granitic gneiss'}), 'hatch': None})\n",
       "Decor({'_colour': '#c886fe', 'width': None, 'component': Component({'lithology': 'biotite gneiss'}), 'hatch': None})\n",
       "Decor({'_colour': '#ccb7ff', 'width': None, 'component': Component({'lithology': 'mafic gneiss'}), 'hatch': None})\n",
       "Decor({'_colour': '#b395ff', 'width': None, 'component': Component({'lithology': 'orthogneiss'}), 'hatch': None})\n",
       "Decor({'_colour': '#9063ff', 'width': None, 'component': Component({'lithology': 'paragneiss'}), 'hatch': None})\n",
       "Decor({'_colour': '#9f00ca', 'width': None, 'component': Component({'lithology': 'migmatite'}), 'hatch': None})\n",
       "Decor({'_colour': '#7b009c', 'width': None, 'component': Component({'lithology': 'amphibolite'}), 'hatch': None})\n",
       "Decor({'_colour': '#6a006a', 'width': None, 'component': Component({'lithology': 'granulite'}), 'hatch': None})\n",
       "Decor({'_colour': '#ce9dff', 'width': None, 'component': Component({'lithology': 'eclogite'}), 'hatch': None})\n",
       "Decor({'_colour': '#a449ff', 'width': None, 'component': Component({'lithology': 'greisen'}), 'hatch': None})\n",
       "Decor({'_colour': '#8103ff', 'width': None, 'component': Component({'lithology': 'skarn'}), 'hatch': None})\n",
       "Decor({'_colour': '#46008c', 'width': None, 'component': Component({'lithology': 'calc-silicate rock'}), 'hatch': None})\n",
       "Decor({'_colour': '#005c00', 'width': None, 'component': Component({'lithology': 'serpentinite'}), 'hatch': None})\n",
       "Decor({'_colour': '#84613e', 'width': None, 'component': Component({'lithology': 'tectonite'}), 'hatch': None})\n",
       "Decor({'_colour': '#d0cbb0', 'width': None, 'component': Component({'lithology': 'tectonic melange'}), 'hatch': None})\n",
       "Decor({'_colour': '#b0a778', 'width': None, 'component': Component({'lithology': 'tectonic breccia'}), 'hatch': None})\n",
       "Decor({'_colour': '#887f50', 'width': None, 'component': Component({'lithology': 'cataclasite'}), 'hatch': None})\n",
       "Decor({'_colour': '#ac7f50', 'width': None, 'component': Component({'lithology': 'phyllonite'}), 'hatch': None})\n",
       "Decor({'_colour': '#6d5033', 'width': None, 'component': Component({'lithology': 'mylonite'}), 'hatch': None})\n",
       "Decor({'_colour': '#64020b', 'width': None, 'component': Component({'lithology': 'flaser gneiss'}), 'hatch': None})\n",
       "Decor({'_colour': '#887f50', 'width': None, 'component': Component({'lithology': 'augen gneiss'}), 'hatch': None}))"
      ]
     },
     "execution_count": 22,
     "metadata": {},
     "output_type": "execute_result"
    }
   ],
   "source": [
    "Legend.default()"
   ]
  },
  {
   "cell_type": "markdown",
   "metadata": {},
   "source": [
    "There are also default timescales:"
   ]
  },
  {
   "cell_type": "code",
   "execution_count": 23,
   "metadata": {
    "internals": {},
    "slideshow": {
     "slide_type": "-"
    }
   },
   "outputs": [
    {
     "data": {
      "text/html": [
       "<table><tr><th>colour</th><th>hatch</th><th>component</th><th>width</th></tr><tr><td style=\"color:#000000; background-color:#6fdaed\">#6fdaed</td><td style=\"color:black; background-color:white\">None</td><td style=\"color:black; background-color:white\"><table><tr><td><strong>age</strong></td><td>phanerozoic</td></tr></table></td><td style=\"color:black; background-color:white\">None</td></tr><tr><td style=\"color:#000000; background-color:#f6ec39\">#f6ec39</td><td style=\"color:black; background-color:white\">None</td><td style=\"color:black; background-color:white\"><table><tr><td><strong>age</strong></td><td>cenozoic</td></tr></table></td><td style=\"color:black; background-color:white\">None</td></tr><tr><td style=\"color:#000000; background-color:#fef691\">#fef691</td><td style=\"color:black; background-color:white\">None</td><td style=\"color:black; background-color:white\"><table><tr><td><strong>age</strong></td><td>quaternary</td></tr></table></td><td style=\"color:black; background-color:white\">None</td></tr><tr><td style=\"color:#000000; background-color:#f2f902\">#f2f902</td><td style=\"color:black; background-color:white\">None</td><td style=\"color:black; background-color:white\"><table><tr><td><strong>age</strong></td><td>tertiary</td></tr></table></td><td style=\"color:black; background-color:white\">None</td></tr><tr><td style=\"color:#000000; background-color:#fedd2d\">#fedd2d</td><td style=\"color:black; background-color:white\">None</td><td style=\"color:black; background-color:white\"><table><tr><td><strong>age</strong></td><td>neogene</td></tr></table></td><td style=\"color:black; background-color:white\">None</td></tr><tr><td style=\"color:#000000; background-color:#fef1e0\">#fef1e0</td><td style=\"color:black; background-color:white\">None</td><td style=\"color:black; background-color:white\"><table><tr><td><strong>age</strong></td><td>holocene</td></tr></table></td><td style=\"color:black; background-color:white\">None</td></tr><tr><td style=\"color:#000000; background-color:#feefb8\">#feefb8</td><td style=\"color:black; background-color:white\">None</td><td style=\"color:black; background-color:white\"><table><tr><td><strong>age</strong></td><td>pleistocene</td></tr></table></td><td style=\"color:black; background-color:white\">None</td></tr><tr><td style=\"color:#000000; background-color:#fef1d6\">#fef1d6</td><td style=\"color:black; background-color:white\">None</td><td style=\"color:black; background-color:white\"><table><tr><td><strong>age</strong></td><td>upper pleistocene</td></tr></table></td><td style=\"color:black; background-color:white\">None</td></tr><tr><td style=\"color:#000000; background-color:#fef1d6\">#fef1d6</td><td style=\"color:black; background-color:white\">None</td><td style=\"color:black; background-color:white\"><table><tr><td><strong>age</strong></td><td>tarantian</td></tr></table></td><td style=\"color:black; background-color:white\">None</td></tr><tr><td style=\"color:#000000; background-color:#fef0cc\">#fef0cc</td><td style=\"color:black; background-color:white\">None</td><td style=\"color:black; background-color:white\"><table><tr><td><strong>age</strong></td><td>middle pleistocene</td></tr></table></td><td style=\"color:black; background-color:white\">None</td></tr></table>"
      ],
      "text/plain": [
       "Legend(Decor({'_colour': '#6fdaed', 'width': None, 'component': Component({'age': 'phanerozoic'}), 'hatch': None})\n",
       "Decor({'_colour': '#f6ec39', 'width': None, 'component': Component({'age': 'cenozoic'}), 'hatch': None})\n",
       "Decor({'_colour': '#fef691', 'width': None, 'component': Component({'age': 'quaternary'}), 'hatch': None})\n",
       "Decor({'_colour': '#f2f902', 'width': None, 'component': Component({'age': 'tertiary'}), 'hatch': None})\n",
       "Decor({'_colour': '#fedd2d', 'width': None, 'component': Component({'age': 'neogene'}), 'hatch': None})\n",
       "Decor({'_colour': '#fef1e0', 'width': None, 'component': Component({'age': 'holocene'}), 'hatch': None})\n",
       "Decor({'_colour': '#feefb8', 'width': None, 'component': Component({'age': 'pleistocene'}), 'hatch': None})\n",
       "Decor({'_colour': '#fef1d6', 'width': None, 'component': Component({'age': 'upper pleistocene'}), 'hatch': None})\n",
       "Decor({'_colour': '#fef1d6', 'width': None, 'component': Component({'age': 'tarantian'}), 'hatch': None})\n",
       "Decor({'_colour': '#fef0cc', 'width': None, 'component': Component({'age': 'middle pleistocene'}), 'hatch': None}))"
      ]
     },
     "execution_count": 23,
     "metadata": {},
     "output_type": "execute_result"
    }
   ],
   "source": [
    "time = Legend.default_timescale()\n",
    "time[:10]"
   ]
  },
  {
   "cell_type": "markdown",
   "metadata": {},
   "source": [
    "## Legend from image"
   ]
  },
  {
   "cell_type": "code",
   "execution_count": 24,
   "metadata": {},
   "outputs": [
    {
     "data": {
      "image/png": "[encoded data removed]",
      "text/plain": [
       "<IPython.core.display.Image object>"
      ]
     },
     "execution_count": 24,
     "metadata": {
      "image/png": {
       "width": 15
      }
     },
     "output_type": "execute_result"
    }
   ],
   "source": [
    "from IPython.display import Image\n",
    "Image('z_Lithology_legend_gapless2.png', width=15)"
   ]
  },
  {
   "cell_type": "code",
   "execution_count": 25,
   "metadata": {},
   "outputs": [],
   "source": [
    "liths = [\n",
    "'Conglomerate', \n",
    "'Sandstone',\n",
    "'Sandstone',\n",
    "'Sandstone',\n",
    "'Sandstone',\n",
    "'Sandstone',\n",
    "'Siltstone',\n",
    "'Siltstone',\n",
    "'Heterolithic',\n",
    "'Heterolithic',\n",
    "'Mudstone',\n",
    "'Mudstone',\n",
    "'Limestone',\n",
    "'Dolomite',\n",
    "'Anhydrite',\n",
    "'Halite',\n",
    "'Coal',\n",
    "'Volcanic',\n",
    "'NULL',\n",
    "]\n",
    "\n",
    "colours = [\n",
    "None, \n",
    "'Grey',\n",
    "'Red',\n",
    "'Grey',\n",
    "'Grey',\n",
    "'Red',\n",
    "'Grey',\n",
    "'Red',\n",
    "'Grey',\n",
    "'Red',\n",
    "'Grey',\n",
    "'Red',\n",
    "None, \n",
    "None, \n",
    "None, \n",
    "None, \n",
    "None, \n",
    "None, \n",
    "None, \n",
    "]"
   ]
  },
  {
   "cell_type": "code",
   "execution_count": 26,
   "metadata": {},
   "outputs": [],
   "source": [
    "components = [Component({'lithology': l, 'colour': c}) for l, c in zip(liths, colours)]"
   ]
  },
  {
   "cell_type": "code",
   "execution_count": 27,
   "metadata": {},
   "outputs": [
    {
     "data": {
      "image/png": "[encoded data removed]",
      "text/plain": [
       "<Figure size 288x72 with 1 Axes>"
      ]
     },
     "metadata": {
      "needs_background": "light"
     },
     "output_type": "display_data"
    },
    {
     "data": {
      "image/png": "[encoded data removed]",
      "text/plain": [
       "<Figure size 288x72 with 1 Axes>"
      ]
     },
     "metadata": {
      "needs_background": "light"
     },
     "output_type": "display_data"
    },
    {
     "data": {
      "image/png": "[encoded data removed]",
      "text/plain": [
       "<Figure size 288x72 with 1 Axes>"
      ]
     },
     "metadata": {
      "needs_background": "light"
     },
     "output_type": "display_data"
    },
    {
     "data": {
      "image/png": "[encoded data removed]",
      "text/plain": [
       "<Figure size 288x72 with 1 Axes>"
      ]
     },
     "metadata": {
      "needs_background": "light"
     },
     "output_type": "display_data"
    },
    {
     "data": {
      "image/png": "[encoded data removed]",
      "text/plain": [
       "<Figure size 288x72 with 1 Axes>"
      ]
     },
     "metadata": {
      "needs_background": "light"
     },
     "output_type": "display_data"
    },
    {
     "data": {
      "image/png": "[encoded data removed]",
      "text/plain": [
       "<Figure size 288x72 with 1 Axes>"
      ]
     },
     "metadata": {
      "needs_background": "light"
     },
     "output_type": "display_data"
    },
    {
     "data": {
      "image/png": "[encoded data removed]",
      "text/plain": [
       "<Figure size 288x72 with 1 Axes>"
      ]
     },
     "metadata": {
      "needs_background": "light"
     },
     "output_type": "display_data"
    },
    {
     "data": {
      "image/png": "[encoded data removed]",
      "text/plain": [
       "<Figure size 288x72 with 1 Axes>"
      ]
     },
     "metadata": {
      "needs_background": "light"
     },
     "output_type": "display_data"
    },
    {
     "data": {
      "image/png": "[encoded data removed]",
      "text/plain": [
       "<Figure size 288x72 with 1 Axes>"
      ]
     },
     "metadata": {
      "needs_background": "light"
     },
     "output_type": "display_data"
    },
    {
     "data": {
      "image/png": "[encoded data removed]",
      "text/plain": [
       "<Figure size 288x72 with 1 Axes>"
      ]
     },
     "metadata": {
      "needs_background": "light"
     },
     "output_type": "display_data"
    },
    {
     "data": {
      "image/png": "[encoded data removed]",
      "text/plain": [
       "<Figure size 288x72 with 1 Axes>"
      ]
     },
     "metadata": {
      "needs_background": "light"
     },
     "output_type": "display_data"
    },
    {
     "data": {
      "image/png": "[encoded data removed]",
      "text/plain": [
       "<Figure size 288x72 with 1 Axes>"
      ]
     },
     "metadata": {
      "needs_background": "light"
     },
     "output_type": "display_data"
    },
    {
     "data": {
      "image/png": "[encoded data removed]",
      "text/plain": [
       "<Figure size 288x72 with 1 Axes>"
      ]
     },
     "metadata": {
      "needs_background": "light"
     },
     "output_type": "display_data"
    },
    {
     "data": {
      "image/png": "[encoded data removed]",
      "text/plain": [
       "<Figure size 288x72 with 1 Axes>"
      ]
     },
     "metadata": {
      "needs_background": "light"
     },
     "output_type": "display_data"
    },
    {
     "data": {
      "image/png": "[encoded data removed]",
      "text/plain": [
       "<Figure size 288x72 with 1 Axes>"
      ]
     },
     "metadata": {
      "needs_background": "light"
     },
     "output_type": "display_data"
    },
    {
     "data": {
      "image/png": "[encoded data removed]",
      "text/plain": [
       "<Figure size 288x72 with 1 Axes>"
      ]
     },
     "metadata": {
      "needs_background": "light"
     },
     "output_type": "display_data"
    },
    {
     "data": {
      "image/png": "[encoded data removed]",
      "text/plain": [
       "<Figure size 288x72 with 1 Axes>"
      ]
     },
     "metadata": {
      "needs_background": "light"
     },
     "output_type": "display_data"
    },
    {
     "data": {
      "image/png": "[encoded data removed]",
      "text/plain": [
       "<Figure size 288x72 with 1 Axes>"
      ]
     },
     "metadata": {
      "needs_background": "light"
     },
     "output_type": "display_data"
    },
    {
     "data": {
      "image/png": "[encoded data removed]",
      "text/plain": [
       "<Figure size 288x72 with 1 Axes>"
      ]
     },
     "metadata": {
      "needs_background": "light"
     },
     "output_type": "display_data"
    }
   ],
   "source": [
    "Legend.from_image('z_Lithology_legend_gapless2.png', components).plot()"
   ]
  },
  {
   "cell_type": "markdown",
   "metadata": {},
   "source": [
    "## Querying a legend"
   ]
  },
  {
   "cell_type": "markdown",
   "metadata": {
    "internals": {},
    "slideshow": {
     "slide_type": "-"
    }
   },
   "source": [
    "The legend is basically a query table. We can ask the Legend what colour to use for a given Rock object:"
   ]
  },
  {
   "cell_type": "code",
   "execution_count": 28,
   "metadata": {
    "internals": {},
    "scrolled": false,
    "slideshow": {
     "slide_type": "-"
    }
   },
   "outputs": [
    {
     "data": {
      "text/plain": [
       "'#eeeeee'"
      ]
     },
     "execution_count": 28,
     "metadata": {},
     "output_type": "execute_result"
    }
   ],
   "source": [
    "legend.get_colour(rock)"
   ]
  },
  {
   "cell_type": "code",
   "execution_count": 29,
   "metadata": {
    "internals": {},
    "slideshow": {
     "slide_type": "-"
    }
   },
   "outputs": [
    {
     "data": {
      "text/plain": [
       "'#ffdbba'"
      ]
     },
     "execution_count": 29,
     "metadata": {},
     "output_type": "execute_result"
    }
   ],
   "source": [
    "rock3 = Component({'colour': 'red',\n",
    "           'grainsize': 'vf-f',\n",
    "           'lithology': 'sandstone'})\n",
    "legend.get_colour(rock3)"
   ]
  },
  {
   "cell_type": "code",
   "execution_count": 30,
   "metadata": {},
   "outputs": [
    {
     "data": {
      "text/html": [
       "<table><tr><th>colour</th><th>hatch</th><th>component</th><th>width</th></tr><tr><td style=\"color:#000000; background-color:#5ff68b\">#5ff68b</td><td style=\"color:black; background-color:white\">None</td><td style=\"color:black; background-color:white\"><table><tr><td><strong>colour</strong></td><td>red</td></tr><tr><td><strong>grainsize</strong></td><td>vf-f</td></tr><tr><td><strong>lithology</strong></td><td>sandstone</td></tr></table></td><td style=\"color:black; background-color:white\">None</td></tr></table>"
      ],
      "text/plain": [
       "Legend(Decor({'_colour': '#5ff68b', 'component': Component({'colour': 'red', 'grainsize': 'vf-f', 'lithology': 'sandstone'}), 'width': None, 'hatch': None}))"
      ]
     },
     "execution_count": 30,
     "metadata": {},
     "output_type": "execute_result"
    }
   ],
   "source": [
    "Legend.random(rock3)"
   ]
  },
  {
   "cell_type": "markdown",
   "metadata": {
    "internals": {},
    "slideshow": {
     "slide_type": "-"
    }
   },
   "source": [
    "Sometimes we also want to use a width for a given lithology:"
   ]
  },
  {
   "cell_type": "code",
   "execution_count": 31,
   "metadata": {
    "internals": {},
    "slideshow": {
     "slide_type": "-"
    }
   },
   "outputs": [
    {
     "data": {
      "text/plain": [
       "3.0"
      ]
     },
     "execution_count": 31,
     "metadata": {},
     "output_type": "execute_result"
    }
   ],
   "source": [
    "legend.get_width(rock3)"
   ]
  },
  {
   "cell_type": "markdown",
   "metadata": {
    "internals": {},
    "slideshow": {
     "slide_type": "-"
    }
   },
   "source": [
    "We can also ask the legend which Rock is represented by a particular colour. (I doubt you'd ever really need to do this, but I had to implement this to allow you to make a `Striplog` from an image: it looks up the rocks to use by colour.)"
   ]
  },
  {
   "cell_type": "code",
   "execution_count": 32,
   "metadata": {
    "internals": {},
    "slideshow": {
     "slide_type": "-"
    }
   },
   "outputs": [
    {
     "data": {
      "text/html": [
       "<table><tr><td><strong>lithology</strong></td><td>sandstone</td></tr><tr><td><strong>colour</strong></td><td>grey</td></tr><tr><td><strong>grainsize</strong></td><td>vf-f</td></tr></table>"
      ],
      "text/plain": [
       "Component({'lithology': 'sandstone', 'colour': 'grey', 'grainsize': 'vf-f'})"
      ]
     },
     "execution_count": 32,
     "metadata": {},
     "output_type": "execute_result"
    }
   ],
   "source": [
    "legend.get_component('#f7e9a6')"
   ]
  },
  {
   "cell_type": "markdown",
   "metadata": {
    "internals": {},
    "slideshow": {
     "slide_type": "-"
    }
   },
   "source": [
    "The `Legend` behaves more or less like a list, so we can index into it:"
   ]
  },
  {
   "cell_type": "code",
   "execution_count": 33,
   "metadata": {
    "internals": {},
    "slideshow": {
     "slide_type": "-"
    }
   },
   "outputs": [
    {
     "data": {
      "text/html": [
       "<table><tr><th>colour</th><th>hatch</th><th>component</th><th>width</th></tr><tr><td style=\"color:#ffffff; background-color:#ff4c4a\">#ff4c4a</td><td style=\"color:black; background-color:white\">None</td><td style=\"color:black; background-color:white\"><table><tr><td><strong>lithology</strong></td><td>volcanic</td></tr></table></td><td style=\"color:black; background-color:white\">2.0</td></tr><tr><td style=\"color:#000000; background-color:#86f0b6\">#86f0b6</td><td style=\"color:black; background-color:white\">None</td><td style=\"color:black; background-color:white\"><table><tr><td><strong>lithology</strong></td><td>conglomerate</td></tr></table></td><td style=\"color:black; background-color:white\">5.0</td></tr></table>"
      ],
      "text/plain": [
       "Legend(Decor({'_colour': '#ff4c4a', 'width': 2.0, 'component': Component({'lithology': 'volcanic'}), 'hatch': None})\n",
       "Decor({'_colour': '#86f0b6', 'width': 5.0, 'component': Component({'lithology': 'conglomerate'}), 'hatch': None}))"
      ]
     },
     "execution_count": 33,
     "metadata": {},
     "output_type": "execute_result"
    }
   ],
   "source": [
    "legend[3:5]"
   ]
  },
  {
   "cell_type": "markdown",
   "metadata": {
    "internals": {},
    "slideshow": {
     "slide_type": "-"
    }
   },
   "source": [
    "`Legend`s can plot themselves. "
   ]
  },
  {
   "cell_type": "code",
   "execution_count": 34,
   "metadata": {
    "internals": {},
    "slideshow": {
     "slide_type": "-"
    }
   },
   "outputs": [
    {
     "data": {
      "image/png": "[encoded data removed]",
      "text/plain": [
       "<Figure size 288x72 with 1 Axes>"
      ]
     },
     "metadata": {
      "needs_background": "light"
     },
     "output_type": "display_data"
    },
    {
     "data": {
      "image/png": "[encoded data removed]",
      "text/plain": [
       "<Figure size 288x72 with 1 Axes>"
      ]
     },
     "metadata": {
      "needs_background": "light"
     },
     "output_type": "display_data"
    },
    {
     "data": {
      "image/png": "[encoded data removed]",
      "text/plain": [
       "<Figure size 288x72 with 1 Axes>"
      ]
     },
     "metadata": {
      "needs_background": "light"
     },
     "output_type": "display_data"
    },
    {
     "data": {
      "image/png": "[encoded data removed]",
      "text/plain": [
       "<Figure size 288x72 with 1 Axes>"
      ]
     },
     "metadata": {
      "needs_background": "light"
     },
     "output_type": "display_data"
    },
    {
     "data": {
      "image/png": "[encoded data removed]",
      "text/plain": [
       "<Figure size 288x72 with 1 Axes>"
      ]
     },
     "metadata": {
      "needs_background": "light"
     },
     "output_type": "display_data"
    },
    {
     "data": {
      "image/png": "[encoded data removed]",
      "text/plain": [
       "<Figure size 288x72 with 1 Axes>"
      ]
     },
     "metadata": {
      "needs_background": "light"
     },
     "output_type": "display_data"
    },
    {
     "data": {
      "image/png": "[encoded data removed]",
      "text/plain": [
       "<Figure size 288x72 with 1 Axes>"
      ]
     },
     "metadata": {
      "needs_background": "light"
     },
     "output_type": "display_data"
    },
    {
     "data": {
      "image/png": "[encoded data removed]",
      "text/plain": [
       "<Figure size 288x72 with 1 Axes>"
      ]
     },
     "metadata": {
      "needs_background": "light"
     },
     "output_type": "display_data"
    },
    {
     "data": {
      "image/png": "[encoded data removed]",
      "text/plain": [
       "<Figure size 288x72 with 1 Axes>"
      ]
     },
     "metadata": {
      "needs_background": "light"
     },
     "output_type": "display_data"
    },
    {
     "data": {
      "image/png": "[encoded data removed]",
      "text/plain": [
       "<Figure size 288x72 with 1 Axes>"
      ]
     },
     "metadata": {
      "needs_background": "light"
     },
     "output_type": "display_data"
    },
    {
     "data": {
      "image/png": "[encoded data removed]",
      "text/plain": [
       "<Figure size 288x72 with 1 Axes>"
      ]
     },
     "metadata": {
      "needs_background": "light"
     },
     "output_type": "display_data"
    },
    {
     "data": {
      "image/png": "[encoded data removed]",
      "text/plain": [
       "<Figure size 288x72 with 1 Axes>"
      ]
     },
     "metadata": {
      "needs_background": "light"
     },
     "output_type": "display_data"
    },
    {
     "data": {
      "image/png": "[encoded data removed]",
      "text/plain": [
       "<Figure size 288x72 with 1 Axes>"
      ]
     },
     "metadata": {
      "needs_background": "light"
     },
     "output_type": "display_data"
    },
    {
     "data": {
      "image/png": "[encoded data removed]",
      "text/plain": [
       "<Figure size 288x72 with 1 Axes>"
      ]
     },
     "metadata": {
      "needs_background": "light"
     },
     "output_type": "display_data"
    },
    {
     "data": {
      "image/png": "[encoded data removed]",
      "text/plain": [
       "<Figure size 288x72 with 1 Axes>"
      ]
     },
     "metadata": {
      "needs_background": "light"
     },
     "output_type": "display_data"
    },
    {
     "data": {
      "image/png": "[encoded data removed]",
      "text/plain": [
       "<Figure size 288x72 with 1 Axes>"
      ]
     },
     "metadata": {
      "needs_background": "light"
     },
     "output_type": "display_data"
    },
    {
     "data": {
      "image/png": "[encoded data removed]",
      "text/plain": [
       "<Figure size 288x72 with 1 Axes>"
      ]
     },
     "metadata": {
      "needs_background": "light"
     },
     "output_type": "display_data"
    },
    {
     "data": {
      "image/png": "[encoded data removed]",
      "text/plain": [
       "<Figure size 288x72 with 1 Axes>"
      ]
     },
     "metadata": {
      "needs_background": "light"
     },
     "output_type": "display_data"
    }
   ],
   "source": [
    "legend.plot()"
   ]
  },
  {
   "cell_type": "markdown",
   "metadata": {
    "internals": {},
    "slideshow": {
     "slide_type": "-"
    }
   },
   "source": [
    "Sometimes you don't want to have to make a legend, so you can use a random one. Just pass a list of `Component`s..."
   ]
  },
  {
   "cell_type": "code",
   "execution_count": 35,
   "metadata": {
    "internals": {},
    "slideshow": {
     "slide_type": "-"
    }
   },
   "outputs": [
    {
     "data": {
      "image/png": "[encoded data removed]",
      "text/plain": [
       "<Figure size 288x72 with 1 Axes>"
      ]
     },
     "metadata": {
      "needs_background": "light"
     },
     "output_type": "display_data"
    },
    {
     "data": {
      "image/png": "[encoded data removed]",
      "text/plain": [
       "<Figure size 288x72 with 1 Axes>"
      ]
     },
     "metadata": {
      "needs_background": "light"
     },
     "output_type": "display_data"
    },
    {
     "data": {
      "image/png": "[encoded data removed]",
      "text/plain": [
       "<Figure size 288x72 with 1 Axes>"
      ]
     },
     "metadata": {
      "needs_background": "light"
     },
     "output_type": "display_data"
    },
    {
     "data": {
      "image/png": "[encoded data removed]",
      "text/plain": [
       "<Figure size 288x72 with 1 Axes>"
      ]
     },
     "metadata": {
      "needs_background": "light"
     },
     "output_type": "display_data"
    },
    {
     "data": {
      "image/png": "[encoded data removed]",
      "text/plain": [
       "<Figure size 288x72 with 1 Axes>"
      ]
     },
     "metadata": {
      "needs_background": "light"
     },
     "output_type": "display_data"
    },
    {
     "data": {
      "image/png": "[encoded data removed]",
      "text/plain": [
       "<Figure size 288x72 with 1 Axes>"
      ]
     },
     "metadata": {
      "needs_background": "light"
     },
     "output_type": "display_data"
    },
    {
     "data": {
      "image/png": "[encoded data removed]",
      "text/plain": [
       "<Figure size 288x72 with 1 Axes>"
      ]
     },
     "metadata": {
      "needs_background": "light"
     },
     "output_type": "display_data"
    }
   ],
   "source": [
    "# We'll scrape a quick list of 7 components from the default legend:\n",
    "c = [d.component for d in legend[:7]]\n",
    "\n",
    "l = Legend.random(c)\n",
    "l.plot()"
   ]
  },
  {
   "cell_type": "markdown",
   "metadata": {},
   "source": [
    "There is a default colour table for geological timescales too... it's based on the Wikipedia's colour scheme for the geological timetable. "
   ]
  },
  {
   "cell_type": "code",
   "execution_count": 36,
   "metadata": {},
   "outputs": [
    {
     "data": {
      "image/png": "[encoded data removed]",
      "text/plain": [
       "<Figure size 288x72 with 1 Axes>"
      ]
     },
     "metadata": {
      "needs_background": "light"
     },
     "output_type": "display_data"
    },
    {
     "data": {
      "image/png": "[encoded data removed]",
      "text/plain": [
       "<Figure size 288x72 with 1 Axes>"
      ]
     },
     "metadata": {
      "needs_background": "light"
     },
     "output_type": "display_data"
    },
    {
     "data": {
      "image/png": "[encoded data removed]",
      "text/plain": [
       "<Figure size 288x72 with 1 Axes>"
      ]
     },
     "metadata": {
      "needs_background": "light"
     },
     "output_type": "display_data"
    },
    {
     "data": {
      "image/png": "[encoded data removed]",
      "text/plain": [
       "<Figure size 288x72 with 1 Axes>"
      ]
     },
     "metadata": {
      "needs_background": "light"
     },
     "output_type": "display_data"
    },
    {
     "data": {
      "image/png": "[encoded data removed]",
      "text/plain": [
       "<Figure size 288x72 with 1 Axes>"
      ]
     },
     "metadata": {
      "needs_background": "light"
     },
     "output_type": "display_data"
    }
   ],
   "source": [
    "time[74:79].plot(fmt=\"{age!t}\")  # Pass a format for proper case"
   ]
  },
  {
   "cell_type": "markdown",
   "metadata": {},
   "source": [
    "## Hatch patterns"
   ]
  },
  {
   "cell_type": "code",
   "execution_count": 37,
   "metadata": {},
   "outputs": [
    {
     "data": {
      "image/png": "[encoded data removed]",
      "text/plain": [
       "<Figure size 288x72 with 1 Axes>"
      ]
     },
     "metadata": {
      "needs_background": "light"
     },
     "output_type": "display_data"
    },
    {
     "data": {
      "image/png": "[encoded data removed]",
      "text/plain": [
       "<Figure size 288x72 with 1 Axes>"
      ]
     },
     "metadata": {
      "needs_background": "light"
     },
     "output_type": "display_data"
    },
    {
     "data": {
      "image/png": "[encoded data removed]",
      "text/plain": [
       "<Figure size 288x72 with 1 Axes>"
      ]
     },
     "metadata": {
      "needs_background": "light"
     },
     "output_type": "display_data"
    },
    {
     "data": {
      "image/png": "[encoded data removed]",
      "text/plain": [
       "<Figure size 288x72 with 1 Axes>"
      ]
     },
     "metadata": {
      "needs_background": "light"
     },
     "output_type": "display_data"
    },
    {
     "data": {
      "image/png": "[encoded data removed]",
      "text/plain": [
       "<Figure size 288x72 with 1 Axes>"
      ]
     },
     "metadata": {
      "needs_background": "light"
     },
     "output_type": "display_data"
    },
    {
     "data": {
      "image/png": "[encoded data removed]",
      "text/plain": [
       "<Figure size 288x72 with 1 Axes>"
      ]
     },
     "metadata": {
      "needs_background": "light"
     },
     "output_type": "display_data"
    },
    {
     "data": {
      "image/png": "[encoded data removed]",
      "text/plain": [
       "<Figure size 288x72 with 1 Axes>"
      ]
     },
     "metadata": {
      "needs_background": "light"
     },
     "output_type": "display_data"
    },
    {
     "data": {
      "image/png": "[encoded data removed]",
      "text/plain": [
       "<Figure size 288x72 with 1 Axes>"
      ]
     },
     "metadata": {
      "needs_background": "light"
     },
     "output_type": "display_data"
    },
    {
     "data": {
      "image/png": "[encoded data removed]",
      "text/plain": [
       "<Figure size 288x72 with 1 Axes>"
      ]
     },
     "metadata": {
      "needs_background": "light"
     },
     "output_type": "display_data"
    },
    {
     "data": {
      "image/png": "[encoded data removed]",
      "text/plain": [
       "<Figure size 288x72 with 1 Axes>"
      ]
     },
     "metadata": {
      "needs_background": "light"
     },
     "output_type": "display_data"
    }
   ],
   "source": [
    "hatchy = \"\"\"colour,width,hatch,component colour,component grainsize,component lithology\n",
    "#dddddd,1,+,,,siltstone,\n",
    "#dddddd,1,+++,,,greywacke,\n",
    "#dddddd,2,x,,,anhydrite,\n",
    "#dddddd,2,xxx,,,gypsum,\n",
    "#dddddd,3,/,,,missing,\n",
    "#dddddd,4,..,,,sandstone,\n",
    "#dddddd,5,o,,,conglomerate,\n",
    "#dddddd,5,0,,,till,\n",
    "#dddddd,6,---,,,mudstone,\n",
    "#dddddd,7,,,,limestone,\n",
    "\"\"\"\n",
    "Legend.from_csv(text=hatchy).plot()"
   ]
  },
  {
   "cell_type": "markdown",
   "metadata": {},
   "source": [
    "## Bugs\n",
    "\n",
    "### Decor plots with axes\n",
    "\n",
    "These should plot as square patches, not rectangles. The text actually flows off the right-hand edge of the plot. "
   ]
  },
  {
   "cell_type": "code",
   "execution_count": 38,
   "metadata": {},
   "outputs": [
    {
     "data": {
      "image/png": "[encoded data removed]",
      "text/plain": [
       "<Figure size 216x720 with 7 Axes>"
      ]
     },
     "metadata": {
      "needs_background": "light"
     },
     "output_type": "display_data"
    }
   ],
   "source": [
    "import matplotlib.pyplot as plt\n",
    "fig = plt.figure(figsize=(3, 10))\n",
    "for i, d in enumerate(l):\n",
    "    ax = fig.add_subplot(len(l), 1, i+1)\n",
    "    ax = d.plot(ax=ax)"
   ]
  },
  {
   "cell_type": "markdown",
   "metadata": {
    "internals": {
     "slide_helper": "subslide_end"
    },
    "slide_helper": "slide_end",
    "slideshow": {
     "slide_type": "-"
    }
   },
   "source": [
    "<hr />\n",
    "\n",
    "<p style=\"color:gray\">©2015 Agile Geoscience. Licensed CC-BY. <a href=\"https://github.com/agile-geoscience/striplog\">striplog.py</a></p>"
   ]
  }
 ],
 "metadata": {
  "kernelspec": {
   "display_name": "geocomp",
   "language": "python",
   "name": "geocomp"
  },
  "language_info": {
   "codemirror_mode": {
    "name": "ipython",
    "version": 3
   },
   "file_extension": ".py",
   "mimetype": "text/x-python",
   "name": "python",
   "nbconvert_exporter": "python",
   "pygments_lexer": "ipython3",
   "version": "3.8.5"
  }
 },
 "nbformat": 4,
 "nbformat_minor": 1
}
