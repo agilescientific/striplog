{
 "cells": [
  {
   "cell_type": "markdown",
   "metadata": {},
   "source": [
    "# `striplog` beyond the basics"
   ]
  },
  {
   "cell_type": "markdown",
   "metadata": {},
   "source": [
    "This notebooks looks at the main `striplog` object. For the basic objects it depends on, see [Basic objects](./02_Basic_objects.ipynb).\n",
    "\n",
    "First, import anything we might need."
   ]
  },
  {
   "cell_type": "code",
   "execution_count": 1,
   "metadata": {},
   "outputs": [
    {
     "data": {
      "text/plain": [
       "'0.8.4'"
      ]
     },
     "execution_count": 1,
     "metadata": {},
     "output_type": "execute_result"
    }
   ],
   "source": [
    "import matplotlib.pyplot as plt\n",
    "%matplotlib inline\n",
    "\n",
    "import numpy as np\n",
    "\n",
    "import striplog\n",
    "striplog.__version__"
   ]
  },
  {
   "cell_type": "code",
   "execution_count": 2,
   "metadata": {},
   "outputs": [],
   "source": [
    "from striplog import Legend, Lexicon, Interval, Component"
   ]
  },
  {
   "cell_type": "code",
   "execution_count": 3,
   "metadata": {},
   "outputs": [],
   "source": [
    "legend = Legend.builtin('NSDOE')\n",
    "lexicon = Lexicon.default()"
   ]
  },
  {
   "cell_type": "markdown",
   "metadata": {},
   "source": [
    "----\n",
    "\n",
    "## Making a `striplog` from a PNG"
   ]
  },
  {
   "cell_type": "code",
   "execution_count": 4,
   "metadata": {},
   "outputs": [],
   "source": [
    "from striplog import Striplog\n",
    "imgfile = \"M-MG-70_14.3_135.9.png\""
   ]
  },
  {
   "cell_type": "code",
   "execution_count": 5,
   "metadata": {},
   "outputs": [
    {
     "name": "stderr",
     "output_type": "stream",
     "text": [
      "/home/matt/anaconda3/envs/welly/lib/python3.8/site-packages/striplog/striplog.py:869: UserWarning: from_img() is deprecated; please use from_image()\n",
      "  warnings.warn(w)\n"
     ]
    },
    {
     "data": {
      "text/plain": [
       "Striplog(26 Intervals, start=14.3, stop=135.9)"
      ]
     },
     "execution_count": 5,
     "metadata": {},
     "output_type": "execute_result"
    }
   ],
   "source": [
    "strip = Striplog.from_img(imgfile, 14.3, 135.9, legend=legend)\n",
    "strip"
   ]
  },
  {
   "cell_type": "code",
   "execution_count": 6,
   "metadata": {},
   "outputs": [
    {
     "data": {
      "image/png": "[encoded data removed]",
      "text/plain": [
       "<Figure size 108x324 with 1 Axes>"
      ]
     },
     "metadata": {
      "needs_background": "light"
     },
     "output_type": "display_data"
    }
   ],
   "source": [
    "strip.plot(legend, ladder=True, aspect=3)"
   ]
  },
  {
   "cell_type": "markdown",
   "metadata": {},
   "source": [
    "----\n",
    "## Making, finding and annealing gaps"
   ]
  },
  {
   "cell_type": "markdown",
   "metadata": {},
   "source": [
    "This striplog doesn't have any gaps..."
   ]
  },
  {
   "cell_type": "code",
   "execution_count": 7,
   "metadata": {},
   "outputs": [
    {
     "data": {
      "text/plain": [
       "'No gaps!'"
      ]
     },
     "execution_count": 7,
     "metadata": {},
     "output_type": "execute_result"
    }
   ],
   "source": [
    "strip.find_gaps() or \"No gaps!\""
   ]
  },
  {
   "cell_type": "markdown",
   "metadata": {},
   "source": [
    "But we can make some by deleting indices:"
   ]
  },
  {
   "cell_type": "code",
   "execution_count": 8,
   "metadata": {},
   "outputs": [
    {
     "data": {
      "text/plain": [
       "Striplog(3 Intervals, start=54.81764705882354, stop=71.80588235294118)"
      ]
     },
     "execution_count": 8,
     "metadata": {},
     "output_type": "execute_result"
    }
   ],
   "source": [
    "del strip[[2, 7, 12]]\n",
    "strip.find_gaps()"
   ]
  },
  {
   "cell_type": "markdown",
   "metadata": {},
   "source": [
    "We can also get a list of the indices of intervals that are followed by gaps (i.e. are directly above gaps in 'depth' order, or directly below gaps in 'elevation' order)."
   ]
  },
  {
   "cell_type": "code",
   "execution_count": 9,
   "metadata": {},
   "outputs": [
    {
     "data": {
      "text/plain": [
       "[1, 5, 9]"
      ]
     },
     "execution_count": 9,
     "metadata": {},
     "output_type": "execute_result"
    }
   ],
   "source": [
    "strip.find_gaps(index=True)"
   ]
  },
  {
   "cell_type": "code",
   "execution_count": 10,
   "metadata": {},
   "outputs": [
    {
     "data": {
      "text/html": [
       "<table><tr><td style=\"width:2em; background-color:#DDDDDD\" rowspan=\"6\"></td><td><strong>top</strong></td><td>95.9</td></tr><tr><td><strong>primary</strong></td><td><table><tr><td><strong>lithology</strong></td><td>dolomite</td></tr></table></td></tr><tr><td><strong>summary</strong></td><td>0.38 m of dolomite</td></tr><tr><td><strong>description</strong></td><td></td></tr><tr><td><strong>data</strong></td><td><table></table></td></tr><tr><td><strong>base</strong></td><td>96.2764705882353</td></tr></table>"
      ],
      "text/plain": [
       "Interval({'top': Position({'middle': 95.9, 'units': 'm'}), 'base': Position({'middle': 96.2764705882353, 'units': 'm'}), 'description': '', 'data': {}, 'components': [Component({'lithology': 'dolomite'})]})"
      ]
     },
     "execution_count": 10,
     "metadata": {},
     "output_type": "execute_result"
    }
   ],
   "source": [
    "strip.thinnest()"
   ]
  },
  {
   "cell_type": "code",
   "execution_count": 11,
   "metadata": {},
   "outputs": [
    {
     "data": {
      "image/png": "[encoded data removed]",
      "text/plain": [
       "<Figure size 108x216 with 1 Axes>"
      ]
     },
     "metadata": {
      "needs_background": "light"
     },
     "output_type": "display_data"
    }
   ],
   "source": [
    "strip.thickest(n=5).plot(legend=legend, aspect=2)"
   ]
  },
  {
   "cell_type": "code",
   "execution_count": 12,
   "metadata": {},
   "outputs": [
    {
     "data": {
      "text/plain": [
       "Striplog(23 Intervals, start=14.3, stop=135.9)"
      ]
     },
     "execution_count": 12,
     "metadata": {},
     "output_type": "execute_result"
    }
   ],
   "source": [
    "strip"
   ]
  },
  {
   "cell_type": "code",
   "execution_count": 13,
   "metadata": {},
   "outputs": [
    {
     "data": {
      "image/png": "[encoded data removed]",
      "text/plain": [
       "<Figure size 108x540 with 1 Axes>"
      ]
     },
     "metadata": {
      "needs_background": "light"
     },
     "output_type": "display_data"
    }
   ],
   "source": [
    "strip = strip.prune(limit=1)\n",
    "strip.plot(legend=legend, aspect=5)"
   ]
  },
  {
   "cell_type": "code",
   "execution_count": 14,
   "metadata": {},
   "outputs": [
    {
     "data": {
      "image/png": "[encoded data removed]",
      "text/plain": [
       "<Figure size 108x540 with 1 Axes>"
      ]
     },
     "metadata": {
      "needs_background": "light"
     },
     "output_type": "display_data"
    }
   ],
   "source": [
    "strip = strip.anneal()\n",
    "strip.plot(legend=legend, aspect=5)"
   ]
  },
  {
   "cell_type": "code",
   "execution_count": 15,
   "metadata": {},
   "outputs": [
    {
     "data": {
      "text/plain": [
       "'No gaps!'"
      ]
     },
     "execution_count": 15,
     "metadata": {},
     "output_type": "execute_result"
    }
   ],
   "source": [
    "strip.find_gaps() or \"No gaps!\""
   ]
  },
  {
   "cell_type": "markdown",
   "metadata": {},
   "source": [
    "## Label the intervals"
   ]
  },
  {
   "cell_type": "code",
   "execution_count": 16,
   "metadata": {},
   "outputs": [
    {
     "data": {
      "image/png": "[encoded data removed]",
      "text/plain": [
       "<Figure size 108x540 with 1 Axes>"
      ]
     },
     "metadata": {
      "needs_background": "light"
     },
     "output_type": "display_data"
    }
   ],
   "source": [
    "strip.plot(label='lithology', legend=legend, aspect=5)"
   ]
  },
  {
   "cell_type": "code",
   "execution_count": 17,
   "metadata": {},
   "outputs": [
    {
     "data": {
      "image/png": "[encoded data removed]",
      "text/plain": [
       "<Figure size 432x288 with 2 Axes>"
      ]
     },
     "metadata": {
      "needs_background": "light"
     },
     "output_type": "display_data"
    }
   ],
   "source": [
    "fig, axs = plt.subplots(ncols=2, sharey=True)\n",
    "axs[0] = strip.plot(ax=axs[0], legend=legend)\n",
    "axs[1] = strip.plot_tops(axs[1], field='lithology', )\n",
    "axs[1].axis('off')\n",
    "plt.show()"
   ]
  },
  {
   "cell_type": "code",
   "execution_count": 18,
   "metadata": {},
   "outputs": [
    {
     "data": {
      "text/html": [
       "<table><tr><td style=\"width:2em; background-color:#DDDDDD\" rowspan=\"6\"></td><td><strong>top</strong></td><td>14.3</td></tr><tr><td><strong>primary</strong></td><td><table><tr><td><strong>lithology</strong></td><td>anhydrite</td></tr></table></td></tr><tr><td><strong>summary</strong></td><td>36.94 m of anhydrite</td></tr><tr><td><strong>description</strong></td><td></td></tr><tr><td><strong>data</strong></td><td><table></table></td></tr><tr><td><strong>base</strong></td><td>51.24117647058824</td></tr></table>"
      ],
      "text/plain": [
       "Interval({'top': Position({'middle': 14.3, 'units': 'm'}), 'base': Position({'middle': 51.24117647058824, 'units': 'm'}), 'description': '', 'data': {}, 'components': [Component({'lithology': 'anhydrite'})]})"
      ]
     },
     "execution_count": 18,
     "metadata": {},
     "output_type": "execute_result"
    }
   ],
   "source": [
    "strip[0]"
   ]
  },
  {
   "cell_type": "code",
   "execution_count": 19,
   "metadata": {},
   "outputs": [
    {
     "data": {
      "text/plain": [
       "3.14"
      ]
     },
     "execution_count": 19,
     "metadata": {},
     "output_type": "execute_result"
    }
   ],
   "source": [
    "round(3.1415936, 2)"
   ]
  },
  {
   "cell_type": "code",
   "execution_count": 20,
   "metadata": {},
   "outputs": [
    {
     "data": {
      "text/html": [
       "<table><tr><td style=\"width:2em; background-color:#DDDDDD\" rowspan=\"6\"></td><td><strong>top</strong></td><td>14.3</td></tr><tr><td><strong>primary</strong></td><td><table><tr><td><strong>lithology</strong></td><td>anhydrite</td></tr></table></td></tr><tr><td><strong>summary</strong></td><td>36.94 m of anhydrite</td></tr><tr><td><strong>description</strong></td><td></td></tr><tr><td><strong>data</strong></td><td><table><tr><td><strong>por</strong></td><td>0.052</td></tr></table></td></tr><tr><td><strong>base</strong></td><td>51.24117647058824</td></tr></table>"
      ],
      "text/plain": [
       "Interval({'top': Position({'middle': 14.3, 'units': 'm'}), 'base': Position({'middle': 51.24117647058824, 'units': 'm'}), 'description': '', 'data': {'por': 0.052}, 'components': [Component({'lithology': 'anhydrite'})]})"
      ]
     },
     "execution_count": 20,
     "metadata": {},
     "output_type": "execute_result"
    }
   ],
   "source": [
    "import random\n",
    "\n",
    "for iv in strip:\n",
    "    iv.data['por'] = round(random.random() / 4, 3)\n",
    "    \n",
    "strip[0]"
   ]
  },
  {
   "cell_type": "code",
   "execution_count": 21,
   "metadata": {},
   "outputs": [
    {
     "data": {
      "image/png": "[encoded data removed]",
      "text/plain": [
       "<Figure size 108x324 with 1 Axes>"
      ]
     },
     "metadata": {
      "needs_background": "light"
     },
     "output_type": "display_data"
    }
   ],
   "source": [
    "strip.plot(style='field', field='por', aspect=3)"
   ]
  },
  {
   "cell_type": "code",
   "execution_count": 22,
   "metadata": {},
   "outputs": [
    {
     "data": {
      "text/plain": [
       "32.77058823529412"
      ]
     },
     "execution_count": 22,
     "metadata": {},
     "output_type": "execute_result"
    }
   ],
   "source": [
    "strip[0].middle"
   ]
  },
  {
   "cell_type": "code",
   "execution_count": 23,
   "metadata": {},
   "outputs": [
    {
     "data": {
      "text/plain": [
       "'anhydrite'"
      ]
     },
     "execution_count": 23,
     "metadata": {},
     "output_type": "execute_result"
    }
   ],
   "source": [
    "strip[0].primary['lithology']"
   ]
  },
  {
   "cell_type": "code",
   "execution_count": null,
   "metadata": {},
   "outputs": [],
   "source": []
  },
  {
   "cell_type": "markdown",
   "metadata": {},
   "source": [
    "### Other types of anneal"
   ]
  },
  {
   "cell_type": "code",
   "execution_count": 24,
   "metadata": {},
   "outputs": [
    {
     "data": {
      "image/png": "[encoded data removed]",
      "text/plain": [
       "<Figure size 108x108 with 1 Axes>"
      ]
     },
     "metadata": {
      "needs_background": "light"
     },
     "output_type": "display_data"
    }
   ],
   "source": [
    "s = strip[[1, 3]]\n",
    "s.plot(legend=legend, aspect=1)"
   ]
  },
  {
   "cell_type": "code",
   "execution_count": 25,
   "metadata": {},
   "outputs": [
    {
     "data": {
      "image/png": "[encoded data removed]",
      "text/plain": [
       "<Figure size 288x144 with 2 Axes>"
      ]
     },
     "metadata": {
      "needs_background": "light"
     },
     "output_type": "display_data"
    }
   ],
   "source": [
    "# Default behaviour: meet in middle.\n",
    "fig, axs = plt.subplots(ncols=2, figsize=(4,2))\n",
    "s.plot(legend=legend, aspect=1, ax=axs[0])\n",
    "s.anneal(mode='middle').plot(legend=legend, ax=axs[1])\n",
    "plt.show()"
   ]
  },
  {
   "cell_type": "code",
   "execution_count": 26,
   "metadata": {},
   "outputs": [
    {
     "data": {
      "image/png": "[encoded data removed]",
      "text/plain": [
       "<Figure size 288x144 with 2 Axes>"
      ]
     },
     "metadata": {
      "needs_background": "light"
     },
     "output_type": "display_data"
    }
   ],
   "source": [
    "fig, axs = plt.subplots(ncols=2, figsize=(4,2))\n",
    "s.plot(legend=legend, aspect=1, ax=axs[0])\n",
    "s.anneal(mode='up').plot(legend=legend, ax=axs[1])\n",
    "plt.show()"
   ]
  },
  {
   "cell_type": "code",
   "execution_count": 27,
   "metadata": {},
   "outputs": [
    {
     "data": {
      "image/png": "[encoded data removed]",
      "text/plain": [
       "<Figure size 288x144 with 2 Axes>"
      ]
     },
     "metadata": {
      "needs_background": "light"
     },
     "output_type": "display_data"
    }
   ],
   "source": [
    "fig, axs = plt.subplots(ncols=2, figsize=(4,2))\n",
    "s.plot(legend=legend, aspect=1, ax=axs[0])\n",
    "s.anneal(mode='down').plot(legend=legend, ax=axs[1])\n",
    "plt.show()"
   ]
  },
  {
   "cell_type": "markdown",
   "metadata": {},
   "source": [
    "----\n",
    "## Overlapping intervals\n",
    "\n",
    "If there are overlapping intervals in a striplog, you can find them with `find_overlaps()`. "
   ]
  },
  {
   "cell_type": "code",
   "execution_count": 28,
   "metadata": {},
   "outputs": [],
   "source": [
    "lappy = Striplog([Interval(**{'top': 50, 'base': 60, 'components':[Component({'lithology': 'dolomite'}),]}),\n",
    "                  Interval(**{'top': 55, 'base': 75, 'components':[Component({'lithology': 'limestone'}),]}),\n",
    "                  Interval(**{'top': 75, 'base': 80, 'components':[Component({'lithology': 'volcanic'}),]}), \n",
    "                  Interval(**{'top': 78, 'base': 90, 'components':[Component({'lithology': 'anhydrite'}),]})\n",
    "                  ])"
   ]
  },
  {
   "cell_type": "code",
   "execution_count": 29,
   "metadata": {},
   "outputs": [
    {
     "data": {
      "text/plain": [
       "[0, 2]"
      ]
     },
     "execution_count": 29,
     "metadata": {},
     "output_type": "execute_result"
    }
   ],
   "source": [
    "lappy.find_overlaps(index=True)"
   ]
  },
  {
   "cell_type": "code",
   "execution_count": 30,
   "metadata": {},
   "outputs": [
    {
     "data": {
      "image/png": "[encoded data removed]",
      "text/plain": [
       "<Figure size 216x360 with 2 Axes>"
      ]
     },
     "metadata": {
      "needs_background": "light"
     },
     "output_type": "display_data"
    }
   ],
   "source": [
    "overlaps = lappy.find_overlaps()\n",
    "\n",
    "fig, (ax0, ax1) = plt.subplots(1, 2, sharey=True, figsize=(3,5))\n",
    "\n",
    "# Use alpha to highlight overlaps.\n",
    "ax0 = lappy.plot(legend, ax=ax0, alpha=0.75, lw=1)\n",
    "ax1 = overlaps.plot(ax=ax1)\n",
    "\n",
    "ax0.set_title('lappy')\n",
    "ax1.set_title('overlaps')\n",
    "\n",
    "ax0.set_ylim(100, 40)\n",
    "\n",
    "plt.show()"
   ]
  },
  {
   "cell_type": "markdown",
   "metadata": {},
   "source": [
    "The `merge_overlaps()` method operates in place and returns nothing."
   ]
  },
  {
   "cell_type": "code",
   "execution_count": 31,
   "metadata": {},
   "outputs": [],
   "source": [
    "lappy.merge_overlaps()"
   ]
  },
  {
   "cell_type": "markdown",
   "metadata": {},
   "source": [
    "Now there are no overlaps!"
   ]
  },
  {
   "cell_type": "code",
   "execution_count": 32,
   "metadata": {},
   "outputs": [],
   "source": [
    "lappy.find_overlaps()"
   ]
  },
  {
   "cell_type": "code",
   "execution_count": 33,
   "metadata": {},
   "outputs": [
    {
     "data": {
      "image/png": "[encoded data removed]",
      "text/plain": [
       "<Figure size 108x324 with 1 Axes>"
      ]
     },
     "metadata": {
      "needs_background": "light"
     },
     "output_type": "display_data"
    }
   ],
   "source": [
    "lappy.plot(legend, aspect=3, alpha=0.75, ec='k', lw=0.5)"
   ]
  },
  {
   "cell_type": "markdown",
   "metadata": {},
   "source": [
    "The merged intervals have mixed components:"
   ]
  },
  {
   "cell_type": "code",
   "execution_count": 34,
   "metadata": {},
   "outputs": [
    {
     "data": {
      "text/plain": [
       "[Component({'lithology': 'dolomite'}), Component({'lithology': 'limestone'})]"
      ]
     },
     "execution_count": 34,
     "metadata": {},
     "output_type": "execute_result"
    }
   ],
   "source": [
    "lappy[1].components"
   ]
  },
  {
   "cell_type": "markdown",
   "metadata": {},
   "source": [
    "Note that the description is rather garbled."
   ]
  },
  {
   "cell_type": "code",
   "execution_count": 35,
   "metadata": {},
   "outputs": [
    {
     "data": {
      "text/plain": [
       "'66.7% 20.00 m of limestone with 33.3% 10.00 m of dolomite'"
      ]
     },
     "execution_count": 35,
     "metadata": {},
     "output_type": "execute_result"
    }
   ],
   "source": [
    "lappy[1].description"
   ]
  },
  {
   "cell_type": "markdown",
   "metadata": {},
   "source": [
    "## Merge\n",
    "\n",
    "New way to merge. Uses precendence to decide what to take in each merge zone. \n",
    "\n",
    "**Note, does not combine the components in a merge zone. You have to choose one or the other.**"
   ]
  },
  {
   "cell_type": "code",
   "execution_count": 36,
   "metadata": {},
   "outputs": [
    {
     "data": {
      "image/png": "[encoded data removed]",
      "text/plain": [
       "<Figure size 108x216 with 1 Axes>"
      ]
     },
     "metadata": {
      "needs_background": "light"
     },
     "output_type": "display_data"
    }
   ],
   "source": [
    "lappy = Striplog([Interval(**{'top': 50, 'base': 60, 'components':[Component({'lithology': 'dolomite'}),]}),\n",
    "                  Interval(**{'top': 55, 'base': 75, 'components':[Component({'lithology': 'limestone'}),]}),\n",
    "                  Interval(**{'top': 75, 'base': 80, 'components':[Component({'lithology': 'volcanic'}),]}), \n",
    "                  Interval(**{'top': 78, 'base': 90, 'components':[Component({'lithology': 'anhydrite'}),]})\n",
    "                  ])\n",
    "\n",
    "lappy.plot(legend, aspect=2, alpha=0.75)"
   ]
  },
  {
   "cell_type": "markdown",
   "metadata": {},
   "source": [
    "You have to provide an `Interval` attribute (like 'top', 'base', or 'thickness') **or** a component attribute to merge on (if you use a component attribute, `merge` gets this attribute from the primary component to decide what to keep in each zone). The attribute must suport ordering &mdash; `striplog` keeps the thing with the larger value (or the thing which comes last in the ordering), e.g. the thickest, deepest, etc. If you want the reverse behaviour (keep the thinnest, shallowest, etc, then pass the `reverse=True`."
   ]
  },
  {
   "cell_type": "code",
   "execution_count": 37,
   "metadata": {},
   "outputs": [
    {
     "data": {
      "image/png": "[encoded data removed]",
      "text/plain": [
       "<Figure size 108x216 with 1 Axes>"
      ]
     },
     "metadata": {
      "needs_background": "light"
     },
     "output_type": "display_data"
    }
   ],
   "source": [
    "lappy.plot(legend, aspect=2, alpha=0.75)"
   ]
  },
  {
   "cell_type": "code",
   "execution_count": 38,
   "metadata": {},
   "outputs": [
    {
     "data": {
      "image/png": "[encoded data removed]",
      "text/plain": [
       "<Figure size 108x216 with 1 Axes>"
      ]
     },
     "metadata": {
      "needs_background": "light"
     },
     "output_type": "display_data"
    }
   ],
   "source": [
    "lappy.merge('top').plot(legend, aspect=2, lw=1)"
   ]
  },
  {
   "cell_type": "code",
   "execution_count": 39,
   "metadata": {},
   "outputs": [
    {
     "data": {
      "text/plain": [
       "55.0"
      ]
     },
     "execution_count": 39,
     "metadata": {},
     "output_type": "execute_result"
    }
   ],
   "source": [
    "lappy.merge('top')[0].base.z"
   ]
  },
  {
   "cell_type": "code",
   "execution_count": 40,
   "metadata": {},
   "outputs": [
    {
     "data": {
      "text/plain": [
       "60.0"
      ]
     },
     "execution_count": 40,
     "metadata": {},
     "output_type": "execute_result"
    }
   ],
   "source": [
    "lappy.merge('top', reverse=True)[0].base.z"
   ]
  },
  {
   "cell_type": "code",
   "execution_count": 41,
   "metadata": {},
   "outputs": [
    {
     "data": {
      "image/png": "[encoded data removed]",
      "text/plain": [
       "<Figure size 432x288 with 2 Axes>"
      ]
     },
     "metadata": {
      "needs_background": "light"
     },
     "output_type": "display_data"
    }
   ],
   "source": [
    "fig, axs = plt.subplots(ncols=2)\n",
    "lappy.plot(legend, aspect=2, alpha=0.75, ax=axs[0])\n",
    "lappy.merge('top').plot(legend, aspect=2, alpha=0.75, ax=axs[1])\n",
    "plt.show()"
   ]
  },
  {
   "cell_type": "code",
   "execution_count": 42,
   "metadata": {},
   "outputs": [
    {
     "data": {
      "image/png": "[encoded data removed]",
      "text/plain": [
       "<Figure size 432x288 with 2 Axes>"
      ]
     },
     "metadata": {
      "needs_background": "light"
     },
     "output_type": "display_data"
    }
   ],
   "source": [
    "fig, axs = plt.subplots(ncols=2)\n",
    "lappy.plot(legend, aspect=2, alpha=0.75, ax=axs[0])\n",
    "lappy.merge('top', reverse=True).plot(legend, aspect=2, alpha=0.75, ax=axs[1])\n",
    "plt.show()"
   ]
  },
  {
   "cell_type": "markdown",
   "metadata": {},
   "source": [
    "It is not currently possible to blend or combine units in the merge zones; you have to choose one."
   ]
  },
  {
   "cell_type": "markdown",
   "metadata": {},
   "source": [
    "----\n",
    "## Querying the striplog"
   ]
  },
  {
   "cell_type": "markdown",
   "metadata": {},
   "source": [
    "This results in a new Striplog, contianing only the intervals requested."
   ]
  },
  {
   "cell_type": "code",
   "execution_count": 43,
   "metadata": {},
   "outputs": [
    {
     "data": {
      "text/plain": [
       "Striplog(4 Intervals, start=51.24117647058824, stop=81.78235294117647)"
      ]
     },
     "execution_count": 43,
     "metadata": {},
     "output_type": "execute_result"
    }
   ],
   "source": [
    "strip.find('sandstone')"
   ]
  },
  {
   "cell_type": "code",
   "execution_count": 44,
   "metadata": {},
   "outputs": [
    {
     "data": {
      "text/plain": [
       "[(Component({'lithology': 'sandstone', 'colour': 'grey', 'grainsize': 'vf-f'}),\n",
       "  22.423529411764697)]"
      ]
     },
     "execution_count": 44,
     "metadata": {},
     "output_type": "execute_result"
    }
   ],
   "source": [
    "strip.find('sandstone').unique"
   ]
  },
  {
   "cell_type": "code",
   "execution_count": 45,
   "metadata": {},
   "outputs": [
    {
     "data": {
      "text/plain": [
       "22.423529411764697"
      ]
     },
     "execution_count": 45,
     "metadata": {},
     "output_type": "execute_result"
    }
   ],
   "source": [
    "strip.find('sandstone').cum"
   ]
  },
  {
   "cell_type": "code",
   "execution_count": 46,
   "metadata": {},
   "outputs": [
    {
     "data": {
      "image/png": "[encoded data removed]",
      "text/plain": [
       "<Figure size 108x324 with 1 Axes>"
      ]
     },
     "metadata": {
      "needs_background": "light"
     },
     "output_type": "display_data"
    }
   ],
   "source": [
    "strip.find('sandstone').plot(aspect=3)"
   ]
  },
  {
   "cell_type": "markdown",
   "metadata": {},
   "source": [
    "Let's ask for the rock we just found by seaching."
   ]
  },
  {
   "cell_type": "code",
   "execution_count": 47,
   "metadata": {},
   "outputs": [
    {
     "data": {
      "text/html": [
       "<table><tr><td><strong>lithology</strong></td><td>sandstone</td></tr><tr><td><strong>colour</strong></td><td>grey</td></tr><tr><td><strong>grainsize</strong></td><td>vf-f</td></tr></table>"
      ],
      "text/plain": [
       "Component({'lithology': 'sandstone', 'colour': 'grey', 'grainsize': 'vf-f'})"
      ]
     },
     "execution_count": 47,
     "metadata": {},
     "output_type": "execute_result"
    }
   ],
   "source": [
    "rock = strip.find('sandstone')[1].components[0]\n",
    "rock"
   ]
  },
  {
   "cell_type": "markdown",
   "metadata": {},
   "source": [
    "We can also search for a rock..."
   ]
  },
  {
   "cell_type": "code",
   "execution_count": 48,
   "metadata": {},
   "outputs": [
    {
     "data": {
      "image/png": "[encoded data removed]",
      "text/plain": [
       "<Figure size 108x324 with 1 Axes>"
      ]
     },
     "metadata": {
      "needs_background": "light"
     },
     "output_type": "display_data"
    }
   ],
   "source": [
    "strip.find(rock).plot(legend, aspect=3)"
   ]
  },
  {
   "cell_type": "code",
   "execution_count": 49,
   "metadata": {},
   "outputs": [
    {
     "data": {
      "text/plain": [
       "True"
      ]
     },
     "execution_count": 49,
     "metadata": {},
     "output_type": "execute_result"
    }
   ],
   "source": [
    "rock in strip"
   ]
  },
  {
   "cell_type": "markdown",
   "metadata": {},
   "source": [
    "And we can ask what is at a particular depth."
   ]
  },
  {
   "cell_type": "code",
   "execution_count": 50,
   "metadata": {},
   "outputs": [
    {
     "data": {
      "text/html": [
       "<table><tr><td><strong>lithology</strong></td><td>siltstone</td></tr><tr><td><strong>colour</strong></td><td>grey</td></tr></table>"
      ],
      "text/plain": [
       "Component({'lithology': 'siltstone', 'colour': 'grey'})"
      ]
     },
     "execution_count": 50,
     "metadata": {},
     "output_type": "execute_result"
    }
   ],
   "source": [
    "strip.read_at(90).primary"
   ]
  },
  {
   "cell_type": "markdown",
   "metadata": {},
   "source": [
    "----\n",
    "## Combining striplogs with binary operations\n",
    "\n",
    "We'd like to operate on the pairs of striplogs, finding overlaps and their intersections."
   ]
  },
  {
   "cell_type": "code",
   "execution_count": 51,
   "metadata": {},
   "outputs": [],
   "source": [
    "chrono = Striplog([Interval(**{'top': 0,  'base': 60, 'components':[Component({'age': 'Holocene'})]}),\n",
    "                   Interval(**{'top': 60, 'base': 75, 'components':[Component({'age': 'Palaeogene'})]}),\n",
    "                   Interval(**{'top': 75, 'base': 100, 'components':[Component({'age': 'Cretaceous'})]}), \n",
    "                   ])"
   ]
  },
  {
   "cell_type": "code",
   "execution_count": 52,
   "metadata": {},
   "outputs": [],
   "source": [
    "time = Legend.default_timescale()"
   ]
  },
  {
   "cell_type": "code",
   "execution_count": 53,
   "metadata": {},
   "outputs": [
    {
     "data": {
      "text/html": [
       "<table><tr><td><strong>colour</strong></td><td style=\"color:#000000; background-color:#fef691\">#fef691</td></tr><tr><td><strong>width</strong></td><td style=\"color:black; background-color:white\">None</td></tr><tr><td><strong>component</strong></td><td style=\"color:black; background-color:white\"><table><tr><td><strong>age</strong></td><td>quaternary</td></tr></table></td></tr><tr><td><strong>hatch</strong></td><td style=\"color:black; background-color:white\">None</td></tr></table>"
      ],
      "text/plain": [
       "Decor({'_colour': '#fef691', 'width': None, 'component': Component({'age': 'quaternary'}), 'hatch': None})"
      ]
     },
     "execution_count": 53,
     "metadata": {},
     "output_type": "execute_result"
    }
   ],
   "source": [
    "time[2]"
   ]
  },
  {
   "cell_type": "code",
   "execution_count": 54,
   "metadata": {},
   "outputs": [
    {
     "data": {
      "image/png": "[encoded data removed]",
      "text/plain": [
       "<Figure size 108x324 with 1 Axes>"
      ]
     },
     "metadata": {
      "needs_background": "light"
     },
     "output_type": "display_data"
    }
   ],
   "source": [
    "chrono.plot(time, aspect=3)"
   ]
  },
  {
   "cell_type": "code",
   "execution_count": 55,
   "metadata": {},
   "outputs": [
    {
     "data": {
      "image/png": "[encoded data removed]",
      "text/plain": [
       "<Figure size 432x288 with 3 Axes>"
      ]
     },
     "metadata": {
      "needs_background": "light"
     },
     "output_type": "display_data"
    }
   ],
   "source": [
    "sands = strip.find('sandstone')\n",
    "cretaceous = chrono.find('Palaeogene')\n",
    "\n",
    "fig, (ax0, ax1, ax2) = plt.subplots(1, 3, sharey=True)\n",
    "ax0 = sands.plot(legend, ax=ax0)\n",
    "ax1 = chrono.plot(time, ax=ax1)\n",
    "ax2 = sands.intersect(cretaceous).plot(legend, ax=ax2)\n",
    "\n",
    "ax0.set_title('Sands')\n",
    "ax1.set_title('Chrono')\n",
    "ax2.set_title('Tert. sands')\n",
    "\n",
    "ax0.set_ylim(100, 40)\n",
    "\n",
    "plt.show()"
   ]
  },
  {
   "cell_type": "code",
   "execution_count": 56,
   "metadata": {},
   "outputs": [],
   "source": [
    "for i in sands:\n",
    "    a = chrono.read_at(i.top.z)\n",
    "    i.data = {'age': a.primary['age']}"
   ]
  },
  {
   "cell_type": "code",
   "execution_count": 57,
   "metadata": {},
   "outputs": [
    {
     "data": {
      "text/html": [
       "<table><tr><td style=\"width:2em; background-color:#DDDDDD\" rowspan=\"6\"></td><td><strong>top</strong></td><td>60.95882352941177</td></tr><tr><td><strong>primary</strong></td><td><table><tr><td><strong>lithology</strong></td><td>sandstone</td></tr><tr><td><strong>colour</strong></td><td>grey</td></tr><tr><td><strong>grainsize</strong></td><td>vf-f</td></tr></table></td></tr><tr><td><strong>summary</strong></td><td>2.96 m of sandstone, grey, vf-f</td></tr><tr><td><strong>description</strong></td><td></td></tr><tr><td><strong>data</strong></td><td><table><tr><td><strong>age</strong></td><td>Palaeogene</td></tr></table></td></tr><tr><td><strong>base</strong></td><td>63.92352941176471</td></tr></table>"
      ],
      "text/plain": [
       "Interval({'top': Position({'middle': 60.95882352941177, 'units': 'm'}), 'base': Position({'middle': 63.92352941176471, 'units': 'm'}), 'description': '', 'data': {'age': 'Palaeogene'}, 'components': [Component({'lithology': 'sandstone', 'colour': 'grey', 'grainsize': 'vf-f'})]})"
      ]
     },
     "execution_count": 57,
     "metadata": {},
     "output_type": "execute_result"
    }
   ],
   "source": [
    "sands[1]"
   ]
  },
  {
   "cell_type": "markdown",
   "metadata": {},
   "source": [
    "----\n",
    "## Map, reduce, filter"
   ]
  },
  {
   "cell_type": "markdown",
   "metadata": {},
   "source": [
    "Striplogs are just lists of `Intervals`, so you can use Python's functional programming patterns on them quite easily. For example, you can map functions and lambdas onto striplogs:"
   ]
  },
  {
   "cell_type": "code",
   "execution_count": 58,
   "metadata": {},
   "outputs": [
    {
     "data": {
      "text/plain": [
       "[46.91601049868766,\n",
       " 168.11409603211365,\n",
       " 182.70418403581905,\n",
       " 193.12567546703724,\n",
       " 199.9961401883588]"
      ]
     },
     "execution_count": 58,
     "metadata": {},
     "output_type": "execute_result"
    }
   ],
   "source": [
    "tops_in_feet = map(lambda i: i.top.z/0.3048, strip)\n",
    "list(tops_in_feet)[:5]  # First 5 only"
   ]
  },
  {
   "cell_type": "markdown",
   "metadata": {},
   "source": [
    "Don't forget the humble list comprehension though..."
   ]
  },
  {
   "cell_type": "code",
   "execution_count": 59,
   "metadata": {},
   "outputs": [
    {
     "data": {
      "text/plain": [
       "[36.941176470588246,\n",
       " 4.44705882352941,\n",
       " 3.176470588235297,\n",
       " 2.094117647058816,\n",
       " 2.964705882352945]"
      ]
     },
     "execution_count": 59,
     "metadata": {},
     "output_type": "execute_result"
    }
   ],
   "source": [
    "[i.thickness for i in strip][:5]"
   ]
  },
  {
   "cell_type": "markdown",
   "metadata": {},
   "source": [
    "Add all the thicknesses of intervals with a top depth > 100 m:"
   ]
  },
  {
   "cell_type": "code",
   "execution_count": 60,
   "metadata": {},
   "outputs": [
    {
     "data": {
      "text/plain": [
       "31.341176470588238"
      ]
     },
     "execution_count": 60,
     "metadata": {},
     "output_type": "execute_result"
    }
   ],
   "source": [
    "from functools import reduce\n",
    "\n",
    "def sumr(a, b): return a + b\n",
    "\n",
    "reduce(sumr, [i.thickness for i in strip if i.top.z > 100])"
   ]
  },
  {
   "cell_type": "markdown",
   "metadata": {},
   "source": [
    "To go even further, let's add a porosity array to each interval's primary component:"
   ]
  },
  {
   "cell_type": "code",
   "execution_count": 61,
   "metadata": {},
   "outputs": [
    {
     "data": {
      "text/html": [
       "<table><tr><td style=\"width:2em; background-color:#DDDDDD\" rowspan=\"6\"></td><td><strong>top</strong></td><td>60.95882352941177</td></tr><tr><td><strong>primary</strong></td><td><table><tr><td><strong>lithology</strong></td><td>sandstone</td></tr><tr><td><strong>colour</strong></td><td>grey</td></tr><tr><td><strong>grainsize</strong></td><td>vf-f</td></tr></table></td></tr><tr><td><strong>summary</strong></td><td>2.96 m of sandstone, grey, vf-f</td></tr><tr><td><strong>description</strong></td><td></td></tr><tr><td><strong>data</strong></td><td><table><tr><td><strong>por</strong></td><td>0.196</td></tr><tr><td><strong>porosity</strong></td><td>[0.05218277 0.17257366 0.21477314]</td></tr></table></td></tr><tr><td><strong>base</strong></td><td>63.92352941176471</td></tr></table>"
      ],
      "text/plain": [
       "Interval({'top': Position({'middle': 60.95882352941177, 'units': 'm'}), 'base': Position({'middle': 63.92352941176471, 'units': 'm'}), 'description': '', 'data': {'por': 0.196, 'porosity': array([0.05218277, 0.17257366, 0.21477314])}, 'components': [Component({'lithology': 'sandstone', 'colour': 'grey', 'grainsize': 'vf-f'})]})"
      ]
     },
     "execution_count": 61,
     "metadata": {},
     "output_type": "execute_result"
    }
   ],
   "source": [
    "import random\n",
    "for iv in strip:\n",
    "    iv.data['porosity'] = np.random.random(3)/4\n",
    "strip[4]"
   ]
  },
  {
   "cell_type": "markdown",
   "metadata": {},
   "source": [
    "We can also write a function that returns `True` for some condition, and then `filter` intervals on that condition:"
   ]
  },
  {
   "cell_type": "code",
   "execution_count": 62,
   "metadata": {},
   "outputs": [
    {
     "data": {
      "text/plain": [
       "Striplog(3 Intervals, start=14.3, stop=85.78235294117647)"
      ]
     },
     "execution_count": 62,
     "metadata": {},
     "output_type": "execute_result"
    }
   ],
   "source": [
    "def porous(component):\n",
    "    return component.data['porosity'].mean() > 0.15\n",
    "    \n",
    "Striplog(list(filter(porous, strip)))"
   ]
  },
  {
   "cell_type": "markdown",
   "metadata": {},
   "source": [
    "It's a bit clunky now that `filter` returns an iterator. But it's also clunky because you can't pass arguments to the function you're giving `filter` — so you can't set the porosity to compare against when you call it, you have to edit the function itself.\n",
    "\n",
    "To pass another argument to the filter function, you'll have to use a closure:"
   ]
  },
  {
   "cell_type": "code",
   "execution_count": 63,
   "metadata": {},
   "outputs": [
    {
     "data": {
      "text/plain": [
       "Striplog(3 Intervals, start=14.3, stop=85.78235294117647)"
      ]
     },
     "execution_count": 63,
     "metadata": {},
     "output_type": "execute_result"
    }
   ],
   "source": [
    "def min_porosity(x):\n",
    "    def compare(component):\n",
    "        return component.data['porosity'].mean() > x\n",
    "    return compare\n",
    "\n",
    "Striplog(list(filter(min_porosity(0.15), strip)))"
   ]
  },
  {
   "cell_type": "markdown",
   "metadata": {},
   "source": [
    "<hr />\n",
    "\n",
    "## Logs from striplogs\n",
    "\n",
    "The default behaviour is to assign the integer values in order of abundance of each primary component, starting with 1, and leaving 0 for 'unassigned'."
   ]
  },
  {
   "cell_type": "code",
   "execution_count": 64,
   "metadata": {},
   "outputs": [
    {
     "data": {
      "image/png": "[encoded data removed]",
      "text/plain": [
       "<Figure size 432x288 with 1 Axes>"
      ]
     },
     "metadata": {
      "needs_background": "light"
     },
     "output_type": "display_data"
    }
   ],
   "source": [
    "liths = strip.to_log()\n",
    "plt.plot(liths)\n",
    "plt.show()"
   ]
  },
  {
   "cell_type": "markdown",
   "metadata": {},
   "source": [
    "Pass a legend to get the ordering from the legend ('1' is given to the first component in the legend, '2' to the next, and so on)."
   ]
  },
  {
   "cell_type": "code",
   "execution_count": 65,
   "metadata": {},
   "outputs": [
    {
     "data": {
      "image/png": "[encoded data removed]",
      "text/plain": [
       "<Figure size 432x288 with 1 Axes>"
      ]
     },
     "metadata": {
      "needs_background": "light"
     },
     "output_type": "display_data"
    }
   ],
   "source": [
    "liths = strip.to_log(legend=legend)\n",
    "plt.plot(liths)\n",
    "plt.show()"
   ]
  },
  {
   "cell_type": "markdown",
   "metadata": {},
   "source": [
    "Recall that we added porosity to the components in this striplog:"
   ]
  },
  {
   "cell_type": "code",
   "execution_count": 66,
   "metadata": {},
   "outputs": [
    {
     "data": {
      "text/html": [
       "<table><tr><td style=\"width:2em; background-color:#DDDDDD\" rowspan=\"6\"></td><td><strong>top</strong></td><td>60.95882352941177</td></tr><tr><td><strong>primary</strong></td><td><table><tr><td><strong>lithology</strong></td><td>sandstone</td></tr><tr><td><strong>colour</strong></td><td>grey</td></tr><tr><td><strong>grainsize</strong></td><td>vf-f</td></tr></table></td></tr><tr><td><strong>summary</strong></td><td>2.96 m of sandstone, grey, vf-f</td></tr><tr><td><strong>description</strong></td><td></td></tr><tr><td><strong>data</strong></td><td><table><tr><td><strong>por</strong></td><td>0.196</td></tr><tr><td><strong>porosity</strong></td><td>[0.05218277 0.17257366 0.21477314]</td></tr></table></td></tr><tr><td><strong>base</strong></td><td>63.92352941176471</td></tr></table>"
      ],
      "text/plain": [
       "Interval({'top': Position({'middle': 60.95882352941177, 'units': 'm'}), 'base': Position({'middle': 63.92352941176471, 'units': 'm'}), 'description': '', 'data': {'por': 0.196, 'porosity': array([0.05218277, 0.17257366, 0.21477314])}, 'components': [Component({'lithology': 'sandstone', 'colour': 'grey', 'grainsize': 'vf-f'})]})"
      ]
     },
     "execution_count": 66,
     "metadata": {},
     "output_type": "execute_result"
    }
   ],
   "source": [
    "strip[4]"
   ]
  },
  {
   "cell_type": "code",
   "execution_count": 67,
   "metadata": {},
   "outputs": [],
   "source": [
    "# I have broken this.\n",
    "# por = strip.to_log(field='porosity', field_function=np.mean)\n",
    "# plt.plot(por)\n",
    "# plt.show()"
   ]
  },
  {
   "cell_type": "markdown",
   "metadata": {},
   "source": [
    "We can also export any value corresponding to components from the legend, for example a 'width' log:"
   ]
  },
  {
   "cell_type": "code",
   "execution_count": 68,
   "metadata": {},
   "outputs": [
    {
     "data": {
      "text/plain": [
       "array([2., 2., 2., ..., 2., 2., 2.])"
      ]
     },
     "execution_count": 68,
     "metadata": {},
     "output_type": "execute_result"
    }
   ],
   "source": [
    "w, z, table = strip.to_log(legend=legend, legend_field='width', return_meta=True, step=0.1)\n",
    "w"
   ]
  },
  {
   "cell_type": "markdown",
   "metadata": {},
   "source": [
    "...and we can make a composite plot in `matplotlib`:"
   ]
  },
  {
   "cell_type": "code",
   "execution_count": 69,
   "metadata": {},
   "outputs": [
    {
     "data": {
      "image/png": "[encoded data removed]",
      "text/plain": [
       "<Figure size 72x720 with 1 Axes>"
      ]
     },
     "metadata": {
      "needs_background": "light"
     },
     "output_type": "display_data"
    }
   ],
   "source": [
    "width = 3\n",
    "\n",
    "fig = plt.figure(figsize=(1,10))\n",
    "ax = fig.add_axes([0, 0, 1, 1])\n",
    "ax = strip.plot_axis(ax, legend, default_width=width+1)\n",
    "\n",
    "plt.plot(w, z, color='white')\n",
    "plt.fill_betweenx(z, w, width+1, edgecolor='white', facecolor='white', zorder=2)\n",
    "\n",
    "ax.set_xlim([0, width+1])\n",
    "ax.set_ylim([strip.stop.z, strip.start.z])\n",
    "plt.show()"
   ]
  },
  {
   "cell_type": "markdown",
   "metadata": {},
   "source": [
    "----\n",
    "## Filtering an array with a striplog\n",
    "\n",
    "I'd like to 'extract' the data from a log, only where there are intervals. Since we already have ways to filter the striplog to zones of interest (e.g. with `find()` or `filter`) it would be easy to, say, get the GR curve where the striplog indicates sandstone."
   ]
  },
  {
   "cell_type": "code",
   "execution_count": 70,
   "metadata": {},
   "outputs": [
    {
     "name": "stderr",
     "output_type": "stream",
     "text": [
      "Found nonstandard LAS section: ~Parameter\n"
     ]
    }
   ],
   "source": [
    "import lasio\n",
    "l = lasio.read(\"P-129_out.LAS\")\n",
    "z, gr = l['DEPT'], l['GR']"
   ]
  },
  {
   "cell_type": "code",
   "execution_count": 71,
   "metadata": {
    "scrolled": true
   },
   "outputs": [
    {
     "data": {
      "image/png": "[encoded data removed]",
      "text/plain": [
       "<Figure size 108x216 with 1 Axes>"
      ]
     },
     "metadata": {
      "needs_background": "light"
     },
     "output_type": "display_data"
    }
   ],
   "source": [
    "strip.find('sandstone').plot(aspect=2)  # There are actually 4 intervals here; 2 are touching"
   ]
  },
  {
   "cell_type": "code",
   "execution_count": 72,
   "metadata": {},
   "outputs": [
    {
     "data": {
      "text/plain": [
       "70.63407979326"
      ]
     },
     "execution_count": 72,
     "metadata": {},
     "output_type": "execute_result"
    }
   ],
   "source": [
    "sand = strip.find('sandstone').to_flag(basis=z)\n",
    "gr[sand].mean()"
   ]
  },
  {
   "cell_type": "markdown",
   "metadata": {},
   "source": [
    "Which is just a convenience; it does the same as:"
   ]
  },
  {
   "cell_type": "code",
   "execution_count": 73,
   "metadata": {},
   "outputs": [
    {
     "data": {
      "text/plain": [
       "70.63407979326"
      ]
     },
     "execution_count": 73,
     "metadata": {},
     "output_type": "execute_result"
    }
   ],
   "source": [
    "sand = strip.find('sandstone').to_log(basis=z).astype(bool)\n",
    "gr[sand].mean()"
   ]
  },
  {
   "cell_type": "markdown",
   "metadata": {},
   "source": [
    "Do we need to make this easier? "
   ]
  },
  {
   "cell_type": "markdown",
   "metadata": {},
   "source": [
    "<hr />\n",
    "\n",
    "## Reversing a striplog\n",
    "\n",
    "You can transform a striplog from 'depth' order to 'elevation' order. "
   ]
  },
  {
   "cell_type": "code",
   "execution_count": 74,
   "metadata": {},
   "outputs": [
    {
     "data": {
      "image/png": "[encoded data removed]",
      "text/plain": [
       "<Figure size 108x324 with 1 Axes>"
      ]
     },
     "metadata": {
      "needs_background": "light"
     },
     "output_type": "display_data"
    }
   ],
   "source": [
    "strip.plot(aspect=3)"
   ]
  },
  {
   "cell_type": "code",
   "execution_count": 75,
   "metadata": {},
   "outputs": [
    {
     "data": {
      "text/html": [
       "<table><tr><td style=\"width:2em; background-color:#DDDDDD\" rowspan=\"6\"></td><td><strong>top</strong></td><td>131.47647058823532</td></tr><tr><td><strong>primary</strong></td><td><table><tr><td><strong>lithology</strong></td><td>volcanic</td></tr></table></td></tr><tr><td><strong>summary</strong></td><td>4.42 m of volcanic</td></tr><tr><td><strong>description</strong></td><td></td></tr><tr><td><strong>data</strong></td><td><table><tr><td><strong>por</strong></td><td>0.001</td></tr><tr><td><strong>porosity</strong></td><td>[0.13386321 0.0760563  0.10318913]</td></tr></table></td></tr><tr><td><strong>base</strong></td><td>135.9</td></tr></table>"
      ],
      "text/plain": [
       "Interval({'top': Position({'middle': 131.47647058823532, 'units': 'm'}), 'base': Position({'middle': 135.9, 'units': 'm'}), 'description': '', 'data': {'por': 0.001, 'porosity': array([0.13386321, 0.0760563 , 0.10318913])}, 'components': [Component({'lithology': 'volcanic'})]})"
      ]
     },
     "execution_count": 75,
     "metadata": {},
     "output_type": "execute_result"
    }
   ],
   "source": [
    "strip[-1]"
   ]
  },
  {
   "cell_type": "code",
   "execution_count": 76,
   "metadata": {},
   "outputs": [],
   "source": [
    "s3 = strip.invert(copy=True)"
   ]
  },
  {
   "cell_type": "code",
   "execution_count": 77,
   "metadata": {},
   "outputs": [
    {
     "data": {
      "image/png": "[encoded data removed]",
      "text/plain": [
       "<Figure size 108x324 with 1 Axes>"
      ]
     },
     "metadata": {
      "needs_background": "light"
     },
     "output_type": "display_data"
    }
   ],
   "source": [
    "s3.plot(aspect=3)"
   ]
  },
  {
   "cell_type": "code",
   "execution_count": 78,
   "metadata": {},
   "outputs": [
    {
     "data": {
      "text/html": [
       "<table><tr><td style=\"width:2em; background-color:#DDDDDD\" rowspan=\"6\"></td><td><strong>top</strong></td><td>135.9</td></tr><tr><td><strong>primary</strong></td><td><table><tr><td><strong>lithology</strong></td><td>volcanic</td></tr></table></td></tr><tr><td><strong>summary</strong></td><td>4.42 m of volcanic</td></tr><tr><td><strong>description</strong></td><td></td></tr><tr><td><strong>data</strong></td><td><table><tr><td><strong>por</strong></td><td>0.001</td></tr><tr><td><strong>porosity</strong></td><td>[0.13386321 0.0760563  0.10318913]</td></tr></table></td></tr><tr><td><strong>base</strong></td><td>131.47647058823532</td></tr></table>"
      ],
      "text/plain": [
       "Interval({'top': Position({'middle': 135.9, 'units': 'm'}), 'base': Position({'middle': 131.47647058823532, 'units': 'm'}), 'description': '', 'data': {'por': 0.001, 'porosity': array([0.13386321, 0.0760563 , 0.10318913])}, 'components': [Component({'lithology': 'volcanic'})]})"
      ]
     },
     "execution_count": 78,
     "metadata": {},
     "output_type": "execute_result"
    }
   ],
   "source": [
    "s3[0]"
   ]
  },
  {
   "cell_type": "markdown",
   "metadata": {},
   "source": [
    "----\n",
    "## Outcrop\n",
    "\n",
    "Tell the CSV loader the columns:\n",
    "\n",
    "1. base\n",
    "1. top\n",
    "1. description"
   ]
  },
  {
   "cell_type": "code",
   "execution_count": 79,
   "metadata": {},
   "outputs": [],
   "source": [
    "l = \"\"\"base,top,description\n",
    "101,120,Till\n",
    "100,101,Gypsum\n",
    "50,100,Limestone Formation\n",
    "28,50,Shale Formation\n",
    "13,28,Granite Wash\n",
    "0,13,Basement\"\"\""
   ]
  },
  {
   "cell_type": "code",
   "execution_count": 80,
   "metadata": {},
   "outputs": [],
   "source": [
    "log = Striplog.from_csv(text=l, lexicon=Lexicon.default())"
   ]
  },
  {
   "cell_type": "code",
   "execution_count": 81,
   "metadata": {},
   "outputs": [
    {
     "data": {
      "text/html": [
       "<table><tr><td style=\"width:2em; background-color:#DDDDDD\" rowspan=\"6\"></td><td><strong>top</strong></td><td>50.0</td></tr><tr><td><strong>primary</strong></td><td><table><tr><td><strong>lithology</strong></td><td>shale</td></tr></table></td></tr><tr><td><strong>summary</strong></td><td>22.00 m of shale</td></tr><tr><td><strong>description</strong></td><td>Shale Formation</td></tr><tr><td><strong>data</strong></td><td><table></table></td></tr><tr><td><strong>base</strong></td><td>28.0</td></tr></table>"
      ],
      "text/plain": [
       "Interval({'top': Position({'middle': 50.0, 'units': 'm'}), 'base': Position({'middle': 28.0, 'units': 'm'}), 'description': 'Shale Formation', 'data': {}, 'components': [Component({'lithology': 'shale'})]})"
      ]
     },
     "execution_count": 81,
     "metadata": {},
     "output_type": "execute_result"
    }
   ],
   "source": [
    "log.read_at(30)"
   ]
  },
  {
   "cell_type": "code",
   "execution_count": 82,
   "metadata": {},
   "outputs": [
    {
     "data": {
      "text/plain": [
       "'elevation'"
      ]
     },
     "execution_count": 82,
     "metadata": {},
     "output_type": "execute_result"
    }
   ],
   "source": [
    "log.order"
   ]
  },
  {
   "cell_type": "code",
   "execution_count": 83,
   "metadata": {},
   "outputs": [
    {
     "data": {
      "image/png": "[encoded data removed]",
      "text/plain": [
       "<Figure size 108x324 with 1 Axes>"
      ]
     },
     "metadata": {
      "needs_background": "light"
     },
     "output_type": "display_data"
    }
   ],
   "source": [
    "log.plot(aspect=3)"
   ]
  },
  {
   "cell_type": "markdown",
   "metadata": {},
   "source": [
    "----\n",
    "## Handling tops"
   ]
  },
  {
   "cell_type": "markdown",
   "metadata": {},
   "source": [
    "I recommend treating tops as intervals, not as point data."
   ]
  },
  {
   "cell_type": "code",
   "execution_count": 84,
   "metadata": {},
   "outputs": [],
   "source": [
    "tops_csv = \"\"\"top,formation\n",
    "100, Escanilla Fm.\n",
    "200, Sobrarbe Fm. \n",
    "350, San Vicente Fm.\n",
    "500, Cretaceous\n",
    "\"\"\""
   ]
  },
  {
   "cell_type": "code",
   "execution_count": 85,
   "metadata": {},
   "outputs": [],
   "source": [
    "tops = Striplog.from_csv(text=tops_csv)"
   ]
  },
  {
   "cell_type": "code",
   "execution_count": 86,
   "metadata": {},
   "outputs": [
    {
     "name": "stdout",
     "output_type": "stream",
     "text": [
      "{'top': Position({'middle': 100.0, 'units': 'm'}), 'base': Position({'middle': 200.0, 'units': 'm'}), 'description': '', 'data': {'formation': 'Escanilla Fm.'}, 'components': []}\n",
      "{'top': Position({'middle': 200.0, 'units': 'm'}), 'base': Position({'middle': 350.0, 'units': 'm'}), 'description': '', 'data': {'formation': 'Sobrarbe Fm.'}, 'components': []}\n",
      "{'top': Position({'middle': 350.0, 'units': 'm'}), 'base': Position({'middle': 500.0, 'units': 'm'}), 'description': '', 'data': {'formation': 'San Vicente Fm.'}, 'components': []}\n",
      "{'top': Position({'middle': 500.0, 'units': 'm'}), 'base': Position({'middle': 501.0, 'units': 'm'}), 'description': '', 'data': {'formation': 'Cretaceous'}, 'components': []}\n"
     ]
    }
   ],
   "source": [
    "print(tops)"
   ]
  },
  {
   "cell_type": "code",
   "execution_count": 87,
   "metadata": {},
   "outputs": [
    {
     "data": {
      "text/html": [
       "<table><tr><td style=\"width:2em; background-color:#DDDDDD\" rowspan=\"6\"></td><td><strong>top</strong></td><td>200.0</td></tr><tr><td><strong>primary</strong></td><td>None</td></tr><tr><td><strong>summary</strong></td><td>None</td></tr><tr><td><strong>description</strong></td><td></td></tr><tr><td><strong>data</strong></td><td><table><tr><td><strong>formation</strong></td><td>Sobrarbe Fm.</td></tr></table></td></tr><tr><td><strong>base</strong></td><td>350.0</td></tr></table>"
      ],
      "text/plain": [
       "Interval({'top': Position({'middle': 200.0, 'units': 'm'}), 'base': Position({'middle': 350.0, 'units': 'm'}), 'description': '', 'data': {'formation': 'Sobrarbe Fm.'}, 'components': []})"
      ]
     },
     "execution_count": 87,
     "metadata": {},
     "output_type": "execute_result"
    }
   ],
   "source": [
    "tops.read_at(254.0)"
   ]
  },
  {
   "cell_type": "markdown",
   "metadata": {},
   "source": [
    "----\n",
    "## Handling point data"
   ]
  },
  {
   "cell_type": "markdown",
   "metadata": {},
   "source": [
    "Some things really are point data. Sort of like a log, but irregular, more discrete. Here are some lab measurements... "
   ]
  },
  {
   "cell_type": "code",
   "execution_count": 88,
   "metadata": {},
   "outputs": [],
   "source": [
    "data_csv = \"\"\"depth, bodacity\n",
    "1200, 6.4\n",
    "1205, 7.3\n",
    "1210, 8.2\n",
    "1250, 9.2\n",
    "1275, 4.3\n",
    "1300, 2.2\n",
    "\"\"\""
   ]
  },
  {
   "cell_type": "markdown",
   "metadata": {},
   "source": [
    "You must specify `points=True` otherwise Striplog will 'fill in' and create the bases for you, based on the next top."
   ]
  },
  {
   "cell_type": "code",
   "execution_count": 89,
   "metadata": {},
   "outputs": [],
   "source": [
    "points = Striplog.from_csv(text=data_csv, points=True)"
   ]
  },
  {
   "cell_type": "code",
   "execution_count": 90,
   "metadata": {},
   "outputs": [
    {
     "name": "stdout",
     "output_type": "stream",
     "text": [
      "{'top': Position({'middle': 1200.0, 'units': 'm'}), 'base': Position({'middle': 1200.0, 'units': 'm'}), 'description': '', 'data': {'bodacity': 6.4}, 'components': []}\n",
      "{'top': Position({'middle': 1205.0, 'units': 'm'}), 'base': Position({'middle': 1205.0, 'units': 'm'}), 'description': '', 'data': {'bodacity': 7.3}, 'components': []}\n",
      "{'top': Position({'middle': 1210.0, 'units': 'm'}), 'base': Position({'middle': 1210.0, 'units': 'm'}), 'description': '', 'data': {'bodacity': 8.2}, 'components': []}\n",
      "{'top': Position({'middle': 1250.0, 'units': 'm'}), 'base': Position({'middle': 1250.0, 'units': 'm'}), 'description': '', 'data': {'bodacity': 9.2}, 'components': []}\n",
      "{'top': Position({'middle': 1275.0, 'units': 'm'}), 'base': Position({'middle': 1275.0, 'units': 'm'}), 'description': '', 'data': {'bodacity': 4.3}, 'components': []}\n",
      "{'top': Position({'middle': 1300.0, 'units': 'm'}), 'base': Position({'middle': 1300.0, 'units': 'm'}), 'description': '', 'data': {'bodacity': 2.2}, 'components': []}\n"
     ]
    }
   ],
   "source": [
    "print(points)"
   ]
  },
  {
   "cell_type": "markdown",
   "metadata": {},
   "source": [
    "One day, when we have a use case, we can do something nice with this, like treat it as numerical data, and make a plot for it. We need an elegant way to get that number into a 'rock', like {'x': 6.4}, etc. "
   ]
  },
  {
   "cell_type": "code",
   "execution_count": 91,
   "metadata": {},
   "outputs": [
    {
     "data": {
      "text/plain": [
       "'none'"
      ]
     },
     "execution_count": 91,
     "metadata": {},
     "output_type": "execute_result"
    }
   ],
   "source": [
    "points.order"
   ]
  },
  {
   "cell_type": "markdown",
   "metadata": {},
   "source": [
    "<hr />\n",
    "\n",
    "\n",
    "## Striplogs from logs"
   ]
  },
  {
   "cell_type": "markdown",
   "metadata": {},
   "source": [
    "We can read a log from an LAS file with `lasio`:"
   ]
  },
  {
   "cell_type": "code",
   "execution_count": 92,
   "metadata": {},
   "outputs": [],
   "source": [
    "import lasio"
   ]
  },
  {
   "cell_type": "markdown",
   "metadata": {},
   "source": [
    "Read a gamma-ray log."
   ]
  },
  {
   "cell_type": "code",
   "execution_count": 93,
   "metadata": {},
   "outputs": [
    {
     "name": "stderr",
     "output_type": "stream",
     "text": [
      "Found nonstandard LAS section: ~Parameter\n"
     ]
    }
   ],
   "source": [
    "l = lasio.read(\"P-129_out.LAS\")\n",
    "z, gr = l['DEPT'], l['GR']"
   ]
  },
  {
   "cell_type": "code",
   "execution_count": 94,
   "metadata": {},
   "outputs": [
    {
     "data": {
      "text/plain": [
       "1634.49"
      ]
     },
     "execution_count": 94,
     "metadata": {},
     "output_type": "execute_result"
    }
   ],
   "source": [
    "z[-2000]"
   ]
  },
  {
   "cell_type": "markdown",
   "metadata": {},
   "source": [
    "Next we make a list of components to pass into the new striplog. The order must match the values you pass in the `to_log()` function:"
   ]
  },
  {
   "cell_type": "code",
   "execution_count": 95,
   "metadata": {},
   "outputs": [],
   "source": [
    "comps = [Component({'lithology': 'sandstone'}),\n",
    "         Component({'lithology': 'greywacke'}),\n",
    "         Component({'lithology': 'shale'}), ]"
   ]
  },
  {
   "cell_type": "markdown",
   "metadata": {},
   "source": [
    "Make a striplog from the GR curve, using the cutoffs given as `cutoff = [10, 50]`. These cutoffs define 3 lithologies, whichi is what we're passing in as `comps`. There must be enough components for the intervals you're defining.\n",
    "\n",
    "If you don't provide `components`, you can provide `legend` instead; the components will be drawn from that. If you pass 'too many' components, they will be used in order and the 'extra' ones ignored.\n",
    "\n",
    "You have to pass in the depth/elevation basis as well, because no assumptions are made about the log's extent."
   ]
  },
  {
   "cell_type": "code",
   "execution_count": 96,
   "metadata": {},
   "outputs": [
    {
     "data": {
      "text/plain": [
       "Striplog(472 Intervals, start=1.0668, stop=1939.1376)"
      ]
     },
     "execution_count": 96,
     "metadata": {},
     "output_type": "execute_result"
    }
   ],
   "source": [
    "s = Striplog.from_log(gr, cutoff=[10, 50], components=comps, basis=z)\n",
    "s"
   ]
  },
  {
   "cell_type": "markdown",
   "metadata": {},
   "source": [
    "Now we can, say, remove the thin beds:"
   ]
  },
  {
   "cell_type": "code",
   "execution_count": 97,
   "metadata": {},
   "outputs": [
    {
     "data": {
      "text/plain": [
       "Striplog(472 Intervals, start=1.0668, stop=1939.1376)"
      ]
     },
     "execution_count": 97,
     "metadata": {},
     "output_type": "execute_result"
    }
   ],
   "source": [
    "s.prune(limit=5)\n",
    "s.anneal()\n",
    "s"
   ]
  },
  {
   "cell_type": "markdown",
   "metadata": {},
   "source": [
    "And then read the log back into the intervals, 'reducing' with a function if we want:"
   ]
  },
  {
   "cell_type": "code",
   "execution_count": 98,
   "metadata": {},
   "outputs": [],
   "source": [
    "s.extract(gr[2000:-2000], basis=z[2000:-2000], name='GR', function=np.mean)"
   ]
  },
  {
   "cell_type": "code",
   "execution_count": 99,
   "metadata": {},
   "outputs": [
    {
     "data": {
      "text/html": [
       "<table><tr><td style=\"width:2em; background-color:#DDDDDD\" rowspan=\"6\"></td><td><strong>top</strong></td><td>113.6904</td></tr><tr><td><strong>primary</strong></td><td><table><tr><td><strong>lithology</strong></td><td>greywacke</td></tr></table></td></tr><tr><td><strong>summary</strong></td><td>0.15 m of greywacke</td></tr><tr><td><strong>description</strong></td><td></td></tr><tr><td><strong>data</strong></td><td><table></table></td></tr><tr><td><strong>base</strong></td><td>113.8428</td></tr></table>"
      ],
      "text/plain": [
       "Interval({'top': Position({'middle': 113.6904, 'units': 'm'}), 'base': Position({'middle': 113.8428, 'units': 'm'}), 'description': '', 'data': {}, 'components': [Component({'lithology': 'greywacke'})]})"
      ]
     },
     "execution_count": 99,
     "metadata": {},
     "output_type": "execute_result"
    }
   ],
   "source": [
    "s[20]"
   ]
  },
  {
   "cell_type": "markdown",
   "metadata": {},
   "source": [
    "Now close the loop by exporting these values as a new log and comparing to the original. Since we reduced with `np.mean`, we will get a blocked log..."
   ]
  },
  {
   "cell_type": "code",
   "execution_count": 100,
   "metadata": {},
   "outputs": [],
   "source": [
    "g, gz, _ = s.to_log(field=\"GR\", start=500, stop=1500, return_meta=True)"
   ]
  },
  {
   "cell_type": "code",
   "execution_count": 101,
   "metadata": {},
   "outputs": [],
   "source": [
    "g2, gz2, _ = s.to_log(field=\"GR\", return_meta=True)"
   ]
  },
  {
   "cell_type": "code",
   "execution_count": 102,
   "metadata": {
    "scrolled": true
   },
   "outputs": [
    {
     "data": {
      "image/png": "[encoded data removed]",
      "text/plain": [
       "<Figure size 1152x216 with 1 Axes>"
      ]
     },
     "metadata": {
      "needs_background": "light"
     },
     "output_type": "display_data"
    }
   ],
   "source": [
    "plt.figure(figsize=(16,3))\n",
    "plt.plot(z, gr, color='lightblue')\n",
    "plt.plot(gz, g, lw=3, color='red')\n",
    "plt.plot(gz2, g2, lw=1, color='black')\n",
    "plt.show()"
   ]
  },
  {
   "cell_type": "markdown",
   "metadata": {},
   "source": [
    "## Another log to striplog"
   ]
  },
  {
   "cell_type": "code",
   "execution_count": 103,
   "metadata": {},
   "outputs": [],
   "source": [
    "a = np.array([1,1,1,1,1,3,2,2,2,2,3,2,2,2,2,2,2,2,1,1,1,1,0,0,0,0,0,2,3,3,3,3,3,3,10,2,2,2,2,2,2,10,10,10,10,2,2,2,2,2])"
   ]
  },
  {
   "cell_type": "code",
   "execution_count": 104,
   "metadata": {},
   "outputs": [],
   "source": [
    "z = np.linspace(100,200,50)"
   ]
  },
  {
   "cell_type": "code",
   "execution_count": 105,
   "metadata": {},
   "outputs": [],
   "source": [
    "s = Striplog.from_log(a, legend=legend[:5], basis=z)"
   ]
  },
  {
   "cell_type": "code",
   "execution_count": 106,
   "metadata": {},
   "outputs": [
    {
     "data": {
      "text/html": [
       "<table><tr><td style=\"width:2em; background-color:#DDDDDD\" rowspan=\"6\"></td><td><strong>top</strong></td><td>110.20408163265306</td></tr><tr><td><strong>primary</strong></td><td><table><tr><td><strong>lithology</strong></td><td>volcanic</td></tr></table></td></tr><tr><td><strong>summary</strong></td><td>2.04 m of volcanic</td></tr><tr><td><strong>description</strong></td><td></td></tr><tr><td><strong>data</strong></td><td><table></table></td></tr><tr><td><strong>base</strong></td><td>112.24489795918367</td></tr></table>"
      ],
      "text/plain": [
       "Interval({'top': Position({'middle': 110.20408163265306, 'units': 'm'}), 'base': Position({'middle': 112.24489795918367, 'units': 'm'}), 'description': '', 'data': {}, 'components': [Component({'lithology': 'volcanic'})]})"
      ]
     },
     "execution_count": 106,
     "metadata": {},
     "output_type": "execute_result"
    }
   ],
   "source": [
    "s[1]"
   ]
  },
  {
   "cell_type": "code",
   "execution_count": 108,
   "metadata": {},
   "outputs": [
    {
     "data": {
      "image/png": "[encoded data removed]",
      "text/plain": [
       "<Figure size 216x1440 with 2 Axes>"
      ]
     },
     "metadata": {
      "needs_background": "light"
     },
     "output_type": "display_data"
    }
   ],
   "source": [
    "fig, (ax0, ax1) = plt.subplots(1, 2, sharey=True, figsize=(3,20))\n",
    "\n",
    "# Use alpha to highlight overlaps.\n",
    "ax0 = s.plot(ax=ax0)\n",
    "ax1.plot(a, z, 'o-')\n",
    "\n",
    "ax0.set_title('Striplog')\n",
    "ax1.set_title('Log')\n",
    "\n",
    "ax1.set_ylim(200, 100)\n",
    "\n",
    "plt.show()"
   ]
  },
  {
   "cell_type": "markdown",
   "metadata": {},
   "source": [
    "<hr />\n",
    "\n",
    "## Histogram"
   ]
  },
  {
   "cell_type": "code",
   "execution_count": 110,
   "metadata": {},
   "outputs": [
    {
     "data": {
      "image/png": "[encoded data removed]",
      "text/plain": [
       "<Figure size 432x288 with 1 Axes>"
      ]
     },
     "metadata": {
      "needs_background": "light"
     },
     "output_type": "display_data"
    }
   ],
   "source": [
    "_ = strip.hist(legend=legend, rotation=-45, ha='left')"
   ]
  },
  {
   "cell_type": "markdown",
   "metadata": {},
   "source": [
    "<hr />\n",
    "\n",
    "## Crop a striplog"
   ]
  },
  {
   "cell_type": "code",
   "execution_count": 111,
   "metadata": {},
   "outputs": [
    {
     "data": {
      "text/plain": [
       "Striplog(13 Intervals, start=20.0, stop=100.0)"
      ]
     },
     "execution_count": 111,
     "metadata": {},
     "output_type": "execute_result"
    }
   ],
   "source": [
    "strip.crop((20, 100), copy=True)"
   ]
  },
  {
   "cell_type": "code",
   "execution_count": 112,
   "metadata": {},
   "outputs": [
    {
     "data": {
      "text/html": [
       "<table><tr><td style=\"width:2em; background-color:#DDDDDD\" rowspan=\"6\"></td><td><strong>top</strong></td><td>20.0</td></tr><tr><td><strong>primary</strong></td><td><table><tr><td><strong>lithology</strong></td><td>anhydrite</td></tr></table></td></tr><tr><td><strong>summary</strong></td><td>31.24 m of anhydrite</td></tr><tr><td><strong>description</strong></td><td></td></tr><tr><td><strong>data</strong></td><td><table><tr><td><strong>por</strong></td><td>0.052</td></tr><tr><td><strong>porosity</strong></td><td>[0.1672801  0.0977463  0.18818744]</td></tr></table></td></tr><tr><td><strong>base</strong></td><td>51.24117647058824</td></tr></table>"
      ],
      "text/plain": [
       "Interval({'top': Position({'middle': 20.0, 'units': 'm'}), 'base': Position({'middle': 51.24117647058824, 'units': 'm'}), 'description': '', 'data': {'por': 0.052, 'porosity': array([0.1672801 , 0.0977463 , 0.18818744])}, 'components': [Component({'lithology': 'anhydrite'})]})"
      ]
     },
     "execution_count": 112,
     "metadata": {},
     "output_type": "execute_result"
    }
   ],
   "source": [
    "strip.crop((20, 100))  # in place\n",
    "strip[0]"
   ]
  },
  {
   "cell_type": "markdown",
   "metadata": {},
   "source": [
    "**Limitation** — right now you cannot 'crop' to an extent larger than the current striplog. Maybe we should allow that, with padding... "
   ]
  },
  {
   "cell_type": "code",
   "execution_count": 113,
   "metadata": {},
   "outputs": [
    {
     "ename": "TypeError",
     "evalue": "list indices must be integers or slices, not NoneType",
     "output_type": "error",
     "traceback": [
      "\u001b[0;31m---------------------------------------------------------------------------\u001b[0m",
      "\u001b[0;31mTypeError\u001b[0m                                 Traceback (most recent call last)",
      "\u001b[0;32m<ipython-input-113-bf01d06c3af4>\u001b[0m in \u001b[0;36m<module>\u001b[0;34m\u001b[0m\n\u001b[0;32m----> 1\u001b[0;31m \u001b[0mstrip\u001b[0m\u001b[0;34m.\u001b[0m\u001b[0mcrop\u001b[0m\u001b[0;34m(\u001b[0m\u001b[0;34m(\u001b[0m\u001b[0;36m0\u001b[0m\u001b[0;34m,\u001b[0m \u001b[0;36m200\u001b[0m\u001b[0;34m)\u001b[0m\u001b[0;34m)\u001b[0m\u001b[0;34m\u001b[0m\u001b[0;34m\u001b[0m\u001b[0m\n\u001b[0m\u001b[1;32m      2\u001b[0m \u001b[0;34m\u001b[0m\u001b[0m\n\u001b[1;32m      3\u001b[0m \u001b[0;31m# This should result in an error:\u001b[0m\u001b[0;34m\u001b[0m\u001b[0;34m\u001b[0m\u001b[0;34m\u001b[0m\u001b[0m\n",
      "\u001b[0;32m~/anaconda3/envs/welly/lib/python3.8/site-packages/striplog/striplog.py\u001b[0m in \u001b[0;36mcrop\u001b[0;34m(self, extent, copy)\u001b[0m\n\u001b[1;32m   2302\u001b[0m         \u001b[0mlast_ix\u001b[0m \u001b[0;34m=\u001b[0m \u001b[0mself\u001b[0m\u001b[0;34m.\u001b[0m\u001b[0mread_at\u001b[0m\u001b[0;34m(\u001b[0m\u001b[0mextent\u001b[0m\u001b[0;34m[\u001b[0m\u001b[0;36m1\u001b[0m\u001b[0;34m]\u001b[0m\u001b[0;34m,\u001b[0m \u001b[0mindex\u001b[0m\u001b[0;34m=\u001b[0m\u001b[0;32mTrue\u001b[0m\u001b[0;34m)\u001b[0m\u001b[0;34m\u001b[0m\u001b[0;34m\u001b[0m\u001b[0m\n\u001b[1;32m   2303\u001b[0m \u001b[0;34m\u001b[0m\u001b[0m\n\u001b[0;32m-> 2304\u001b[0;31m         \u001b[0mfirst\u001b[0m \u001b[0;34m=\u001b[0m \u001b[0mself\u001b[0m\u001b[0;34m[\u001b[0m\u001b[0mfirst_ix\u001b[0m\u001b[0;34m]\u001b[0m\u001b[0;34m.\u001b[0m\u001b[0msplit_at\u001b[0m\u001b[0;34m(\u001b[0m\u001b[0mextent\u001b[0m\u001b[0;34m[\u001b[0m\u001b[0;36m0\u001b[0m\u001b[0;34m]\u001b[0m\u001b[0;34m)\u001b[0m\u001b[0;34m[\u001b[0m\u001b[0;36m1\u001b[0m\u001b[0;34m]\u001b[0m\u001b[0;34m\u001b[0m\u001b[0;34m\u001b[0m\u001b[0m\n\u001b[0m\u001b[1;32m   2305\u001b[0m         \u001b[0mlast\u001b[0m \u001b[0;34m=\u001b[0m \u001b[0mself\u001b[0m\u001b[0;34m[\u001b[0m\u001b[0mlast_ix\u001b[0m\u001b[0;34m]\u001b[0m\u001b[0;34m.\u001b[0m\u001b[0msplit_at\u001b[0m\u001b[0;34m(\u001b[0m\u001b[0mextent\u001b[0m\u001b[0;34m[\u001b[0m\u001b[0;36m1\u001b[0m\u001b[0;34m]\u001b[0m\u001b[0;34m)\u001b[0m\u001b[0;34m[\u001b[0m\u001b[0;36m0\u001b[0m\u001b[0;34m]\u001b[0m\u001b[0;34m\u001b[0m\u001b[0;34m\u001b[0m\u001b[0m\n\u001b[1;32m   2306\u001b[0m \u001b[0;34m\u001b[0m\u001b[0m\n",
      "\u001b[0;32m~/anaconda3/envs/welly/lib/python3.8/site-packages/striplog/striplog.py\u001b[0m in \u001b[0;36m__getitem__\u001b[0;34m(self, key)\u001b[0m\n\u001b[1;32m    134\u001b[0m                 \u001b[0;32mreturn\u001b[0m \u001b[0;32mNone\u001b[0m\u001b[0;34m\u001b[0m\u001b[0;34m\u001b[0m\u001b[0m\n\u001b[1;32m    135\u001b[0m         \u001b[0;32melse\u001b[0m\u001b[0;34m:\u001b[0m\u001b[0;34m\u001b[0m\u001b[0;34m\u001b[0m\u001b[0m\n\u001b[0;32m--> 136\u001b[0;31m             \u001b[0;32mreturn\u001b[0m \u001b[0mself\u001b[0m\u001b[0;34m.\u001b[0m\u001b[0m__list\u001b[0m\u001b[0;34m[\u001b[0m\u001b[0mkey\u001b[0m\u001b[0;34m]\u001b[0m\u001b[0;34m\u001b[0m\u001b[0;34m\u001b[0m\u001b[0m\n\u001b[0m\u001b[1;32m    137\u001b[0m \u001b[0;34m\u001b[0m\u001b[0m\n\u001b[1;32m    138\u001b[0m     \u001b[0;32mdef\u001b[0m \u001b[0m__delitem__\u001b[0m\u001b[0;34m(\u001b[0m\u001b[0mself\u001b[0m\u001b[0;34m,\u001b[0m \u001b[0mkey\u001b[0m\u001b[0;34m)\u001b[0m\u001b[0;34m:\u001b[0m\u001b[0;34m\u001b[0m\u001b[0;34m\u001b[0m\u001b[0m\n",
      "\u001b[0;31mTypeError\u001b[0m: list indices must be integers or slices, not NoneType"
     ]
    }
   ],
   "source": [
    "strip.crop((0, 200))\n",
    "\n",
    "# This should result in an error:"
   ]
  },
  {
   "cell_type": "markdown",
   "metadata": {},
   "source": [
    "<hr />\n",
    "\n",
    "## Graphical output formats\n",
    "\n",
    "You should be able to natively save any format. If `matplotlib` complains, try replacing your usual import with\n",
    "\n",
    "    import matplotlib\n",
    "    matplotlib.use('Agg')\n",
    "    import matplotlib.pyplot as plt\n",
    "    \n",
    "Or in Jupyter Notebook...\n",
    "\n",
    "    %matplotlib Agg\n",
    "    \n",
    "Then carry on as normal.\n",
    "\n",
    "You need the figure object to save the striplog plot, so set `return_fig` to `True`:"
   ]
  },
  {
   "cell_type": "code",
   "execution_count": 114,
   "metadata": {},
   "outputs": [
    {
     "data": {
      "image/png": "[encoded data removed]",
      "text/plain": [
       "<Figure size 108x1080 with 1 Axes>"
      ]
     },
     "metadata": {
      "needs_background": "light"
     },
     "output_type": "display_data"
    }
   ],
   "source": [
    "fig = strip.plot(return_fig=True)\n",
    "fig.savefig('test.png')\n",
    "fig.savefig('test.pdf')\n",
    "fig.savefig('test.svg')"
   ]
  },
  {
   "cell_type": "markdown",
   "metadata": {},
   "source": [
    "To find out which backend you are using:"
   ]
  },
  {
   "cell_type": "code",
   "execution_count": 115,
   "metadata": {},
   "outputs": [
    {
     "data": {
      "text/plain": [
       "'module://ipykernel.pylab.backend_inline'"
      ]
     },
     "execution_count": 115,
     "metadata": {},
     "output_type": "execute_result"
    }
   ],
   "source": [
    "import matplotlib\n",
    "matplotlib.get_backend()"
   ]
  },
  {
   "cell_type": "markdown",
   "metadata": {},
   "source": [
    "<hr />\n",
    "\n",
    "<p style=\"color:gray\">©2015 Agile Geoscience. Licensed CC-BY. <a href=\"https://github.com/agile-geoscience/striplog\">striplog.py</a></p>"
   ]
  }
 ],
 "metadata": {
  "kernelspec": {
   "display_name": "Python 3 (ipykernel)",
   "language": "python",
   "name": "python3"
  },
  "language_info": {
   "codemirror_mode": {
    "name": "ipython",
    "version": 3
   },
   "file_extension": ".py",
   "mimetype": "text/x-python",
   "name": "python",
   "nbconvert_exporter": "python",
   "pygments_lexer": "ipython3",
   "version": "3.9.7"
  }
 },
 "nbformat": 4,
 "nbformat_minor": 1
}
