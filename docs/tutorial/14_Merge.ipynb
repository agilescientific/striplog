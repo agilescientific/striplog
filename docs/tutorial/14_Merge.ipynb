{
 "cells": [
  {
   "cell_type": "markdown",
   "metadata": {},
   "source": [
    "# Striplog merge\n",
    "\n",
    "Imagine we have a Striplog with overlapping Interval. We would like to be able to merge the Intervals in this Striplog, while following some rules about priority. \n",
    "\n",
    "For example, imagine we have a striplog object, as shown below on the left. Note that the Intervals in the striplog have a `time` property, so I've 'exploded' that out along the horizontal axis so the Intervals don't all overlap in this display. The point is that they overlap in depth.\n",
    "\n",
    "<img src=\"./merging.png\" />\n",
    "\n",
    "**NB** This other property does not have to be time, it could be any property that we can use to make comparisons.\n",
    "\n",
    "**NB again** The 'mix' (blended) merges indicated in the figure have not been implemented yet."
   ]
  },
  {
   "cell_type": "markdown",
   "metadata": {},
   "source": [
    "## Make some data\n",
    "\n",
    "Let's make some striplogs that look like these..."
   ]
  },
  {
   "cell_type": "code",
   "execution_count": 1,
   "metadata": {},
   "outputs": [],
   "source": [
    "from striplog import Striplog\n",
    "\n",
    "csv = \"\"\"Top,Base,Comp Time,Comp Depth\n",
    "100,200,2,a\n",
    "110,120,1,b\n",
    "150,325,3,c\n",
    "210,225,1,d\n",
    "300,400,2,e\n",
    "350,375,3,f\n",
    "\"\"\"\n",
    "\n",
    "s = Striplog.from_csv(text=csv)"
   ]
  },
  {
   "cell_type": "markdown",
   "metadata": {},
   "source": [
    "Here's what the first Interval looks like:"
   ]
  },
  {
   "cell_type": "code",
   "execution_count": 2,
   "metadata": {},
   "outputs": [
    {
     "data": {
      "text/html": [
       "<table><tr><td style=\"width:2em; background-color:#DDDDDD\" rowspan=\"6\"></td><td><strong>top</strong></td><td>100.0</td></tr><tr><td><strong>primary</strong></td><td><table><tr><td><strong>time</strong></td><td>2.0</td></tr><tr><td><strong>depth</strong></td><td>a</td></tr></table></td></tr><tr><td><strong>summary</strong></td><td>100.00 m of 2.0, a</td></tr><tr><td><strong>description</strong></td><td></td></tr><tr><td><strong>data</strong></td><td><table></table></td></tr><tr><td><strong>base</strong></td><td>200.0</td></tr></table>"
      ],
      "text/plain": [
       "Interval({'top': Position({'middle': 100.0, 'units': 'm'}), 'base': Position({'middle': 200.0, 'units': 'm'}), 'description': '', 'data': {}, 'components': [Component({'time': 2.0, 'depth': 'a'})]})"
      ]
     },
     "execution_count": 2,
     "metadata": {},
     "output_type": "execute_result"
    }
   ],
   "source": [
    "s[0]"
   ]
  },
  {
   "cell_type": "markdown",
   "metadata": {},
   "source": [
    "We'll need a `Legend` so we can make nice plots:"
   ]
  },
  {
   "cell_type": "code",
   "execution_count": 3,
   "metadata": {},
   "outputs": [],
   "source": [
    "from striplog import Legend\n",
    "\n",
    "# Data for legend (for display)...\n",
    "leg_csv = \"\"\"Colour,Comp Depth\n",
    "red,a\n",
    "orange,b\n",
    "limegreen,c\n",
    "cyan,d\n",
    "blue,e\n",
    "magenta,f\n",
    "\"\"\"\n",
    "\n",
    "legend = Legend.from_csv(text=leg_csv)"
   ]
  },
  {
   "cell_type": "markdown",
   "metadata": {},
   "source": [
    "Now we can make a plot. I'll make the Intervals semi-transparent so you can see how they overlap:"
   ]
  },
  {
   "cell_type": "code",
   "execution_count": 4,
   "metadata": {},
   "outputs": [
    {
     "data": {
      "image/png": "[encoded data removed]",
      "text/plain": [
       "<Figure size 108x324 with 1 Axes>"
      ]
     },
     "metadata": {
      "needs_background": "light"
     },
     "output_type": "display_data"
    }
   ],
   "source": [
    "s.plot(legend=legend, lw=1, aspect=3, alpha=0.35)"
   ]
  },
  {
   "cell_type": "markdown",
   "metadata": {},
   "source": [
    "It's not all that pretty, but we can also plot each time separately as in the figure we started with:"
   ]
  },
  {
   "cell_type": "code",
   "execution_count": 5,
   "metadata": {},
   "outputs": [
    {
     "data": {
      "text/plain": [
       "(420, 80)"
      ]
     },
     "execution_count": 5,
     "metadata": {},
     "output_type": "execute_result"
    },
    {
     "data": {
      "image/png": "[encoded data removed]",
      "text/plain": [
       "<Figure size 576x576 with 3 Axes>"
      ]
     },
     "metadata": {
      "needs_background": "light"
     },
     "output_type": "display_data"
    }
   ],
   "source": [
    "import matplotlib.pyplot as plt\n",
    "\n",
    "fig, (ax0, ax1, ax2) = plt.subplots(ncols=3, sharey=True, figsize=(8, 8))\n",
    "s.find('1.0').plot(legend=legend, ax=ax0)\n",
    "s.find('2.0').plot(legend=legend, ax=ax1)\n",
    "s.find('3.0').plot(legend=legend, ax=ax2)\n",
    "plt.ylim(420, 80)"
   ]
  },
  {
   "cell_type": "markdown",
   "metadata": {},
   "source": [
    "## Merge\n",
    "\n",
    "We'd like to merge the Intervals so that everything retains depth order of course, but we want a few options about which Intervals should 'win' when there are several Intervals overlapping. For example, when looking at a particular depth, do we want to retain the Interval with the shallowest top? Or the deepest base? Or the greatest thickess? Or the one from the latest `time`?"
   ]
  },
  {
   "cell_type": "code",
   "execution_count": 6,
   "metadata": {},
   "outputs": [
    {
     "data": {
      "text/html": [
       "<table><tr><td style=\"width:2em; background-color:#DDDDDD\" rowspan=\"6\"></td><td><strong>top</strong></td><td>100.0</td></tr><tr><td><strong>primary</strong></td><td><table><tr><td><strong>time</strong></td><td>2.0</td></tr><tr><td><strong>depth</strong></td><td>a</td></tr></table></td></tr><tr><td><strong>summary</strong></td><td>100.00 m of 2.0, a</td></tr><tr><td><strong>description</strong></td><td></td></tr><tr><td><strong>data</strong></td><td><table></table></td></tr><tr><td><strong>base</strong></td><td>200.0</td></tr></table>"
      ],
      "text/plain": [
       "Interval({'top': Position({'middle': 100.0, 'units': 'm'}), 'base': Position({'middle': 200.0, 'units': 'm'}), 'description': '', 'data': {}, 'components': [Component({'time': 2.0, 'depth': 'a'})]})"
      ]
     },
     "execution_count": 6,
     "metadata": {},
     "output_type": "execute_result"
    }
   ],
   "source": [
    "s[0]"
   ]
  },
  {
   "cell_type": "markdown",
   "metadata": {},
   "source": [
    "So if we merge using `top` as a priority, we'll get whichever Interval has the greatest (deepest) `top` at any given depth:"
   ]
  },
  {
   "cell_type": "code",
   "execution_count": 7,
   "metadata": {},
   "outputs": [
    {
     "data": {
      "image/png": "[encoded data removed]",
      "text/plain": [
       "<Figure size 108x324 with 1 Axes>"
      ]
     },
     "metadata": {
      "needs_background": "light"
     },
     "output_type": "display_data"
    }
   ],
   "source": [
    "s.merge('top').plot(legend=legend, aspect=3)"
   ]
  },
  {
   "cell_type": "markdown",
   "metadata": {},
   "source": [
    "If we use `reverse=True` then we get whichever has the shallowest top:"
   ]
  },
  {
   "cell_type": "code",
   "execution_count": 8,
   "metadata": {},
   "outputs": [
    {
     "data": {
      "image/png": "[encoded data removed]",
      "text/plain": [
       "<Figure size 108x324 with 1 Axes>"
      ]
     },
     "metadata": {
      "needs_background": "light"
     },
     "output_type": "display_data"
    }
   ],
   "source": [
    "s.merge('top', reverse=True).plot(legend=legend, aspect=3)"
   ]
  },
  {
   "cell_type": "markdown",
   "metadata": {},
   "source": [
    "## Thickness priority\n",
    "\n",
    "What if we want to keep the thickest bed at any given depth?"
   ]
  },
  {
   "cell_type": "code",
   "execution_count": 9,
   "metadata": {},
   "outputs": [
    {
     "data": {
      "image/png": "[encoded data removed]",
      "text/plain": [
       "<Figure size 108x324 with 1 Axes>"
      ]
     },
     "metadata": {
      "needs_background": "light"
     },
     "output_type": "display_data"
    }
   ],
   "source": [
    "s.merge('thickness').plot(legend=legend, aspect=3)"
   ]
  },
  {
   "cell_type": "markdown",
   "metadata": {},
   "source": [
    "Or the thinnest bed?"
   ]
  },
  {
   "cell_type": "code",
   "execution_count": 10,
   "metadata": {},
   "outputs": [
    {
     "data": {
      "image/png": "[encoded data removed]",
      "text/plain": [
       "<Figure size 108x324 with 1 Axes>"
      ]
     },
     "metadata": {
      "needs_background": "light"
     },
     "output_type": "display_data"
    }
   ],
   "source": [
    "s.merge('thickness', reverse=True).plot(legend=legend, aspect=3)"
   ]
  },
  {
   "cell_type": "markdown",
   "metadata": {},
   "source": [
    "## Using the other attribute\n",
    "\n",
    "Remember we also have the time attribute? We could use that... we'll end up with which bed has the greatest (i.e. latest) top:"
   ]
  },
  {
   "cell_type": "code",
   "execution_count": 11,
   "metadata": {},
   "outputs": [
    {
     "data": {
      "image/png": "[encoded data removed]",
      "text/plain": [
       "<Figure size 108x324 with 1 Axes>"
      ]
     },
     "metadata": {
      "needs_background": "light"
     },
     "output_type": "display_data"
    }
   ],
   "source": [
    "s.merge('time').plot(legend=legend, aspect=3)"
   ]
  },
  {
   "cell_type": "markdown",
   "metadata": {},
   "source": [
    "...or earliest:"
   ]
  },
  {
   "cell_type": "code",
   "execution_count": 12,
   "metadata": {},
   "outputs": [
    {
     "data": {
      "image/png": "[encoded data removed]",
      "text/plain": [
       "<Figure size 108x324 with 1 Axes>"
      ]
     },
     "metadata": {
      "needs_background": "light"
     },
     "output_type": "display_data"
    }
   ],
   "source": [
    "s.merge('time', reverse=True).plot(legend=legend, aspect=3)"
   ]
  },
  {
   "cell_type": "markdown",
   "metadata": {},
   "source": [
    "## Real data example\n",
    "\n",
    "Intervals are perforations. Many of them overlap. They all have datetimes. For a given depth, we want to keep the _latest_ perforation."
   ]
  },
  {
   "cell_type": "code",
   "execution_count": 13,
   "metadata": {},
   "outputs": [],
   "source": [
    "from striplog import Striplog\n",
    "\n",
    "remap = {'bottom':'base','type':'comp type'}\n",
    "s = Striplog.from_csv(\"og815.csv\", remap=remap)"
   ]
  },
  {
   "cell_type": "code",
   "execution_count": 14,
   "metadata": {},
   "outputs": [],
   "source": [
    "from datetime import datetime\n",
    "\n",
    "for iv in s:\n",
    "    iv.primary.date = datetime.fromisoformat(iv.data['date'])"
   ]
  },
  {
   "cell_type": "code",
   "execution_count": 15,
   "metadata": {},
   "outputs": [
    {
     "data": {
      "text/html": [
       "<table><tr><td style=\"width:2em; background-color:#DDDDDD\" rowspan=\"6\"></td><td><strong>top</strong></td><td>1992.0</td></tr><tr><td><strong>primary</strong></td><td><table><tr><td><strong>type</strong></td><td>perforation</td></tr><tr><td><strong>date</strong></td><td>2008-06-23 00:00:00</td></tr></table></td></tr><tr><td><strong>summary</strong></td><td>13.00 m of perforation, 2008-06-23 00:00:00</td></tr><tr><td><strong>description</strong></td><td></td></tr><tr><td><strong>data</strong></td><td><table><tr><td><strong></strong></td><td>37.0</td></tr><tr><td><strong>wells</strong></td><td>OG-815</td></tr><tr><td><strong>date</strong></td><td>2008-06-23</td></tr></table></td></tr><tr><td><strong>base</strong></td><td>2005.0</td></tr></table>"
      ],
      "text/plain": [
       "Interval({'top': Position({'middle': 1992.0, 'units': 'm'}), 'base': Position({'middle': 2005.0, 'units': 'm'}), 'description': '', 'data': {'': 37.0, 'wells': 'OG-815', 'date': '2008-06-23'}, 'components': [Component({'type': 'perforation', 'date': datetime.datetime(2008, 6, 23, 0, 0)})]})"
      ]
     },
     "execution_count": 15,
     "metadata": {},
     "output_type": "execute_result"
    }
   ],
   "source": [
    "s[1]"
   ]
  },
  {
   "cell_type": "code",
   "execution_count": 16,
   "metadata": {},
   "outputs": [
    {
     "data": {
      "image/png": "[encoded data removed]",
      "text/plain": [
       "<Figure size 108x1080 with 1 Axes>"
      ]
     },
     "metadata": {
      "needs_background": "light"
     },
     "output_type": "display_data"
    }
   ],
   "source": [
    "s.plot(alpha=0.25)"
   ]
  },
  {
   "cell_type": "markdown",
   "metadata": {},
   "source": [
    "### Merge the perfs\n",
    "\n",
    "Now we can merge based on date:"
   ]
  },
  {
   "cell_type": "code",
   "execution_count": 17,
   "metadata": {
    "scrolled": true
   },
   "outputs": [],
   "source": [
    "sm = s.merge('date')"
   ]
  },
  {
   "cell_type": "code",
   "execution_count": 18,
   "metadata": {},
   "outputs": [],
   "source": [
    "leg = \"\"\"colour,comp type\n",
    "limegreen,perforation\n",
    "red,squeeze\"\"\""
   ]
  },
  {
   "cell_type": "code",
   "execution_count": 19,
   "metadata": {},
   "outputs": [
    {
     "data": {
      "image/png": "[encoded data removed]",
      "text/plain": [
       "<Figure size 108x540 with 1 Axes>"
      ]
     },
     "metadata": {
      "needs_background": "light"
     },
     "output_type": "display_data"
    }
   ],
   "source": [
    "from striplog import Legend\n",
    "\n",
    "legend = Legend.from_csv(text=leg)\n",
    "\n",
    "sm.plot(legend, lw=1, aspect=5)"
   ]
  },
  {
   "cell_type": "code",
   "execution_count": 20,
   "metadata": {},
   "outputs": [],
   "source": [
    "sm.find_overlaps()"
   ]
  },
  {
   "cell_type": "markdown",
   "metadata": {},
   "source": [
    "There are none, that's good!\n",
    "\n",
    "## Export to Petrel"
   ]
  },
  {
   "cell_type": "code",
   "execution_count": 21,
   "metadata": {},
   "outputs": [
    {
     "name": "stdout",
     "output_type": "stream",
     "text": [
      "Top,Base,Component\r\n",
      "1986.0,1992.0,\"Perforation, 2008-06-24 00:00:00\"\r\n",
      "1992.0,1995.0,\"Perforation, 2008-06-23 00:00:00\"\r\n",
      "1995.0,2000.0,\"Perforation, 2015-11-14 00:00:00\"\r\n",
      "2000.0,2010.0,\"Perforation, 2018-07-31 00:00:00\"\r\n",
      "2018.0,2023.0,\"Perforation, 2009-10-23 00:00:00\"\r\n",
      "2037.0,2053.0,\"Perforation, 2009-10-23 00:00:00\"\r\n",
      "2100.0,2105.0,\"Perforation, 2018-07-31 00:00:00\"\r\n",
      "2112.0,2119.0,\"Perforation, 2008-04-28 00:00:00\"\r\n",
      "2119.0,2127.0,\"Perforation, 2008-04-28 00:00:00\"\r\n",
      "2132.0,2136.0,\"Perforation, 2012-05-30 00:00:00\"\r\n",
      "2136.0,2141.0,\"Perforation, 2002-06-05 00:00:00\"\r\n",
      "2180.0,2189.0,\"Perforation, 2015-11-14 00:00:00\"\r\n",
      "2189.0,2195.0,\"Perforation, 2015-11-13 00:00:00\"\r\n",
      "2243.0,2245.0,\"Perforation, 2012-05-29 00:00:00\"\r\n",
      "2245.0,2246.0,\"Squeeze, 2008-04-28 00:00:00\"\r\n",
      "2246.0,2250.0,\"Squeeze, 2002-06-03 00:00:00\"\r\n",
      "2255.0,2266.0,\"Squeeze, 2008-04-28 00:00:00\"\r\n",
      "2266.0,2270.0,\"Squeeze, 2002-06-03 00:00:00\"\r\n",
      "2292.0,2298.0,\"Squeeze, 2002-06-03 00:00:00\"\r\n",
      "2310.0,2320.0,\"Squeeze, 2002-06-03 00:00:00\"\r\n",
      "2344.0,2348.0,\"Squeeze, 1976-05-28 00:00:00\"\r\n",
      "2352.0,2362.0,\"Squeeze, 1976-05-28 00:00:00\"\r\n",
      "2369.0,2374.0,\"Squeeze, 1976-05-25 00:00:00\"\r\n",
      "2426.0,2431.0,\"Perforation, 1972-10-21 00:00:00\"\r\n",
      "2431.0,2439.0,\"Perforation, 1972-10-30 00:00:00\"\r\n",
      "\n"
     ]
    }
   ],
   "source": [
    "print(sm.to_csv())"
   ]
  },
  {
   "cell_type": "markdown",
   "metadata": {},
   "source": [
    "This isn't quite right for Petrel.\n",
    "\n",
    "Let's make another format."
   ]
  },
  {
   "cell_type": "code",
   "execution_count": 22,
   "metadata": {},
   "outputs": [],
   "source": [
    "def _to_petrel_csv(strip, attr, null):\n",
    "    \"\"\"\n",
    "    Make Petrel-ready CSV text for a striplog\n",
    "    \"\"\"\n",
    "    csv = \"\"\n",
    "    gap_top = 0\n",
    "    for iv in strip.merge_neighbours():\n",
    "        if iv.top.middle != gap_top:\n",
    "            csv += f\"{gap_top},{null}\\n\"\n",
    "        csv += f\"{iv.top.middle},{getattr(iv.primary, attr)}\\n\"\n",
    "        gap_top = iv.base.middle\n",
    "    csv += f\"{iv.base.middle},{null}\\n\"\n",
    "    return csv\n",
    "\n",
    "def to_petrel(fname, strip, attr, null=None):\n",
    "    \"\"\"\n",
    "    Make a Petrel-ready CSV file.\n",
    "    \n",
    "    Args\n",
    "        fname (str): the filename, including extension\n",
    "        strip (Striplog): the striplog\n",
    "        null (str): what to use for nulls\n",
    "        \n",
    "    Returns\n",
    "        None (writes file as side effect)\n",
    "    \"\"\"\n",
    "    if null is None:\n",
    "        null = \"-999.25\"\n",
    "    with open(fname, 'w') as f:\n",
    "        f.write(_to_petrel_csv(strip, attr, null))\n",
    "    return"
   ]
  },
  {
   "cell_type": "code",
   "execution_count": 23,
   "metadata": {},
   "outputs": [
    {
     "name": "stdout",
     "output_type": "stream",
     "text": [
      "0,-999.25\n",
      "1986.0,perforation\n",
      "2010.0,-999.25\n",
      "2018.0,perforation\n",
      "2023.0,-999.25\n",
      "2037.0,perforation\n",
      "2053.0,-999.25\n",
      "2100.0,perforation\n",
      "2105.0,-999.25\n",
      "2112.0,perforation\n",
      "2127.0,-999.25\n",
      "2132.0,perforation\n",
      "2141.0,-999.25\n",
      "2180.0,perforation\n",
      "2195.0,-999.25\n",
      "2243.0,perforation\n",
      "2245.0,squeeze\n",
      "2250.0,-999.25\n",
      "2255.0,squeeze\n",
      "2270.0,-999.25\n",
      "2292.0,squeeze\n",
      "2298.0,-999.25\n",
      "2310.0,squeeze\n",
      "2320.0,-999.25\n",
      "2344.0,squeeze\n",
      "2348.0,-999.25\n",
      "2352.0,squeeze\n",
      "2362.0,-999.25\n",
      "2369.0,squeeze\n",
      "2374.0,-999.25\n",
      "2426.0,perforation\n",
      "2439.0,-999.25\n",
      "\n"
     ]
    }
   ],
   "source": [
    "print(_to_petrel_csv(sm, attr='type', null=-999.25))"
   ]
  },
  {
   "cell_type": "code",
   "execution_count": 24,
   "metadata": {},
   "outputs": [],
   "source": [
    "to_petrel(\"well_for_petrel.csv\", sm, attr='type')"
   ]
  },
  {
   "cell_type": "markdown",
   "metadata": {},
   "source": [
    "---\n",
    "\n",
    "&copy; 2020 Agile Scientific, licenced CC-BY"
   ]
  }
 ],
 "metadata": {
  "kernelspec": {
   "display_name": "welly",
   "language": "python",
   "name": "welly"
  },
  "language_info": {
   "codemirror_mode": {
    "name": "ipython",
    "version": 3
   },
   "file_extension": ".py",
   "mimetype": "text/x-python",
   "name": "python",
   "nbconvert_exporter": "python",
   "pygments_lexer": "ipython3",
   "version": "3.8.0"
  }
 },
 "nbformat": 4,
 "nbformat_minor": 2
}
